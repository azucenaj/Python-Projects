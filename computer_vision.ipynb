{
  "cells": [
    {
      "cell_type": "code",
      "execution_count": null,
      "metadata": {
        "id": "LwXIhCkObqxD"
      },
      "outputs": [],
      "source": [
        "import torch\n",
        "from torch import nn\n",
        "\n",
        "import torchvision\n",
        "from torchvision import datasets\n",
        "from torchvision import transforms\n",
        "from torchvision.transforms import ToTensor\n",
        "\n",
        "import matplotlib.pyplot as plt\n"
      ]
    },
    {
      "cell_type": "code",
      "execution_count": null,
      "metadata": {
        "id": "x1nFTZ3FfKEw"
      },
      "outputs": [],
      "source": [
        "from torchvision import datasets\n",
        "train_data = datasets.FashionMNIST(\n",
        "    root='data',\n",
        "    train=True,\n",
        "    download=True,\n",
        "    transform=torchvision.transforms.ToTensor(),\n",
        "    target_transform=None\n",
        ")\n",
        "\n",
        "test_data = datasets.FashionMNIST(\n",
        "    root='data',\n",
        "    train=False,\n",
        "    download=True,\n",
        "    transform=ToTensor(),\n",
        "    target_transform=None\n",
        ")"
      ]
    },
    {
      "cell_type": "code",
      "execution_count": null,
      "metadata": {
        "colab": {
          "base_uri": "https://localhost:8080/"
        },
        "id": "6Mxx7BjSgZnY",
        "outputId": "7585cb8b-302d-4b3d-9a42-ba3e9c0e2a6c"
      },
      "outputs": [
        {
          "output_type": "execute_result",
          "data": {
            "text/plain": [
              "(60000, 10000)"
            ]
          },
          "metadata": {},
          "execution_count": 24
        }
      ],
      "source": [
        "len(train_data), len(test_data)"
      ]
    },
    {
      "cell_type": "code",
      "execution_count": null,
      "metadata": {
        "colab": {
          "base_uri": "https://localhost:8080/"
        },
        "id": "vdmvMuJmg_eO",
        "outputId": "47d4742a-71fc-41ec-e057-d6f35614187b"
      },
      "outputs": [
        {
          "output_type": "execute_result",
          "data": {
            "text/plain": [
              "(tensor([[[0.0000, 0.0000, 0.0000, 0.0000, 0.0000, 0.0000, 0.0000, 0.0000,\n",
              "           0.0000, 0.0000, 0.0000, 0.0000, 0.0000, 0.0000, 0.0000, 0.0000,\n",
              "           0.0000, 0.0000, 0.0000, 0.0000, 0.0000, 0.0000, 0.0000, 0.0000,\n",
              "           0.0000, 0.0000, 0.0000, 0.0000],\n",
              "          [0.0000, 0.0000, 0.0000, 0.0000, 0.0000, 0.0000, 0.0000, 0.0000,\n",
              "           0.0000, 0.0000, 0.0000, 0.0000, 0.0000, 0.0000, 0.0000, 0.0000,\n",
              "           0.0000, 0.0000, 0.0000, 0.0000, 0.0000, 0.0000, 0.0000, 0.0000,\n",
              "           0.0000, 0.0000, 0.0000, 0.0000],\n",
              "          [0.0000, 0.0000, 0.0000, 0.0000, 0.0000, 0.0000, 0.0000, 0.0000,\n",
              "           0.0000, 0.0000, 0.0000, 0.0000, 0.0000, 0.0000, 0.0000, 0.0000,\n",
              "           0.0000, 0.0000, 0.0000, 0.0000, 0.0000, 0.0000, 0.0000, 0.0000,\n",
              "           0.0000, 0.0000, 0.0000, 0.0000],\n",
              "          [0.0000, 0.0000, 0.0000, 0.0000, 0.0000, 0.0000, 0.0000, 0.0000,\n",
              "           0.0000, 0.0000, 0.0000, 0.0000, 0.0039, 0.0000, 0.0000, 0.0510,\n",
              "           0.2863, 0.0000, 0.0000, 0.0039, 0.0157, 0.0000, 0.0000, 0.0000,\n",
              "           0.0000, 0.0039, 0.0039, 0.0000],\n",
              "          [0.0000, 0.0000, 0.0000, 0.0000, 0.0000, 0.0000, 0.0000, 0.0000,\n",
              "           0.0000, 0.0000, 0.0000, 0.0000, 0.0118, 0.0000, 0.1412, 0.5333,\n",
              "           0.4980, 0.2431, 0.2118, 0.0000, 0.0000, 0.0000, 0.0039, 0.0118,\n",
              "           0.0157, 0.0000, 0.0000, 0.0118],\n",
              "          [0.0000, 0.0000, 0.0000, 0.0000, 0.0000, 0.0000, 0.0000, 0.0000,\n",
              "           0.0000, 0.0000, 0.0000, 0.0000, 0.0235, 0.0000, 0.4000, 0.8000,\n",
              "           0.6902, 0.5255, 0.5647, 0.4824, 0.0902, 0.0000, 0.0000, 0.0000,\n",
              "           0.0000, 0.0471, 0.0392, 0.0000],\n",
              "          [0.0000, 0.0000, 0.0000, 0.0000, 0.0000, 0.0000, 0.0000, 0.0000,\n",
              "           0.0000, 0.0000, 0.0000, 0.0000, 0.0000, 0.0000, 0.6078, 0.9255,\n",
              "           0.8118, 0.6980, 0.4196, 0.6118, 0.6314, 0.4275, 0.2510, 0.0902,\n",
              "           0.3020, 0.5098, 0.2824, 0.0588],\n",
              "          [0.0000, 0.0000, 0.0000, 0.0000, 0.0000, 0.0000, 0.0000, 0.0000,\n",
              "           0.0000, 0.0000, 0.0000, 0.0039, 0.0000, 0.2706, 0.8118, 0.8745,\n",
              "           0.8549, 0.8471, 0.8471, 0.6392, 0.4980, 0.4745, 0.4784, 0.5725,\n",
              "           0.5529, 0.3451, 0.6745, 0.2588],\n",
              "          [0.0000, 0.0000, 0.0000, 0.0000, 0.0000, 0.0000, 0.0000, 0.0000,\n",
              "           0.0000, 0.0039, 0.0039, 0.0039, 0.0000, 0.7843, 0.9098, 0.9098,\n",
              "           0.9137, 0.8980, 0.8745, 0.8745, 0.8431, 0.8353, 0.6431, 0.4980,\n",
              "           0.4824, 0.7686, 0.8980, 0.0000],\n",
              "          [0.0000, 0.0000, 0.0000, 0.0000, 0.0000, 0.0000, 0.0000, 0.0000,\n",
              "           0.0000, 0.0000, 0.0000, 0.0000, 0.0000, 0.7176, 0.8824, 0.8471,\n",
              "           0.8745, 0.8941, 0.9216, 0.8902, 0.8784, 0.8706, 0.8784, 0.8667,\n",
              "           0.8745, 0.9608, 0.6784, 0.0000],\n",
              "          [0.0000, 0.0000, 0.0000, 0.0000, 0.0000, 0.0000, 0.0000, 0.0000,\n",
              "           0.0000, 0.0000, 0.0000, 0.0000, 0.0000, 0.7569, 0.8941, 0.8549,\n",
              "           0.8353, 0.7765, 0.7059, 0.8314, 0.8235, 0.8275, 0.8353, 0.8745,\n",
              "           0.8627, 0.9529, 0.7922, 0.0000],\n",
              "          [0.0000, 0.0000, 0.0000, 0.0000, 0.0000, 0.0000, 0.0000, 0.0000,\n",
              "           0.0000, 0.0039, 0.0118, 0.0000, 0.0471, 0.8588, 0.8627, 0.8314,\n",
              "           0.8549, 0.7529, 0.6627, 0.8902, 0.8157, 0.8549, 0.8784, 0.8314,\n",
              "           0.8863, 0.7725, 0.8196, 0.2039],\n",
              "          [0.0000, 0.0000, 0.0000, 0.0000, 0.0000, 0.0000, 0.0000, 0.0000,\n",
              "           0.0000, 0.0000, 0.0235, 0.0000, 0.3882, 0.9569, 0.8706, 0.8627,\n",
              "           0.8549, 0.7961, 0.7765, 0.8667, 0.8431, 0.8353, 0.8706, 0.8627,\n",
              "           0.9608, 0.4667, 0.6549, 0.2196],\n",
              "          [0.0000, 0.0000, 0.0000, 0.0000, 0.0000, 0.0000, 0.0000, 0.0000,\n",
              "           0.0000, 0.0157, 0.0000, 0.0000, 0.2157, 0.9255, 0.8941, 0.9020,\n",
              "           0.8941, 0.9412, 0.9098, 0.8353, 0.8549, 0.8745, 0.9176, 0.8510,\n",
              "           0.8510, 0.8196, 0.3608, 0.0000],\n",
              "          [0.0000, 0.0000, 0.0039, 0.0157, 0.0235, 0.0275, 0.0078, 0.0000,\n",
              "           0.0000, 0.0000, 0.0000, 0.0000, 0.9294, 0.8863, 0.8510, 0.8745,\n",
              "           0.8706, 0.8588, 0.8706, 0.8667, 0.8471, 0.8745, 0.8980, 0.8431,\n",
              "           0.8549, 1.0000, 0.3020, 0.0000],\n",
              "          [0.0000, 0.0118, 0.0000, 0.0000, 0.0000, 0.0000, 0.0000, 0.0000,\n",
              "           0.0000, 0.2431, 0.5686, 0.8000, 0.8941, 0.8118, 0.8353, 0.8667,\n",
              "           0.8549, 0.8157, 0.8275, 0.8549, 0.8784, 0.8745, 0.8588, 0.8431,\n",
              "           0.8784, 0.9569, 0.6235, 0.0000],\n",
              "          [0.0000, 0.0000, 0.0000, 0.0000, 0.0706, 0.1725, 0.3216, 0.4196,\n",
              "           0.7412, 0.8941, 0.8627, 0.8706, 0.8510, 0.8863, 0.7843, 0.8039,\n",
              "           0.8275, 0.9020, 0.8784, 0.9176, 0.6902, 0.7373, 0.9804, 0.9725,\n",
              "           0.9137, 0.9333, 0.8431, 0.0000],\n",
              "          [0.0000, 0.2235, 0.7333, 0.8157, 0.8784, 0.8667, 0.8784, 0.8157,\n",
              "           0.8000, 0.8392, 0.8157, 0.8196, 0.7843, 0.6235, 0.9608, 0.7569,\n",
              "           0.8078, 0.8745, 1.0000, 1.0000, 0.8667, 0.9176, 0.8667, 0.8275,\n",
              "           0.8627, 0.9098, 0.9647, 0.0000],\n",
              "          [0.0118, 0.7922, 0.8941, 0.8784, 0.8667, 0.8275, 0.8275, 0.8392,\n",
              "           0.8039, 0.8039, 0.8039, 0.8627, 0.9412, 0.3137, 0.5882, 1.0000,\n",
              "           0.8980, 0.8667, 0.7373, 0.6039, 0.7490, 0.8235, 0.8000, 0.8196,\n",
              "           0.8706, 0.8941, 0.8824, 0.0000],\n",
              "          [0.3843, 0.9137, 0.7765, 0.8235, 0.8706, 0.8980, 0.8980, 0.9176,\n",
              "           0.9765, 0.8627, 0.7608, 0.8431, 0.8510, 0.9451, 0.2549, 0.2863,\n",
              "           0.4157, 0.4588, 0.6588, 0.8588, 0.8667, 0.8431, 0.8510, 0.8745,\n",
              "           0.8745, 0.8784, 0.8980, 0.1137],\n",
              "          [0.2941, 0.8000, 0.8314, 0.8000, 0.7569, 0.8039, 0.8275, 0.8824,\n",
              "           0.8471, 0.7255, 0.7725, 0.8078, 0.7765, 0.8353, 0.9412, 0.7647,\n",
              "           0.8902, 0.9608, 0.9373, 0.8745, 0.8549, 0.8314, 0.8196, 0.8706,\n",
              "           0.8627, 0.8667, 0.9020, 0.2627],\n",
              "          [0.1882, 0.7961, 0.7176, 0.7608, 0.8353, 0.7725, 0.7255, 0.7451,\n",
              "           0.7608, 0.7529, 0.7922, 0.8392, 0.8588, 0.8667, 0.8627, 0.9255,\n",
              "           0.8824, 0.8471, 0.7804, 0.8078, 0.7294, 0.7098, 0.6941, 0.6745,\n",
              "           0.7098, 0.8039, 0.8078, 0.4510],\n",
              "          [0.0000, 0.4784, 0.8588, 0.7569, 0.7020, 0.6706, 0.7176, 0.7686,\n",
              "           0.8000, 0.8235, 0.8353, 0.8118, 0.8275, 0.8235, 0.7843, 0.7686,\n",
              "           0.7608, 0.7490, 0.7647, 0.7490, 0.7765, 0.7529, 0.6902, 0.6118,\n",
              "           0.6549, 0.6941, 0.8235, 0.3608],\n",
              "          [0.0000, 0.0000, 0.2902, 0.7412, 0.8314, 0.7490, 0.6863, 0.6745,\n",
              "           0.6863, 0.7098, 0.7255, 0.7373, 0.7412, 0.7373, 0.7569, 0.7765,\n",
              "           0.8000, 0.8196, 0.8235, 0.8235, 0.8275, 0.7373, 0.7373, 0.7608,\n",
              "           0.7529, 0.8471, 0.6667, 0.0000],\n",
              "          [0.0078, 0.0000, 0.0000, 0.0000, 0.2588, 0.7843, 0.8706, 0.9294,\n",
              "           0.9373, 0.9490, 0.9647, 0.9529, 0.9569, 0.8667, 0.8627, 0.7569,\n",
              "           0.7490, 0.7020, 0.7137, 0.7137, 0.7098, 0.6902, 0.6510, 0.6588,\n",
              "           0.3882, 0.2275, 0.0000, 0.0000],\n",
              "          [0.0000, 0.0000, 0.0000, 0.0000, 0.0000, 0.0000, 0.0000, 0.1569,\n",
              "           0.2392, 0.1725, 0.2824, 0.1608, 0.1373, 0.0000, 0.0000, 0.0000,\n",
              "           0.0000, 0.0000, 0.0000, 0.0000, 0.0000, 0.0000, 0.0000, 0.0000,\n",
              "           0.0000, 0.0000, 0.0000, 0.0000],\n",
              "          [0.0000, 0.0000, 0.0000, 0.0000, 0.0000, 0.0000, 0.0000, 0.0000,\n",
              "           0.0000, 0.0000, 0.0000, 0.0000, 0.0000, 0.0000, 0.0000, 0.0000,\n",
              "           0.0000, 0.0000, 0.0000, 0.0000, 0.0000, 0.0000, 0.0000, 0.0000,\n",
              "           0.0000, 0.0000, 0.0000, 0.0000],\n",
              "          [0.0000, 0.0000, 0.0000, 0.0000, 0.0000, 0.0000, 0.0000, 0.0000,\n",
              "           0.0000, 0.0000, 0.0000, 0.0000, 0.0000, 0.0000, 0.0000, 0.0000,\n",
              "           0.0000, 0.0000, 0.0000, 0.0000, 0.0000, 0.0000, 0.0000, 0.0000,\n",
              "           0.0000, 0.0000, 0.0000, 0.0000]]]),\n",
              " 9)"
            ]
          },
          "metadata": {},
          "execution_count": 25
        }
      ],
      "source": [
        "image, label = train_data[0]\n",
        "image, label"
      ]
    },
    {
      "cell_type": "code",
      "execution_count": null,
      "metadata": {
        "colab": {
          "base_uri": "https://localhost:8080/"
        },
        "id": "dD14MPSXhFBf",
        "outputId": "09c7d428-0a77-476c-ad91-832372e42d0e"
      },
      "outputs": [
        {
          "output_type": "execute_result",
          "data": {
            "text/plain": [
              "['T-shirt/top',\n",
              " 'Trouser',\n",
              " 'Pullover',\n",
              " 'Dress',\n",
              " 'Coat',\n",
              " 'Sandal',\n",
              " 'Shirt',\n",
              " 'Sneaker',\n",
              " 'Bag',\n",
              " 'Ankle boot']"
            ]
          },
          "metadata": {},
          "execution_count": 26
        }
      ],
      "source": [
        "class_names = train_data.classes\n",
        "class_names"
      ]
    },
    {
      "cell_type": "code",
      "execution_count": null,
      "metadata": {
        "colab": {
          "base_uri": "https://localhost:8080/"
        },
        "id": "NrtRwdK7hNn_",
        "outputId": "cc618d86-d494-4c80-9a01-454c84e2a712"
      },
      "outputs": [
        {
          "output_type": "execute_result",
          "data": {
            "text/plain": [
              "tensor([9, 0, 0,  ..., 3, 0, 5])"
            ]
          },
          "metadata": {},
          "execution_count": 27
        }
      ],
      "source": [
        "train_data.targets"
      ]
    },
    {
      "cell_type": "code",
      "execution_count": null,
      "metadata": {
        "colab": {
          "base_uri": "https://localhost:8080/"
        },
        "id": "gEZdbi7dsPkK",
        "outputId": "b8cdae96-ab81-4cfc-a0df-2f96c0a58cac"
      },
      "outputs": [
        {
          "output_type": "stream",
          "name": "stdout",
          "text": [
            "Image shape:torch.Size([1, 28, 28]) -> [color_channels, height, width]\n",
            "Image label:Ankle boot\n"
          ]
        }
      ],
      "source": [
        "print(f\"Image shape:{image.shape} -> [color_channels, height, width]\")\n",
        "print(f\"Image label:{class_names[label]}\")"
      ]
    },
    {
      "cell_type": "code",
      "execution_count": null,
      "metadata": {
        "colab": {
          "base_uri": "https://localhost:8080/",
          "height": 467
        },
        "id": "RcGMYV1msgWJ",
        "outputId": "b9af82e7-8f25-4f2e-b280-d4edcdb54729"
      },
      "outputs": [
        {
          "output_type": "stream",
          "name": "stdout",
          "text": [
            "Image shape\n"
          ]
        },
        {
          "output_type": "execute_result",
          "data": {
            "text/plain": [
              "<matplotlib.image.AxesImage at 0x7c6dc156fd10>"
            ]
          },
          "metadata": {},
          "execution_count": 29
        },
        {
          "output_type": "display_data",
          "data": {
            "text/plain": [
              "<Figure size 640x480 with 1 Axes>"
            ],
            "image/png": "[encoded data removed]"
          },
          "metadata": {}
        }
      ],
      "source": [
        "import matplotlib.pyplot as plt\n",
        "image, label = train_data[0]\n",
        "print(f\"Image shape\")\n",
        "plt.imshow(image.squeeze())\n"
      ]
    },
    {
      "cell_type": "code",
      "execution_count": null,
      "metadata": {
        "colab": {
          "base_uri": "https://localhost:8080/",
          "height": 446
        },
        "id": "h5gbmaxxuRnw",
        "outputId": "105e2601-c997-4028-aa60-4f785a71dbcc"
      },
      "outputs": [
        {
          "output_type": "execute_result",
          "data": {
            "text/plain": [
              "(np.float64(-0.5), np.float64(27.5), np.float64(27.5), np.float64(-0.5))"
            ]
          },
          "metadata": {},
          "execution_count": 30
        },
        {
          "output_type": "display_data",
          "data": {
            "text/plain": [
              "<Figure size 640x480 with 1 Axes>"
            ],
            "image/png": "[encoded data removed]"
          },
          "metadata": {}
        }
      ],
      "source": [
        "plt.imshow(image.squeeze(), cmap='gray')\n",
        "plt.title(class_names[label])\n",
        "plt.axis(False)"
      ]
    },
    {
      "cell_type": "code",
      "execution_count": null,
      "metadata": {
        "colab": {
          "base_uri": "https://localhost:8080/",
          "height": 752
        },
        "id": "lFo_qXSpuoSS",
        "outputId": "2d81d58d-0b10-401b-aac1-0f72cbbf9aae"
      },
      "outputs": [
        {
          "output_type": "display_data",
          "data": {
            "text/plain": [
              "<Figure size 900x900 with 16 Axes>"
            ],
            "image/png": "[encoded data removed]"
          },
          "metadata": {}
        }
      ],
      "source": [
        "torch.manual_seed(42)\n",
        "fig = plt.figure(figsize=(9,9))\n",
        "rows, cols = 4, 4\n",
        "for i in range(1, rows*cols+1):\n",
        "  random_idx = torch.randint(0,len(train_data),size=[1]).item()\n",
        "  img, label = train_data[random_idx]\n",
        "  fig.add_subplot(rows, cols, i)\n",
        "  plt.imshow(img.squeeze(), cmap='gray')\n",
        "  plt.title(class_names[label])\n",
        "  plt.axis(False)"
      ]
    },
    {
      "cell_type": "code",
      "execution_count": null,
      "metadata": {
        "colab": {
          "base_uri": "https://localhost:8080/"
        },
        "id": "DW1KGnBnvTKv",
        "outputId": "d05dc6f5-b6ca-4454-98b2-2f53373920de"
      },
      "outputs": [
        {
          "output_type": "execute_result",
          "data": {
            "text/plain": [
              "(Dataset FashionMNIST\n",
              "     Number of datapoints: 60000\n",
              "     Root location: data\n",
              "     Split: Train\n",
              "     StandardTransform\n",
              " Transform: ToTensor(),\n",
              " Dataset FashionMNIST\n",
              "     Number of datapoints: 10000\n",
              "     Root location: data\n",
              "     Split: Test\n",
              "     StandardTransform\n",
              " Transform: ToTensor())"
            ]
          },
          "metadata": {},
          "execution_count": 32
        }
      ],
      "source": [
        "train_data, test_data"
      ]
    },
    {
      "cell_type": "code",
      "execution_count": null,
      "metadata": {
        "colab": {
          "base_uri": "https://localhost:8080/"
        },
        "id": "6c_4pbh0xypo",
        "outputId": "db8fe275-5250-463a-d125-7493e13e1c49"
      },
      "outputs": [
        {
          "output_type": "execute_result",
          "data": {
            "text/plain": [
              "(<torch.utils.data.dataloader.DataLoader at 0x7c6dc1948f50>,\n",
              " <torch.utils.data.dataloader.DataLoader at 0x7c6dc11fa510>)"
            ]
          },
          "metadata": {},
          "execution_count": 33
        }
      ],
      "source": [
        "from torch.utils.data import DataLoader\n",
        "\n",
        "BATCH_SIZE = 32\n",
        "\n",
        "train_dataloader = DataLoader(dataset=train_data,\n",
        "                              batch_size=BATCH_SIZE,\n",
        "                              shuffle=True)\n",
        "\n",
        "test_dataloader = DataLoader(dataset=test_data,\n",
        "                             batch_size=BATCH_SIZE,\n",
        "                             shuffle=True)\n",
        "train_dataloader, test_dataloader"
      ]
    },
    {
      "cell_type": "code",
      "execution_count": null,
      "metadata": {
        "colab": {
          "base_uri": "https://localhost:8080/"
        },
        "id": "I9qySa4u4Ngz",
        "outputId": "12f2f626-ca0c-4f7f-fb4c-1ecdf90e21aa"
      },
      "outputs": [
        {
          "output_type": "stream",
          "name": "stdout",
          "text": [
            "1875\n",
            "313\n"
          ]
        }
      ],
      "source": [
        "print(len(train_dataloader))\n",
        "print(len(test_dataloader))"
      ]
    },
    {
      "cell_type": "code",
      "execution_count": null,
      "metadata": {
        "colab": {
          "base_uri": "https://localhost:8080/"
        },
        "id": "EQCuBom-4mqr",
        "outputId": "da78cbe8-c4e2-4f5d-b29e-9c1919e3b2b7"
      },
      "outputs": [
        {
          "output_type": "execute_result",
          "data": {
            "text/plain": [
              "(torch.Size([32, 1, 28, 28]), torch.Size([32]))"
            ]
          },
          "metadata": {},
          "execution_count": 35
        }
      ],
      "source": [
        "train_features_batch, train_labels_batch = next(iter(train_dataloader))\n",
        "train_features_batch.shape, train_labels_batch.shape"
      ]
    },
    {
      "cell_type": "code",
      "execution_count": null,
      "metadata": {
        "colab": {
          "base_uri": "https://localhost:8080/",
          "height": 465
        },
        "id": "9X8llGZz5Kh9",
        "outputId": "12194046-f35b-4ff6-c37c-ca2499090460"
      },
      "outputs": [
        {
          "output_type": "stream",
          "name": "stdout",
          "text": [
            "Image size: torch.Size([1, 28, 28])\n",
            "Label: 6, label size: torch.Size([])\n"
          ]
        },
        {
          "output_type": "display_data",
          "data": {
            "text/plain": [
              "<Figure size 640x480 with 1 Axes>"
            ],
            "image/png": "[encoded data removed]"
          },
          "metadata": {}
        }
      ],
      "source": [
        "torch.manual_seed(42)\n",
        "random_idx = torch.randint(0, len(train_features_batch),size=[1]).item()\n",
        "img, label = train_features_batch[random_idx], train_labels_batch[random_idx]\n",
        "plt.imshow(img.squeeze(), cmap='gray')\n",
        "plt.title(class_names[label])\n",
        "plt.axis(False)\n",
        "print(f\"Image size: {img.shape}\")\n",
        "print(f\"Label: {label}, label size: {label.shape}\")"
      ]
    },
    {
      "cell_type": "code",
      "execution_count": null,
      "metadata": {
        "colab": {
          "base_uri": "https://localhost:8080/"
        },
        "id": "rVcuiNIw6CXB",
        "outputId": "2cd23945-8f77-4ab0-cb45-188cd66855be"
      },
      "outputs": [
        {
          "output_type": "stream",
          "name": "stdout",
          "text": [
            "Shape before flattening: torch.Size([1, 28, 28])\n",
            "Shape after: torch.Size([1, 784])\n"
          ]
        }
      ],
      "source": [
        "flatten_model = nn.Flatten()\n",
        "\n",
        "x = train_features_batch[0]\n",
        "\n",
        "output = flatten_model(x)\n",
        "\n",
        "print(f\"Shape before flattening: {x.shape}\")\n",
        "print(f\"Shape after: {output.shape}\")"
      ]
    },
    {
      "cell_type": "code",
      "execution_count": null,
      "metadata": {
        "id": "2RaTrayF63dX"
      },
      "outputs": [],
      "source": [
        "from torch import nn\n",
        "class FashionMNISTModelV0(nn.Module):\n",
        "    def __init__(self,\n",
        "                 input_shape: int,\n",
        "                 hidden_units: int,\n",
        "                 output_shape: int):\n",
        "      super().__init__()\n",
        "      self.layer_stack = nn.Sequential(\n",
        "          nn.Flatten(),\n",
        "          nn.Linear(in_features=input_shape,\n",
        "                    out_features=hidden_units),\n",
        "          nn.Linear(in_features=hidden_units,\n",
        "                    out_features=output_shape)\n",
        "      )\n",
        "    def forward(self,x):\n",
        "      return self.layer_stack(x)\n"
      ]
    },
    {
      "cell_type": "code",
      "execution_count": null,
      "metadata": {
        "colab": {
          "base_uri": "https://localhost:8080/"
        },
        "id": "fSnSGaOO8mv_",
        "outputId": "1bb73d96-cb23-4ade-ff45-439042ac8968"
      },
      "outputs": [
        {
          "output_type": "execute_result",
          "data": {
            "text/plain": [
              "FashionMNISTModelV0(\n",
              "  (layer_stack): Sequential(\n",
              "    (0): Flatten(start_dim=1, end_dim=-1)\n",
              "    (1): Linear(in_features=784, out_features=10, bias=True)\n",
              "    (2): Linear(in_features=10, out_features=10, bias=True)\n",
              "  )\n",
              ")"
            ]
          },
          "metadata": {},
          "execution_count": 39
        }
      ],
      "source": [
        "torch.manual_seed(42)\n",
        "\n",
        "model_0 = FashionMNISTModelV0(\n",
        "    input_shape=28*28,\n",
        "    hidden_units=10,\n",
        "    output_shape=len(class_names)\n",
        ").to(\"cpu\")\n",
        "\n",
        "model_0"
      ]
    },
    {
      "cell_type": "code",
      "execution_count": null,
      "metadata": {
        "colab": {
          "base_uri": "https://localhost:8080/"
        },
        "id": "2idvC9qgA6Fb",
        "outputId": "221b3e67-1dd5-41bf-93b1-350e87ea54e0"
      },
      "outputs": [
        {
          "output_type": "execute_result",
          "data": {
            "text/plain": [
              "torch.Size([1, 10])"
            ]
          },
          "metadata": {},
          "execution_count": 40
        }
      ],
      "source": [
        "dummy_x = torch.rand([1,1,28,28])\n",
        "model_0(dummy_x).shape"
      ]
    },
    {
      "cell_type": "code",
      "execution_count": null,
      "metadata": {
        "id": "2Z9UlyWMLQLb"
      },
      "outputs": [],
      "source": [
        "# def accuracy_fn(y_true, y_pred):\n",
        "#   correct = torch.eq(y_true, y_pred).sum().item()\n",
        "#   acc = (correct / len(y_pred)) * 100\n",
        "#   return acc\n",
        "\n"
      ]
    },
    {
      "cell_type": "code",
      "execution_count": null,
      "metadata": {
        "id": "l8GaUMajPazn"
      },
      "outputs": [],
      "source": [
        "from helper_functions import accuracy_fn\n",
        "\n",
        "loss_fn = nn.CrossEntropyLoss()\n",
        "optimizer = torch.optim.SGD(params=model_0.parameters(),\n",
        "                            lr=0.1)"
      ]
    },
    {
      "cell_type": "code",
      "execution_count": null,
      "metadata": {
        "id": "NtXaNA55QRKZ"
      },
      "outputs": [],
      "source": [
        "from timeit import default_timer as timer\n",
        "\n",
        "def print_train_time(start:float,\n",
        "                     end:float,\n",
        "                     device: torch.device= None):\n",
        "  total_time = end - start\n",
        "  print(f\"Time of training: {device}:{total_time:.3f} seconds\")\n",
        "  return total_time"
      ]
    },
    {
      "cell_type": "code",
      "execution_count": null,
      "metadata": {
        "colab": {
          "base_uri": "https://localhost:8080/"
        },
        "id": "JnlBjm8ERLy7",
        "outputId": "a34542aa-6cd6-406c-dcea-cb390e88a56e"
      },
      "outputs": [
        {
          "output_type": "stream",
          "name": "stdout",
          "text": [
            "Time of training: cpu:0.000 seconds\n"
          ]
        },
        {
          "output_type": "execute_result",
          "data": {
            "text/plain": [
              "3.7973000019064784e-05"
            ]
          },
          "metadata": {},
          "execution_count": 44
        }
      ],
      "source": [
        "start_time = timer()\n",
        "end_time = timer()\n",
        "print_train_time(start = start_time, end=end_time, device=\"cpu\")"
      ]
    },
    {
      "cell_type": "code",
      "execution_count": null,
      "metadata": {
        "colab": {
          "base_uri": "https://localhost:8080/",
          "height": 566,
          "referenced_widgets": [
            "6f90c9f48af946bdab41744ee9db8fdd",
            "ffcef1e3503c416ea3059aae9e1a3f4d",
            "4975bc2a11c04428acfbde32ef220ba3",
            "0e783440deaa4a96a178b024f8078f07",
            "00514edaffe84284bb13ee05faed9f04",
            "b14e446bfb5947d291a0727703402a36",
            "9bc3b800e8c6418381f4f281438801f8",
            "25afaeffb871493ab25ad91622eae3b2",
            "b94e7a1495d7480e9a8a7d7f6c3388df",
            "17d94274aa454677a11d863f4b001dec",
            "ddb4b9b660a64120b7d7f67603ed94f3"
          ]
        },
        "id": "tNVKkIF2RNub",
        "outputId": "58cbd420-dee4-4f66-fe92-2775bcee61bd"
      },
      "outputs": [
        {
          "output_type": "display_data",
          "data": {
            "text/plain": [
              "  0%|          | 0/3 [00:00<?, ?it/s]"
            ],
            "application/vnd.jupyter.widget-view+json": {
              "version_major": 2,
              "version_minor": 0,
              "model_id": "6f90c9f48af946bdab41744ee9db8fdd"
            }
          },
          "metadata": {}
        },
        {
          "output_type": "stream",
          "name": "stdout",
          "text": [
            "Epoch: 0\n",
            "----\n",
            "Looked at 0/60000 samples.\n",
            "Looked at 12800/60000 samples.\n",
            "Looked at 25600/60000 samples.\n",
            "Looked at 38400/60000 samples.\n",
            "Looked at 51200/60000 samples.\n",
            "\n",
            "Train loss:0.5904 | Test loss:0.5102, Test acc:82.0387\n",
            "Epoch: 1\n",
            "----\n",
            "Looked at 0/60000 samples.\n",
            "Looked at 12800/60000 samples.\n",
            "Looked at 25600/60000 samples.\n",
            "Looked at 38400/60000 samples.\n",
            "Looked at 51200/60000 samples.\n",
            "\n",
            "Train loss:0.4743 | Test loss:0.5268, Test acc:81.6793\n",
            "Epoch: 2\n",
            "----\n",
            "Looked at 0/60000 samples.\n",
            "Looked at 12800/60000 samples.\n",
            "Looked at 25600/60000 samples.\n",
            "Looked at 38400/60000 samples.\n",
            "Looked at 51200/60000 samples.\n",
            "\n",
            "Train loss:0.4537 | Test loss:0.5126, Test acc:82.9972\n",
            "Time of training: cpu:32.894 seconds\n"
          ]
        }
      ],
      "source": [
        "from tqdm.auto import tqdm\n",
        "\n",
        "torch.manual_seed(42)\n",
        "train_time_start_on_cpu = timer()\n",
        "\n",
        "epochs = 3\n",
        "\n",
        "for epoch in tqdm (range(epochs)):\n",
        "  print(f\"Epoch: {epoch}\\n----\")\n",
        "  train_loss = 0\n",
        "\n",
        "  for batch, (X,y) in enumerate(train_dataloader):\n",
        "    model_0.train()\n",
        "\n",
        "    y_pred = model_0(X)\n",
        "\n",
        "    loss = loss_fn(y_pred,y)\n",
        "    train_loss += loss\n",
        "\n",
        "    optimizer.zero_grad()\n",
        "\n",
        "    loss.backward()\n",
        "\n",
        "    optimizer.step()\n",
        "\n",
        "    if batch % 400 == 0:\n",
        "      print(f\"Looked at {batch * len(X)}/{len(train_dataloader.dataset)} samples.\")\n",
        "  train_loss/=len(train_dataloader)\n",
        "\n",
        "  test_loss, test_acc = 0,0\n",
        "\n",
        "  model_0.eval()\n",
        "  with torch.inference_mode():\n",
        "    for X_test, y_test in test_dataloader:\n",
        "      test_pred = model_0(X_test)\n",
        "\n",
        "      test_loss += loss_fn(test_pred, y_test)\n",
        "\n",
        "      test_acc += accuracy_fn(y_true=y_test, y_pred=test_pred.argmax(dim=1))\n",
        "\n",
        "    test_loss /=len(test_dataloader)\n",
        "\n",
        "    test_acc /= len(test_dataloader)\n",
        "\n",
        "  print(f\"\\nTrain loss:{train_loss:.4f} | Test loss:{test_loss:.4f}, Test acc:{test_acc:.4f}\")\n",
        "\n",
        "train_time_end_on_cpu = timer()\n",
        "total_train_data_model_0 = print_train_time(start = train_time_start_on_cpu,\n",
        "                                            end= train_time_end_on_cpu,\n",
        "                                            device=str(next(model_0.parameters()).device))\n"
      ]
    },
    {
      "cell_type": "code",
      "execution_count": null,
      "metadata": {
        "colab": {
          "base_uri": "https://localhost:8080/",
          "height": 104,
          "referenced_widgets": [
            "3fcef259714e4f62b2bda019b8c0b783",
            "f6d4f9ac177b4c3c9fb16dbe36f8bd54",
            "520fa4dcc1964258bf92ac8bd13866cf",
            "4749465f67c9469ca25b542a426dec14",
            "d42a8c97f53a4926898dd8233c87956c",
            "210328890a034952960b3846683c632a",
            "1577ded0b7014e46b68591cb81e78463",
            "694cb9edbde448afb1a1d801bb64937c",
            "dfa30369d4754b56a93081ddc1aef832",
            "aea089b3469242589d136cc12937fc28",
            "8820736bc86441929f0df513f0b22f24"
          ]
        },
        "id": "NYhoUn1whfOK",
        "outputId": "a0bfb9ed-94f9-4246-cd05-f55c5884575a"
      },
      "outputs": [
        {
          "output_type": "display_data",
          "data": {
            "text/plain": [
              "  0%|          | 0/313 [00:00<?, ?it/s]"
            ],
            "application/vnd.jupyter.widget-view+json": {
              "version_major": 2,
              "version_minor": 0,
              "model_id": "3fcef259714e4f62b2bda019b8c0b783"
            }
          },
          "metadata": {}
        },
        {
          "output_type": "execute_result",
          "data": {
            "text/plain": [
              "{'model_name': 'FashionMNISTModelV0',\n",
              " 'model_loss': 0.512529730796814,\n",
              " 'model_acc': 83.00718849840256}"
            ]
          },
          "metadata": {},
          "execution_count": 46
        }
      ],
      "source": [
        "torch.manual_seed(42)\n",
        "def eval_model(model: torch.nn.Module,\n",
        "               data_loader: torch.utils.data.DataLoader,\n",
        "               loss_fn: torch.nn.Module,\n",
        "               accuracy_fn):\n",
        "  loss, acc = 0, 0\n",
        "  model.eval()\n",
        "  with torch.inference_mode():\n",
        "    for X,y in tqdm(data_loader):\n",
        "      y_pred=model(X)\n",
        "\n",
        "      loss += loss_fn(y_pred, y)\n",
        "      acc += accuracy_fn(y_true=y,\n",
        "                         y_pred=y_pred.argmax(dim=1))\n",
        "\n",
        "    loss /= len(data_loader)\n",
        "    acc /= len(data_loader)\n",
        "  return {\"model_name\": model.__class__.__name__,\n",
        "          \"model_loss\": loss.item(),\n",
        "          \"model_acc\": acc}\n",
        "\n",
        "model_0_results = eval_model(model=model_0,\n",
        "                             data_loader=test_dataloader,\n",
        "                             loss_fn=loss_fn,\n",
        "                             accuracy_fn=accuracy_fn)\n",
        "\n",
        "model_0_results\n",
        "\n"
      ]
    },
    {
      "cell_type": "code",
      "execution_count": null,
      "metadata": {
        "colab": {
          "base_uri": "https://localhost:8080/"
        },
        "id": "azQiF5f_nTcZ",
        "outputId": "eca24cb2-aded-4cd9-b430-a53ab3e3170c"
      },
      "outputs": [
        {
          "output_type": "stream",
          "name": "stdout",
          "text": [
            "Thu Aug 14 05:44:42 2025       \n",
            "+-----------------------------------------------------------------------------------------+\n",
            "| NVIDIA-SMI 550.54.15              Driver Version: 550.54.15      CUDA Version: 12.4     |\n",
            "|-----------------------------------------+------------------------+----------------------+\n",
            "| GPU  Name                 Persistence-M | Bus-Id          Disp.A | Volatile Uncorr. ECC |\n",
            "| Fan  Temp   Perf          Pwr:Usage/Cap |           Memory-Usage | GPU-Util  Compute M. |\n",
            "|                                         |                        |               MIG M. |\n",
            "|=========================================+========================+======================|\n",
            "|   0  Tesla T4                       Off |   00000000:00:04.0 Off |                    0 |\n",
            "| N/A   36C    P8              9W /   70W |       2MiB /  15360MiB |      0%      Default |\n",
            "|                                         |                        |                  N/A |\n",
            "+-----------------------------------------+------------------------+----------------------+\n",
            "                                                                                         \n",
            "+-----------------------------------------------------------------------------------------+\n",
            "| Processes:                                                                              |\n",
            "|  GPU   GI   CI        PID   Type   Process name                              GPU Memory |\n",
            "|        ID   ID                                                               Usage      |\n",
            "|=========================================================================================|\n",
            "|  No running processes found                                                             |\n",
            "+-----------------------------------------------------------------------------------------+\n"
          ]
        }
      ],
      "source": [
        "!nvidia-smi"
      ]
    },
    {
      "cell_type": "code",
      "execution_count": null,
      "metadata": {
        "colab": {
          "base_uri": "https://localhost:8080/"
        },
        "id": "u1KU_Pqooivp",
        "outputId": "da260eb0-f41b-41f4-ee99-6dde702e3c3c"
      },
      "outputs": [
        {
          "output_type": "execute_result",
          "data": {
            "text/plain": [
              "True"
            ]
          },
          "metadata": {},
          "execution_count": 48
        }
      ],
      "source": [
        "torch.cuda.is_available()"
      ]
    },
    {
      "cell_type": "code",
      "execution_count": null,
      "metadata": {
        "colab": {
          "base_uri": "https://localhost:8080/",
          "height": 36
        },
        "id": "KKCQC4RIopRZ",
        "outputId": "0e79ff4d-0025-4887-c376-5ec27c4f2c3d"
      },
      "outputs": [
        {
          "output_type": "execute_result",
          "data": {
            "text/plain": [
              "'cuda'"
            ],
            "application/vnd.google.colaboratory.intrinsic+json": {
              "type": "string"
            }
          },
          "metadata": {},
          "execution_count": 49
        }
      ],
      "source": [
        "import torch\n",
        "device = 'cuda' if torch.cuda.is_available() else \"cpu\"\n",
        "device"
      ]
    },
    {
      "cell_type": "code",
      "execution_count": null,
      "metadata": {
        "id": "07eVkkuOpFZ5"
      },
      "outputs": [],
      "source": [
        "class FashionMNISTModelV1(nn.Module):\n",
        "  def __init__(self,\n",
        "               input_shape: int,\n",
        "               hidden_units: int,\n",
        "               output_shape: int):\n",
        "    super().__init__()\n",
        "    self.layer_stack = nn.Sequential(\n",
        "        nn.Flatten(),\n",
        "        nn.Linear(in_features=input_shape,\n",
        "                  out_features=hidden_units),\n",
        "        nn.ReLU(),\n",
        "        nn.Linear(in_features=hidden_units,\n",
        "                  out_features=output_shape),\n",
        "        nn.ReLU()\n",
        "    )\n",
        "  def forward(self, x:torch.Tensor):\n",
        "    return self.layer_stack(x)\n",
        "\n",
        "\n"
      ]
    },
    {
      "cell_type": "code",
      "execution_count": null,
      "metadata": {
        "colab": {
          "base_uri": "https://localhost:8080/"
        },
        "id": "vN-6ry56qwXI",
        "outputId": "44dbc47e-c734-4789-a7a0-e26c3db05cbd"
      },
      "outputs": [
        {
          "output_type": "execute_result",
          "data": {
            "text/plain": [
              "device(type='cuda', index=0)"
            ]
          },
          "metadata": {},
          "execution_count": 51
        }
      ],
      "source": [
        "torch.manual_seed(42)\n",
        "model_1 = FashionMNISTModelV1(input_shape=784,\n",
        "                              hidden_units=10,\n",
        "                              output_shape=len(class_names)).to(device)\n",
        "\n",
        "next(model_1.parameters()).device"
      ]
    },
    {
      "cell_type": "code",
      "execution_count": null,
      "metadata": {
        "id": "PxfuS-Lurbix"
      },
      "outputs": [],
      "source": [
        "from helper_functions import accuracy_fn\n",
        "loss_fn = nn.CrossEntropyLoss()\n",
        "optimizer = torch.optim.SGD(params=model_1.parameters(),\n",
        "                            lr=0.1)"
      ]
    },
    {
      "cell_type": "code",
      "execution_count": null,
      "metadata": {
        "colab": {
          "base_uri": "https://localhost:8080/"
        },
        "id": "3_1N9rWXxKDP",
        "outputId": "62c14143-3c83-44ee-f816-81016b1d76b5"
      },
      "outputs": [
        {
          "output_type": "stream",
          "name": "stdout",
          "text": [
            "Time of training: cpu:34.400 seconds\n"
          ]
        }
      ],
      "source": [
        "def train_step(model:torch.nn.Module,\n",
        "               data_loader: torch.utils.data.DataLoader,\n",
        "               loss_fn:torch.nn.Module,\n",
        "               optimizer:torch.optim.Optimizer,\n",
        "               accuracy_fn,\n",
        "               device:torch.device=device):\n",
        "\n",
        "  train_loss, train_acc = 0, 0\n",
        "  model_0.train()\n",
        "  for batch, (X,y) in enumerate(data_loader):\n",
        "\n",
        "    X, y = X.to(device), y.to(device)\n",
        "\n",
        "\n",
        "    y_pred = model(X)\n",
        "\n",
        "    loss = loss_fn(y_pred,y)\n",
        "    train_loss += loss\n",
        "    train_acc += accuracy_fn(y_true=y,\n",
        "                             y_pred=y_pred.argmax(dim=1))\n",
        "\n",
        "    optimizer.zero_grad()\n",
        "\n",
        "    loss.backward()\n",
        "\n",
        "    optimizer.step()\n",
        "\n",
        "  train_loss /=len(data_loader)\n",
        "  train_acc /= len(data_loader)\n",
        "\n",
        "  print(f\"Train loss:{train_loss:.5f} | Train acc:{train_acc:.2f}%\")\n",
        "\n",
        "train_time_end_on_cpu = timer()\n",
        "total_train_data_model_0 = print_train_time(start = train_time_start_on_cpu,\n",
        "                                            end= train_time_end_on_cpu,\n",
        "                                            device=str(next(model_0.parameters()).device))\n"
      ]
    },
    {
      "cell_type": "code",
      "execution_count": null,
      "metadata": {
        "id": "4UF5n08h0UHu"
      },
      "outputs": [],
      "source": [
        "def test_step(model: torch.nn.Module,\n",
        "              data_loader: torch.utils.data.DataLoader,\n",
        "              loss_fn: torch.nn.Module,\n",
        "              accuracy_fn,\n",
        "              device: torch.device= device):\n",
        "  test_loss, test_acc = 0,0\n",
        "\n",
        "  model.eval()\n",
        "\n",
        "  with torch.inference_mode():\n",
        "    for X, y in data_loader:\n",
        "      X, y = X.to(device), y.to(device)\n",
        "\n",
        "      test_pred = model(X)\n",
        "\n",
        "      test_loss += loss_fn(test_pred, y)\n",
        "      test_acc += accuracy_fn(y_true=y,\n",
        "                              y_pred=test_pred.argmax(dim=1))\n",
        "    test_loss /= len(data_loader)\n",
        "    test_acc /= len(data_loader)\n",
        "\n",
        "    print(f\"Test Loss:{test_loss:.5f} | Test acc: {test_acc:.2f}%\\n\")"
      ]
    },
    {
      "cell_type": "code",
      "execution_count": null,
      "metadata": {
        "colab": {
          "base_uri": "https://localhost:8080/",
          "height": 529,
          "referenced_widgets": [
            "8d1ff4bcb56747f8a4b82c76ba33cefe",
            "86e892a0f49b4c20898c7005eaf8d297",
            "f929152e044d445bba969e96287e729f",
            "ab68dab6a83c4bba9956f72b8d8c212e",
            "9fc4603ac61d458ca7036655b10e52ec",
            "104c35f2eb164c61bbcc317f032376ec",
            "f8268a052bdf40878f88684dbd40a127",
            "720cc506c65c470dbf1c5dec3461f846",
            "66110bb3313b4616ab4e1289e8f2be72",
            "422ad7aaa66d4f08a3a70fc90d30d949",
            "5df73112fede4945b07156bc122db844"
          ]
        },
        "id": "FULrhLWBIDO3",
        "outputId": "6f69705f-dd7b-46ad-d4ed-84c8f9332573"
      },
      "outputs": [
        {
          "output_type": "display_data",
          "data": {
            "text/plain": [
              "  0%|          | 0/5 [00:00<?, ?it/s]"
            ],
            "application/vnd.jupyter.widget-view+json": {
              "version_major": 2,
              "version_minor": 0,
              "model_id": "8d1ff4bcb56747f8a4b82c76ba33cefe"
            }
          },
          "metadata": {}
        },
        {
          "output_type": "stream",
          "name": "stdout",
          "text": [
            "Epoch: 0\n",
            "------\n",
            "Train loss:1.09199 | Train acc:61.34%\n",
            "Test Loss:0.95690 | Test acc: 64.98%\n",
            "\n",
            "Epoch: 1\n",
            "------\n",
            "Train loss:0.73779 | Train acc:73.69%\n",
            "Test Loss:0.72388 | Test acc: 74.21%\n",
            "\n",
            "Epoch: 2\n",
            "------\n",
            "Train loss:0.66776 | Train acc:76.08%\n",
            "Test Loss:0.68751 | Test acc: 75.64%\n",
            "\n",
            "Epoch: 3\n",
            "------\n",
            "Train loss:0.64469 | Train acc:76.58%\n",
            "Test Loss:0.65771 | Test acc: 75.63%\n",
            "\n",
            "Epoch: 4\n",
            "------\n",
            "Train loss:0.62655 | Train acc:77.06%\n",
            "Test Loss:0.65353 | Test acc: 76.22%\n",
            "\n",
            "Time of training: cuda:55.459 seconds\n"
          ]
        }
      ],
      "source": [
        "torch.manual_seed(42)\n",
        "\n",
        "from timeit import default_timer as timer\n",
        "train_time_start_on_gpu = timer()\n",
        "\n",
        "epochs = 5\n",
        "\n",
        "for epoch in tqdm(range(epochs)):\n",
        "  print(f\"Epoch: {epoch}\\n------\")\n",
        "  train_step(model=model_1,\n",
        "             data_loader=train_dataloader,\n",
        "             loss_fn=loss_fn,\n",
        "             optimizer=optimizer,\n",
        "             accuracy_fn=accuracy_fn,\n",
        "             device=device)\n",
        "  test_step(model=model_1,\n",
        "            data_loader=test_dataloader,\n",
        "            loss_fn=loss_fn,\n",
        "            accuracy_fn=accuracy_fn,\n",
        "            device=device)\n",
        "\n",
        "train_time_end_on_gpu=timer()\n",
        "\n",
        "total_train_time_model_1 = print_train_time(start=train_time_start_on_gpu,\n",
        "                                            end=train_time_end_on_gpu,\n",
        "                                            device=device)"
      ]
    },
    {
      "cell_type": "code",
      "execution_count": null,
      "metadata": {
        "id": "T8rm3XC_JovN"
      },
      "outputs": [],
      "source": [
        "torch.manual_seed(42)\n",
        "def eval_model(model: torch.nn.Module,\n",
        "               data_loader: torch.utils.data.DataLoader,\n",
        "               loss_fn: torch.nn.Module,\n",
        "               accuracy_fn,\n",
        "               device=device):\n",
        "  loss, acc = 0, 0\n",
        "  model.eval()\n",
        "  with torch.inference_mode():\n",
        "    for X, y in tqdm(data_loader):\n",
        "      X, y = X.to(device), y.to(device)\n",
        "\n",
        "      y_pred=model(X)\n",
        "\n",
        "      loss += loss_fn(y_pred, y)\n",
        "      acc += accuracy_fn(y_true=y,\n",
        "                         y_pred=y_pred.argmax(dim=1))\n",
        "\n",
        "    loss /= len(data_loader)\n",
        "    acc /= len(data_loader)\n",
        "  return {\"model_name\": model.__class__.__name__,\n",
        "          \"model_loss\": loss.item(),\n",
        "           \"model_acc\": acc}\n",
        "\n",
        "# model_0_results = eval_model(model=model_0,\n",
        "#                              data_loader=test_dataloader,\n",
        "#                              loss_fn=loss_fn,\n",
        "#                              accuracy_fn=accuracy_fn)\n"
      ]
    },
    {
      "cell_type": "code",
      "execution_count": null,
      "metadata": {
        "colab": {
          "base_uri": "https://localhost:8080/",
          "height": 104,
          "referenced_widgets": [
            "1f0ccc3c8040491fafbd6e6ba840b797",
            "23785866803b4e5a8697f8f2fecbce75",
            "87c40163eaaf4745a63a2665d726b562",
            "c9ab9c39c46d44ac9095d99624db8d55",
            "e4304f8243b64904b6a81a8b5d5fe729",
            "97137da3e0ff468b9ea23b496b79d84d",
            "54043c251170443bad0ec7ebb214f4eb",
            "1f0cd972449f4f22bb1e0de748a6d680",
            "c145f92932f842ea8c675dcaf9677453",
            "92e5d64d97864cedbc6f265a6f06e8fa",
            "2f105984ca284c4090ba05ab6d11eeb4"
          ]
        },
        "id": "yY7Ro3PcembP",
        "outputId": "d04acc50-05dc-49e7-9f5b-d3d0889cc12e"
      },
      "outputs": [
        {
          "output_type": "display_data",
          "data": {
            "text/plain": [
              "  0%|          | 0/313 [00:00<?, ?it/s]"
            ],
            "application/vnd.jupyter.widget-view+json": {
              "version_major": 2,
              "version_minor": 0,
              "model_id": "1f0ccc3c8040491fafbd6e6ba840b797"
            }
          },
          "metadata": {}
        },
        {
          "output_type": "execute_result",
          "data": {
            "text/plain": [
              "{'model_name': 'FashionMNISTModelV1',\n",
              " 'model_loss': 0.6540142297744751,\n",
              " 'model_acc': 76.19808306709265}"
            ]
          },
          "metadata": {},
          "execution_count": 57
        }
      ],
      "source": [
        " model_1_results = eval_model(model=model_1,\n",
        "                            data_loader=test_dataloader,\n",
        "                            loss_fn=loss_fn,\n",
        "                            accuracy_fn=accuracy_fn)\n",
        "model_1_results"
      ]
    },
    {
      "cell_type": "code",
      "execution_count": null,
      "metadata": {
        "id": "NtFmt_0be2JE"
      },
      "outputs": [],
      "source": [
        "class FashionMNISTModelV2(nn.Module):\n",
        "  def __init__(self,\n",
        "               input_shape:int,\n",
        "               hidden_units:int,\n",
        "               output_shape:int):\n",
        "    super().__init__()\n",
        "    self.conv_block_1 = nn.Sequential(\n",
        "        nn.Conv2d(in_channels=input_shape,\n",
        "                  out_channels=hidden_units,\n",
        "                  kernel_size=3,\n",
        "                  stride=1,\n",
        "                  padding=1),\n",
        "        nn.ReLU(),\n",
        "        nn.Conv2d(in_channels=hidden_units,\n",
        "                  out_channels=hidden_units,\n",
        "                  kernel_size=3,\n",
        "                  stride=1,\n",
        "                  padding=1),\n",
        "        nn.ReLU(),\n",
        "        nn.MaxPool2d(kernel_size=2)\n",
        "    )\n",
        "    self.conv_block_2 = nn.Sequential(\n",
        "        nn.Conv2d(in_channels=hidden_units,\n",
        "                  out_channels=hidden_units,\n",
        "                  kernel_size=3,\n",
        "                  stride=1,\n",
        "                  padding=1),\n",
        "        nn.ReLU(),\n",
        "        nn.Conv2d(in_channels=hidden_units,\n",
        "                  out_channels=hidden_units,\n",
        "                  kernel_size=3,\n",
        "                  stride=1,\n",
        "                  padding=1),\n",
        "        nn.ReLU(),\n",
        "        nn.MaxPool2d(kernel_size=2)\n",
        "    )\n",
        "    self.classifier = nn.Sequential(\n",
        "        nn.Flatten(),\n",
        "        nn.Linear(in_features=hidden_units*7*7,\n",
        "                  out_features=output_shape)\n",
        "    )\n",
        "  def forward(self,x):\n",
        "    x = self.conv_block_1(x)\n",
        "    # print(x.shape)\n",
        "    x = self.conv_block_2(x)\n",
        "    # print(x.shape)\n",
        "    x = self.classifier(x)\n",
        "    return x"
      ]
    },
    {
      "cell_type": "code",
      "execution_count": null,
      "metadata": {
        "id": "db112hr0pAoO"
      },
      "outputs": [],
      "source": [
        "model_2 = FashionMNISTModelV2(input_shape=1,\n",
        "                              hidden_units=10,\n",
        "                              output_shape=len(class_names)\n",
        ").to(device)"
      ]
    },
    {
      "cell_type": "code",
      "execution_count": null,
      "metadata": {
        "id": "2QMPBqLXy6aJ"
      },
      "outputs": [],
      "source": [
        "torch.manual_seed(42)\n",
        "\n",
        "images = torch.randn(size=(32,3,64,64))\n",
        "test_image = images[0]"
      ]
    },
    {
      "cell_type": "code",
      "execution_count": null,
      "metadata": {
        "colab": {
          "base_uri": "https://localhost:8080/"
        },
        "id": "0oqvMsvHpbQn",
        "outputId": "192af08b-dfb2-4812-acb3-a6bf6df893a0"
      },
      "outputs": [
        {
          "output_type": "execute_result",
          "data": {
            "text/plain": [
              "tensor([[[[-2.8778e-01, -6.0596e-02, -5.6306e-02,  ...,  2.8654e-01,\n",
              "            6.6224e-01, -2.3216e-01],\n",
              "          [-9.8911e-01, -4.0099e-01,  4.1832e-01,  ...,  4.7459e-01,\n",
              "           -1.8552e-01, -5.7622e-01],\n",
              "          [-4.1340e-02, -2.3277e-01,  3.7418e-01,  ...,  2.8255e-02,\n",
              "            1.4923e-01,  1.4236e-01],\n",
              "          ...,\n",
              "          [-8.0374e-01, -7.6687e-01, -5.9457e-02,  ...,  1.7452e-01,\n",
              "            4.2594e-01, -4.8341e-01],\n",
              "          [-1.4512e-01, -1.1566e-01,  6.1783e-01,  ...,  2.4126e-01,\n",
              "           -3.6626e-01,  3.5645e-01],\n",
              "          [ 3.6096e-02,  1.5214e-01,  2.3123e-01,  ...,  3.0904e-01,\n",
              "           -4.9680e-01, -7.2258e-01]],\n",
              "\n",
              "         [[-1.0853e+00, -1.6079e+00,  1.3346e-01,  ...,  2.1698e-01,\n",
              "           -1.7643e+00,  2.5263e-01],\n",
              "          [-8.2507e-01,  6.3866e-01,  1.8845e-01,  ..., -1.0936e-01,\n",
              "            4.8068e-01,  8.4869e-01],\n",
              "          [ 6.4927e-01, -4.2061e-03, -4.9991e-01,  ...,  5.8356e-01,\n",
              "            2.4611e-01,  6.6233e-01],\n",
              "          ...,\n",
              "          [ 9.8860e-02,  1.1661e+00,  3.1532e-01,  ..., -6.5450e-01,\n",
              "           -1.9585e-02,  2.4397e-01],\n",
              "          [-5.9820e-01,  3.7339e-01, -7.2705e-01,  ..., -3.1185e-02,\n",
              "           -8.9892e-01,  2.9192e-01],\n",
              "          [-1.8412e-01,  2.2085e-01,  1.6990e-01,  ...,  4.7418e-01,\n",
              "           -9.0971e-01,  7.9518e-01]],\n",
              "\n",
              "         [[ 3.9605e-02,  6.7841e-01, -9.6515e-01,  ..., -2.8578e-01,\n",
              "           -2.9320e-01, -1.8889e-01],\n",
              "          [-1.5027e+00, -1.1401e+00, -2.0217e-01,  ...,  2.5681e-01,\n",
              "           -9.3105e-01,  6.8724e-02],\n",
              "          [-4.1801e-01,  2.6299e-01,  3.3114e-02,  ...,  2.7162e-01,\n",
              "           -6.0643e-01, -7.4065e-01],\n",
              "          ...,\n",
              "          [ 5.3659e-02, -1.6118e-01, -2.2006e-01,  ...,  4.0253e-01,\n",
              "            2.1769e-01,  2.0759e-01],\n",
              "          [ 8.3423e-02,  2.5296e-01, -4.3232e-01,  ...,  1.1411e+00,\n",
              "            9.1973e-01,  3.2513e-02],\n",
              "          [ 2.0770e-01,  6.7494e-01,  1.7256e-01,  ..., -4.1328e-01,\n",
              "           -1.6368e-01, -1.3886e-01]],\n",
              "\n",
              "         ...,\n",
              "\n",
              "         [[-6.5893e-01, -1.0476e+00,  1.0067e+00,  ..., -1.7439e-01,\n",
              "            3.5072e-01,  2.5077e-01],\n",
              "          [ 1.3226e+00,  1.9803e+00, -6.4183e-01,  ...,  3.2681e-01,\n",
              "            1.5939e+00, -1.0821e-01],\n",
              "          [ 8.7122e-01, -1.0276e+00,  4.5702e-01,  ...,  5.1113e-01,\n",
              "            1.0244e+00,  8.7522e-01],\n",
              "          ...,\n",
              "          [ 1.3555e+00,  1.3009e+00,  4.9802e-01,  ..., -1.0216e-01,\n",
              "           -5.6769e-01,  8.4543e-02],\n",
              "          [ 1.5033e-01, -3.4481e-01,  1.0851e+00,  ..., -1.6738e-01,\n",
              "           -5.1884e-01,  1.9113e-01],\n",
              "          [-2.3805e-02, -4.3101e-01,  6.8124e-02,  ...,  1.0441e+00,\n",
              "            4.1791e-01,  6.0961e-01]],\n",
              "\n",
              "         [[-5.7891e-02,  6.3499e-02, -3.7689e-01,  ..., -7.3454e-01,\n",
              "            7.6985e-01, -6.7518e-01],\n",
              "          [ 2.9175e-01,  1.1631e-04, -6.0476e-01,  ..., -1.1983e+00,\n",
              "            6.5636e-01, -5.4662e-01],\n",
              "          [ 2.1523e-01, -1.9851e-01, -1.3285e-01,  ...,  7.5264e-01,\n",
              "           -1.5505e+00,  4.5457e-01],\n",
              "          ...,\n",
              "          [-2.0348e-01, -4.8311e-01, -3.0158e-02,  ..., -5.2867e-01,\n",
              "           -8.0491e-01,  7.7403e-01],\n",
              "          [ 7.5117e-01, -1.5956e-01,  2.5034e-01,  ..., -4.0541e-01,\n",
              "            2.8248e-01, -4.3361e-01],\n",
              "          [-2.1132e-01, -4.4753e-01, -1.0997e-01,  ..., -7.6029e-02,\n",
              "            7.9822e-01, -6.3137e-01]],\n",
              "\n",
              "         [[ 8.6642e-01,  1.6339e+00,  5.4498e-02,  ...,  2.3448e-01,\n",
              "            5.0939e-01,  8.1898e-01],\n",
              "          [ 1.0650e-01,  3.0274e-01, -7.4020e-01,  ...,  8.3167e-01,\n",
              "           -4.6203e-01,  3.4506e-01],\n",
              "          [ 1.1760e-02, -6.1708e-02, -7.6054e-01,  ..., -8.1317e-01,\n",
              "            1.0693e+00, -9.6907e-01],\n",
              "          ...,\n",
              "          [-1.1468e+00, -1.3791e-01, -3.6390e-01,  ...,  5.5073e-01,\n",
              "            2.0598e-01,  1.0710e-01],\n",
              "          [-3.4261e-01, -1.6038e-02, -6.6151e-01,  ..., -4.2419e-01,\n",
              "            4.4527e-01, -1.0111e-01],\n",
              "          [ 4.4487e-02,  9.7506e-02, -3.1829e-01,  ...,  6.0565e-02,\n",
              "            5.3990e-01, -4.2942e-01]]]], grad_fn=<ConvolutionBackward0>)"
            ]
          },
          "metadata": {},
          "execution_count": 61
        }
      ],
      "source": [
        "conv_layer = nn.Conv2d(in_channels=3,\n",
        "                       out_channels=10,\n",
        "                       kernel_size=(3,3),\n",
        "                       stride=1,\n",
        "                       padding=0\n",
        ")\n",
        "conv_output = conv_layer(test_image.unsqueeze(0))\n",
        "conv_output"
      ]
    },
    {
      "cell_type": "code",
      "execution_count": null,
      "metadata": {
        "colab": {
          "base_uri": "https://localhost:8080/"
        },
        "id": "zyDFxYsEyukx",
        "outputId": "a8ac422e-2ae0-4879-dfb0-f7c24dddf26c"
      },
      "outputs": [
        {
          "output_type": "stream",
          "name": "stdout",
          "text": [
            "torch.Size([3, 64, 64])\n",
            "torch.Size([1, 3, 64, 64])\n",
            "torch.Size([1, 10, 62, 62])\n",
            "torch.Size([1, 10, 31, 31])\n"
          ]
        }
      ],
      "source": [
        "print(test_image.shape)\n",
        "print(test_image.unsqueeze(0).shape)\n",
        "\n",
        "max_pool_layer = nn.MaxPool2d(kernel_size=2)\n",
        "\n",
        "test_image_through_convo = conv_layer(test_image.unsqueeze(dim=0))\n",
        "print(test_image_through_convo.shape)\n",
        "\n",
        "test_image_through_convo_and_max_pool = max_pool_layer(test_image_through_convo)\n",
        "print(test_image_through_convo_and_max_pool.shape)"
      ]
    },
    {
      "cell_type": "code",
      "execution_count": null,
      "metadata": {
        "colab": {
          "base_uri": "https://localhost:8080/"
        },
        "id": "DgWopKEBTSDR",
        "outputId": "1413fc9d-380a-4649-ab91-58f568ce7c95"
      },
      "outputs": [
        {
          "output_type": "execute_result",
          "data": {
            "text/plain": [
              "torch.Size([1, 28, 28])"
            ]
          },
          "metadata": {},
          "execution_count": 63
        }
      ],
      "source": [
        "rand_image_tensor = torch.randn(size=(1,28,28))\n",
        "rand_image_tensor.shape"
      ]
    },
    {
      "cell_type": "code",
      "execution_count": null,
      "metadata": {
        "colab": {
          "base_uri": "https://localhost:8080/"
        },
        "id": "JUcvhdyng2-Y",
        "outputId": "1c898827-afd4-400d-8555-339246e99b18"
      },
      "outputs": [
        {
          "output_type": "execute_result",
          "data": {
            "text/plain": [
              "tensor([[ 0.0223, -0.0778,  0.0935, -0.0253,  0.0297,  0.0250, -0.0113,  0.0620,\n",
              "         -0.0835, -0.0153]], device='cuda:0', grad_fn=<AddmmBackward0>)"
            ]
          },
          "metadata": {},
          "execution_count": 64
        }
      ],
      "source": [
        "model_2(rand_image_tensor.unsqueeze(0).to(device))"
      ]
    },
    {
      "cell_type": "code",
      "execution_count": null,
      "metadata": {
        "colab": {
          "base_uri": "https://localhost:8080/"
        },
        "id": "M9NUSniGhAQP",
        "outputId": "25cdaf21-00cf-4144-ee3b-afbc6bb92ec4"
      },
      "outputs": [
        {
          "output_type": "stream",
          "name": "stdout",
          "text": [
            "tensor([[[[0.3367, 0.1288],\n",
            "          [0.2345, 0.2303]]]])\n",
            "torch.Size([1, 1, 2, 2])\n",
            "tensor([[[[0.3367]]]])\n",
            "torch.Size([1, 1, 1, 1])\n"
          ]
        }
      ],
      "source": [
        "torch.manual_seed(42)\n",
        "random_tensor = torch.randn(size=(1,1,2,2))\n",
        "print(random_tensor)\n",
        "print(random_tensor.shape)\n",
        "\n",
        "max_pool_layer = nn.MaxPool2d(kernel_size=2)\n",
        "\n",
        "max_pool_tensor = max_pool_layer(random_tensor)\n",
        "\n",
        "print(max_pool_tensor)\n",
        "print(max_pool_tensor.shape)"
      ]
    },
    {
      "cell_type": "code",
      "execution_count": null,
      "metadata": {
        "id": "sDuf-qvmio3v"
      },
      "outputs": [],
      "source": [
        "from helper_functions import accuracy_fn\n",
        "\n",
        "loss_fn = nn.CrossEntropyLoss()\n",
        "optimizer = torch.optim.SGD(params=model_2.parameters(),\n",
        "                            lr=0.1)\n"
      ]
    },
    {
      "cell_type": "code",
      "execution_count": null,
      "metadata": {
        "colab": {
          "base_uri": "https://localhost:8080/",
          "height": 1000,
          "referenced_widgets": [
            "0f3f98c4f6b6458c84c877fe063fb199",
            "68e714e7993e42dc89ed52afa462515b",
            "af0045519b26411aac36f22b982a2f34",
            "a0ca748570e5468a93582daccabe3e72",
            "9be5e8b0118848b49deba2b38a08c8c4",
            "6d6b9ad9799e4c98ad61bb1970153d1d",
            "5e8759fab74f4029a54ec0795575e0d3",
            "b6bd094f655e4088b273426d4c3f9c74",
            "1cff1b0dc57848fe9c1c4dd5e98c5e55",
            "99950f6186504bedacc66e5c67cbb890",
            "aebfecde558a4dfb98e00b0ea5897eb8"
          ]
        },
        "id": "FG3FRDy8jFcf",
        "outputId": "916c12d8-4469-4430-9574-b74675907603"
      },
      "outputs": [
        {
          "output_type": "display_data",
          "data": {
            "text/plain": [
              "  0%|          | 0/50 [00:00<?, ?it/s]"
            ],
            "application/vnd.jupyter.widget-view+json": {
              "version_major": 2,
              "version_minor": 0,
              "model_id": "0f3f98c4f6b6458c84c877fe063fb199"
            }
          },
          "metadata": {}
        },
        {
          "output_type": "stream",
          "name": "stdout",
          "text": [
            "Epoch:0\n",
            "---\n",
            "Train loss:0.69289 | Train acc:74.76%\n",
            "Test Loss:0.40380 | Test acc: 85.54%\n",
            "\n",
            "Epoch:1\n",
            "---\n",
            "Train loss:0.37156 | Train acc:86.81%\n",
            "Test Loss:0.40919 | Test acc: 85.19%\n",
            "\n",
            "Epoch:2\n",
            "---\n",
            "Train loss:0.33830 | Train acc:87.99%\n",
            "Test Loss:0.33097 | Test acc: 88.37%\n",
            "\n",
            "Epoch:3\n",
            "---\n",
            "Train loss:0.31769 | Train acc:88.58%\n",
            "Test Loss:0.31999 | Test acc: 88.44%\n",
            "\n",
            "Epoch:4\n",
            "---\n",
            "Train loss:0.30284 | Train acc:88.98%\n",
            "Test Loss:0.33196 | Test acc: 87.62%\n",
            "\n",
            "Epoch:5\n",
            "---\n",
            "Train loss:0.29247 | Train acc:89.38%\n",
            "Test Loss:0.32149 | Test acc: 88.28%\n",
            "\n",
            "Epoch:6\n",
            "---\n",
            "Train loss:0.28431 | Train acc:89.62%\n",
            "Test Loss:0.31068 | Test acc: 89.18%\n",
            "\n",
            "Epoch:7\n",
            "---\n",
            "Train loss:0.27396 | Train acc:90.10%\n",
            "Test Loss:0.30402 | Test acc: 89.06%\n",
            "\n",
            "Epoch:8\n",
            "---\n",
            "Train loss:0.26979 | Train acc:90.11%\n",
            "Test Loss:0.29202 | Test acc: 89.54%\n",
            "\n",
            "Epoch:9\n",
            "---\n",
            "Train loss:0.26181 | Train acc:90.56%\n",
            "Test Loss:0.29459 | Test acc: 89.39%\n",
            "\n",
            "Epoch:10\n",
            "---\n",
            "Train loss:0.25792 | Train acc:90.56%\n",
            "Test Loss:0.29958 | Test acc: 88.96%\n",
            "\n",
            "Epoch:11\n",
            "---\n",
            "Train loss:0.25394 | Train acc:90.73%\n",
            "Test Loss:0.29816 | Test acc: 89.24%\n",
            "\n",
            "Epoch:12\n",
            "---\n",
            "Train loss:0.24950 | Train acc:90.83%\n",
            "Test Loss:0.33413 | Test acc: 88.07%\n",
            "\n",
            "Epoch:13\n",
            "---\n",
            "Train loss:0.24768 | Train acc:90.94%\n",
            "Test Loss:0.31165 | Test acc: 88.40%\n",
            "\n",
            "Epoch:14\n",
            "---\n",
            "Train loss:0.24646 | Train acc:91.01%\n",
            "Test Loss:0.28312 | Test acc: 89.85%\n",
            "\n",
            "Epoch:15\n",
            "---\n",
            "Train loss:0.24092 | Train acc:91.21%\n",
            "Test Loss:0.30457 | Test acc: 89.68%\n",
            "\n",
            "Epoch:16\n",
            "---\n",
            "Train loss:0.23993 | Train acc:91.22%\n",
            "Test Loss:0.28911 | Test acc: 89.67%\n",
            "\n",
            "Epoch:17\n",
            "---\n",
            "Train loss:0.23717 | Train acc:91.31%\n",
            "Test Loss:0.27556 | Test acc: 90.17%\n",
            "\n",
            "Epoch:18\n",
            "---\n",
            "Train loss:0.23457 | Train acc:91.33%\n",
            "Test Loss:0.29608 | Test acc: 90.14%\n",
            "\n",
            "Epoch:19\n",
            "---\n",
            "Train loss:0.23208 | Train acc:91.49%\n",
            "Test Loss:0.28782 | Test acc: 89.69%\n",
            "\n",
            "Epoch:20\n",
            "---\n",
            "Train loss:0.22983 | Train acc:91.55%\n",
            "Test Loss:0.27931 | Test acc: 90.16%\n",
            "\n",
            "Epoch:21\n",
            "---\n",
            "Train loss:0.22945 | Train acc:91.57%\n",
            "Test Loss:0.28303 | Test acc: 90.22%\n",
            "\n",
            "Epoch:22\n",
            "---\n",
            "Train loss:0.22655 | Train acc:91.73%\n",
            "Test Loss:0.27812 | Test acc: 90.32%\n",
            "\n",
            "Epoch:23\n",
            "---\n",
            "Train loss:0.22367 | Train acc:91.83%\n",
            "Test Loss:0.30020 | Test acc: 89.79%\n",
            "\n",
            "Epoch:24\n",
            "---\n",
            "Train loss:0.22285 | Train acc:91.93%\n",
            "Test Loss:0.28326 | Test acc: 90.20%\n",
            "\n",
            "Epoch:25\n",
            "---\n",
            "Train loss:0.22145 | Train acc:91.78%\n",
            "Test Loss:0.29217 | Test acc: 89.85%\n",
            "\n",
            "Epoch:26\n",
            "---\n",
            "Train loss:0.22086 | Train acc:91.95%\n",
            "Test Loss:0.29566 | Test acc: 89.95%\n",
            "\n",
            "Epoch:27\n",
            "---\n",
            "Train loss:0.21818 | Train acc:92.04%\n",
            "Test Loss:0.29461 | Test acc: 89.63%\n",
            "\n",
            "Epoch:28\n",
            "---\n",
            "Train loss:0.21628 | Train acc:92.06%\n",
            "Test Loss:0.30013 | Test acc: 89.47%\n",
            "\n",
            "Epoch:29\n",
            "---\n",
            "Train loss:0.21668 | Train acc:92.13%\n",
            "Test Loss:0.30227 | Test acc: 89.44%\n",
            "\n",
            "Epoch:30\n",
            "---\n",
            "Train loss:0.21483 | Train acc:92.05%\n",
            "Test Loss:0.30278 | Test acc: 89.86%\n",
            "\n",
            "Epoch:31\n",
            "---\n",
            "Train loss:0.21599 | Train acc:92.09%\n",
            "Test Loss:0.29137 | Test acc: 89.89%\n",
            "\n",
            "Epoch:32\n",
            "---\n",
            "Train loss:0.21119 | Train acc:92.20%\n",
            "Test Loss:0.29609 | Test acc: 89.73%\n",
            "\n",
            "Epoch:33\n",
            "---\n",
            "Train loss:0.21565 | Train acc:92.15%\n",
            "Test Loss:0.28124 | Test acc: 90.11%\n",
            "\n",
            "Epoch:34\n",
            "---\n",
            "Train loss:0.21167 | Train acc:92.16%\n",
            "Test Loss:0.28374 | Test acc: 90.05%\n",
            "\n",
            "Epoch:35\n",
            "---\n",
            "Train loss:0.21329 | Train acc:92.14%\n",
            "Test Loss:0.30173 | Test acc: 89.76%\n",
            "\n",
            "Epoch:36\n",
            "---\n",
            "Train loss:0.21469 | Train acc:92.08%\n",
            "Test Loss:0.30266 | Test acc: 89.52%\n",
            "\n",
            "Epoch:37\n",
            "---\n",
            "Train loss:0.21318 | Train acc:92.15%\n",
            "Test Loss:0.29343 | Test acc: 89.83%\n",
            "\n",
            "Epoch:38\n",
            "---\n",
            "Train loss:0.21104 | Train acc:92.11%\n",
            "Test Loss:0.27633 | Test acc: 90.40%\n",
            "\n",
            "Epoch:39\n",
            "---\n",
            "Train loss:0.20851 | Train acc:92.26%\n",
            "Test Loss:0.28476 | Test acc: 89.68%\n",
            "\n",
            "Epoch:40\n",
            "---\n",
            "Train loss:0.20924 | Train acc:92.33%\n",
            "Test Loss:0.28790 | Test acc: 90.42%\n",
            "\n",
            "Epoch:41\n",
            "---\n",
            "Train loss:0.20717 | Train acc:92.42%\n",
            "Test Loss:0.29289 | Test acc: 89.58%\n",
            "\n",
            "Epoch:42\n",
            "---\n",
            "Train loss:0.20754 | Train acc:92.44%\n",
            "Test Loss:0.29937 | Test acc: 89.58%\n",
            "\n",
            "Epoch:43\n",
            "---\n",
            "Train loss:0.20495 | Train acc:92.50%\n",
            "Test Loss:0.27737 | Test acc: 90.11%\n",
            "\n",
            "Epoch:44\n",
            "---\n",
            "Train loss:0.20323 | Train acc:92.53%\n",
            "Test Loss:0.29692 | Test acc: 89.85%\n",
            "\n",
            "Epoch:45\n",
            "---\n",
            "Train loss:0.20250 | Train acc:92.55%\n",
            "Test Loss:0.27282 | Test acc: 90.38%\n",
            "\n",
            "Epoch:46\n",
            "---\n",
            "Train loss:0.20525 | Train acc:92.40%\n",
            "Test Loss:0.27994 | Test acc: 90.47%\n",
            "\n",
            "Epoch:47\n",
            "---\n",
            "Train loss:0.20413 | Train acc:92.42%\n",
            "Test Loss:0.28183 | Test acc: 90.25%\n",
            "\n",
            "Epoch:48\n",
            "---\n",
            "Train loss:0.20382 | Train acc:92.47%\n",
            "Test Loss:0.28580 | Test acc: 90.09%\n",
            "\n",
            "Epoch:49\n",
            "---\n",
            "Train loss:0.20321 | Train acc:92.51%\n",
            "Test Loss:0.28689 | Test acc: 90.58%\n",
            "\n",
            "Time of training: cuda:646.522 seconds\n"
          ]
        }
      ],
      "source": [
        "torch.manual_seed(42)\n",
        "torch.cuda.manual_seed(42)\n",
        "\n",
        "from timeit import default_timer as timer\n",
        "train_time_start_model_2 = timer()\n",
        "\n",
        "epochs = 50\n",
        "\n",
        "for epoch in tqdm(range(epochs)):\n",
        "  print(f\"Epoch:{epoch}\\n---\")\n",
        "  train_step(model=model_2,\n",
        "             data_loader=train_dataloader,\n",
        "             loss_fn=loss_fn,\n",
        "             optimizer=optimizer,\n",
        "             accuracy_fn=accuracy_fn,\n",
        "             device=device)\n",
        "  test_step(model=model_2,\n",
        "            data_loader=test_dataloader,\n",
        "            loss_fn=loss_fn,\n",
        "            accuracy_fn=accuracy_fn,\n",
        "            device=device)\n",
        "\n",
        "train_time_end_model_2=timer()\n",
        "total_train_time_model_2 = print_train_time(start=train_time_start_model_2,\n",
        "                                            end=train_time_end_model_2,\n",
        "                                            device=device)\n"
      ]
    },
    {
      "cell_type": "code",
      "execution_count": null,
      "metadata": {
        "colab": {
          "base_uri": "https://localhost:8080/",
          "height": 104,
          "referenced_widgets": [
            "f0a555591ac4487ba90765140e6c008b",
            "aae939e404e64db1b4d21f76890b2c1d",
            "46e51cbc71f54cb685aaef6ffec644f4",
            "0e721be5eadd479599ad98de1def066e",
            "ecca68e520124e39b0ae132234413961",
            "6d72bad7e2f74fd1b734eafaea8fff78",
            "d8d1cb1ede8f4f3d9e13bf543b465eb8",
            "d0a79b28dd92459c9cf37e4fe63fba94",
            "9e75d5d659284752bd5abfbd0412e741",
            "6b84fe77ebfa42108735abe361571671",
            "63818c5df5914c4085e13d98ebe4a9df"
          ]
        },
        "id": "34bOfF3xyw5R",
        "outputId": "ebb0f8a8-d1f2-45cb-ea22-c284753b4525"
      },
      "outputs": [
        {
          "output_type": "display_data",
          "data": {
            "text/plain": [
              "  0%|          | 0/313 [00:00<?, ?it/s]"
            ],
            "application/vnd.jupyter.widget-view+json": {
              "version_major": 2,
              "version_minor": 0,
              "model_id": "f0a555591ac4487ba90765140e6c008b"
            }
          },
          "metadata": {}
        },
        {
          "output_type": "execute_result",
          "data": {
            "text/plain": [
              "{'model_name': 'FashionMNISTModelV2',\n",
              " 'model_loss': 0.28731194138526917,\n",
              " 'model_acc': 90.57507987220447}"
            ]
          },
          "metadata": {},
          "execution_count": 68
        }
      ],
      "source": [
        "model_2_results = eval_model(\n",
        "    model=model_2,\n",
        "    data_loader=test_dataloader,\n",
        "    loss_fn=loss_fn,\n",
        "    accuracy_fn=accuracy_fn,\n",
        "    device=device\n",
        ")\n",
        "model_2_results"
      ]
    },
    {
      "cell_type": "code",
      "execution_count": null,
      "metadata": {
        "colab": {
          "base_uri": "https://localhost:8080/"
        },
        "id": "BHiTWjAS1ECw",
        "outputId": "e5ba5b72-ef02-414d-ea9f-e38a4bfa1ea2"
      },
      "outputs": [
        {
          "output_type": "execute_result",
          "data": {
            "text/plain": [
              "            model_name  model_loss  model_acc\n",
              "0  FashionMNISTModelV0    0.512530  83.007188\n",
              "1  FashionMNISTModelV1    0.654014  76.198083\n",
              "2  FashionMNISTModelV2    0.287312  90.575080"
            ],
            "text/html": [
              "\n",
              "  <div id=\"df-fc4851b5-742c-4fb2-b7cc-791f40966d58\" class=\"colab-df-container\">\n",
              "    <div>\n",
              "<style scoped>\n",
              "    .dataframe tbody tr th:only-of-type {\n",
              "        vertical-align: middle;\n",
              "    }\n",
              "\n",
              "    .dataframe tbody tr th {\n",
              "        vertical-align: top;\n",
              "    }\n",
              "\n",
              "    .dataframe thead th {\n",
              "        text-align: right;\n",
              "    }\n",
              "</style>\n",
              "<table border=\"1\" class=\"dataframe\">\n",
              "  <thead>\n",
              "    <tr style=\"text-align: right;\">\n",
              "      <th></th>\n",
              "      <th>model_name</th>\n",
              "      <th>model_loss</th>\n",
              "      <th>model_acc</th>\n",
              "    </tr>\n",
              "  </thead>\n",
              "  <tbody>\n",
              "    <tr>\n",
              "      <th>0</th>\n",
              "      <td>FashionMNISTModelV0</td>\n",
              "      <td>0.512530</td>\n",
              "      <td>83.007188</td>\n",
              "    </tr>\n",
              "    <tr>\n",
              "      <th>1</th>\n",
              "      <td>FashionMNISTModelV1</td>\n",
              "      <td>0.654014</td>\n",
              "      <td>76.198083</td>\n",
              "    </tr>\n",
              "    <tr>\n",
              "      <th>2</th>\n",
              "      <td>FashionMNISTModelV2</td>\n",
              "      <td>0.287312</td>\n",
              "      <td>90.575080</td>\n",
              "    </tr>\n",
              "  </tbody>\n",
              "</table>\n",
              "</div>\n",
              "    <div class=\"colab-df-buttons\">\n",
              "\n",
              "  <div class=\"colab-df-container\">\n",
              "    <button class=\"colab-df-convert\" onclick=\"convertToInteractive('df-fc4851b5-742c-4fb2-b7cc-791f40966d58')\"\n",
              "            title=\"Convert this dataframe to an interactive table.\"\n",
              "            style=\"display:none;\">\n",
              "\n",
              "  <svg xmlns=\"http://www.w3.org/2000/svg\" height=\"24px\" viewBox=\"0 -960 960 960\">\n",
              "    <path d=\"M120-120v-720h720v720H120Zm60-500h600v-160H180v160Zm220 220h160v-160H400v160Zm0 220h160v-160H400v160ZM180-400h160v-160H180v160Zm440 0h160v-160H620v160ZM180-180h160v-160H180v160Zm440 0h160v-160H620v160Z\"/>\n",
              "  </svg>\n",
              "    </button>\n",
              "\n",
              "  <style>\n",
              "    .colab-df-container {\n",
              "      display:flex;\n",
              "      gap: 12px;\n",
              "    }\n",
              "\n",
              "    .colab-df-convert {\n",
              "      background-color: #E8F0FE;\n",
              "      border: none;\n",
              "      border-radius: 50%;\n",
              "      cursor: pointer;\n",
              "      display: none;\n",
              "      fill: #1967D2;\n",
              "      height: 32px;\n",
              "      padding: 0 0 0 0;\n",
              "      width: 32px;\n",
              "    }\n",
              "\n",
              "    .colab-df-convert:hover {\n",
              "      background-color: #E2EBFA;\n",
              "      box-shadow: 0px 1px 2px rgba(60, 64, 67, 0.3), 0px 1px 3px 1px rgba(60, 64, 67, 0.15);\n",
              "      fill: #174EA6;\n",
              "    }\n",
              "\n",
              "    .colab-df-buttons div {\n",
              "      margin-bottom: 4px;\n",
              "    }\n",
              "\n",
              "    [theme=dark] .colab-df-convert {\n",
              "      background-color: #3B4455;\n",
              "      fill: #D2E3FC;\n",
              "    }\n",
              "\n",
              "    [theme=dark] .colab-df-convert:hover {\n",
              "      background-color: #434B5C;\n",
              "      box-shadow: 0px 1px 3px 1px rgba(0, 0, 0, 0.15);\n",
              "      filter: drop-shadow(0px 1px 2px rgba(0, 0, 0, 0.3));\n",
              "      fill: #FFFFFF;\n",
              "    }\n",
              "  </style>\n",
              "\n",
              "    <script>\n",
              "      const buttonEl =\n",
              "        document.querySelector('#df-fc4851b5-742c-4fb2-b7cc-791f40966d58 button.colab-df-convert');\n",
              "      buttonEl.style.display =\n",
              "        google.colab.kernel.accessAllowed ? 'block' : 'none';\n",
              "\n",
              "      async function convertToInteractive(key) {\n",
              "        const element = document.querySelector('#df-fc4851b5-742c-4fb2-b7cc-791f40966d58');\n",
              "        const dataTable =\n",
              "          await google.colab.kernel.invokeFunction('convertToInteractive',\n",
              "                                                    [key], {});\n",
              "        if (!dataTable) return;\n",
              "\n",
              "        const docLinkHtml = 'Like what you see? Visit the ' +\n",
              "          '<a target=\"_blank\" href=https://colab.research.google.com/notebooks/data_table.ipynb>data table notebook</a>'\n",
              "          + ' to learn more about interactive tables.';\n",
              "        element.innerHTML = '';\n",
              "        dataTable['output_type'] = 'display_data';\n",
              "        await google.colab.output.renderOutput(dataTable, element);\n",
              "        const docLink = document.createElement('div');\n",
              "        docLink.innerHTML = docLinkHtml;\n",
              "        element.appendChild(docLink);\n",
              "      }\n",
              "    </script>\n",
              "  </div>\n",
              "\n",
              "\n",
              "    <div id=\"df-f7ffccbc-b05a-4e01-a67d-ef3371876037\">\n",
              "      <button class=\"colab-df-quickchart\" onclick=\"quickchart('df-f7ffccbc-b05a-4e01-a67d-ef3371876037')\"\n",
              "                title=\"Suggest charts\"\n",
              "                style=\"display:none;\">\n",
              "\n",
              "<svg xmlns=\"http://www.w3.org/2000/svg\" height=\"24px\"viewBox=\"0 0 24 24\"\n",
              "     width=\"24px\">\n",
              "    <g>\n",
              "        <path d=\"M19 3H5c-1.1 0-2 .9-2 2v14c0 1.1.9 2 2 2h14c1.1 0 2-.9 2-2V5c0-1.1-.9-2-2-2zM9 17H7v-7h2v7zm4 0h-2V7h2v10zm4 0h-2v-4h2v4z\"/>\n",
              "    </g>\n",
              "</svg>\n",
              "      </button>\n",
              "\n",
              "<style>\n",
              "  .colab-df-quickchart {\n",
              "      --bg-color: #E8F0FE;\n",
              "      --fill-color: #1967D2;\n",
              "      --hover-bg-color: #E2EBFA;\n",
              "      --hover-fill-color: #174EA6;\n",
              "      --disabled-fill-color: #AAA;\n",
              "      --disabled-bg-color: #DDD;\n",
              "  }\n",
              "\n",
              "  [theme=dark] .colab-df-quickchart {\n",
              "      --bg-color: #3B4455;\n",
              "      --fill-color: #D2E3FC;\n",
              "      --hover-bg-color: #434B5C;\n",
              "      --hover-fill-color: #FFFFFF;\n",
              "      --disabled-bg-color: #3B4455;\n",
              "      --disabled-fill-color: #666;\n",
              "  }\n",
              "\n",
              "  .colab-df-quickchart {\n",
              "    background-color: var(--bg-color);\n",
              "    border: none;\n",
              "    border-radius: 50%;\n",
              "    cursor: pointer;\n",
              "    display: none;\n",
              "    fill: var(--fill-color);\n",
              "    height: 32px;\n",
              "    padding: 0;\n",
              "    width: 32px;\n",
              "  }\n",
              "\n",
              "  .colab-df-quickchart:hover {\n",
              "    background-color: var(--hover-bg-color);\n",
              "    box-shadow: 0 1px 2px rgba(60, 64, 67, 0.3), 0 1px 3px 1px rgba(60, 64, 67, 0.15);\n",
              "    fill: var(--button-hover-fill-color);\n",
              "  }\n",
              "\n",
              "  .colab-df-quickchart-complete:disabled,\n",
              "  .colab-df-quickchart-complete:disabled:hover {\n",
              "    background-color: var(--disabled-bg-color);\n",
              "    fill: var(--disabled-fill-color);\n",
              "    box-shadow: none;\n",
              "  }\n",
              "\n",
              "  .colab-df-spinner {\n",
              "    border: 2px solid var(--fill-color);\n",
              "    border-color: transparent;\n",
              "    border-bottom-color: var(--fill-color);\n",
              "    animation:\n",
              "      spin 1s steps(1) infinite;\n",
              "  }\n",
              "\n",
              "  @keyframes spin {\n",
              "    0% {\n",
              "      border-color: transparent;\n",
              "      border-bottom-color: var(--fill-color);\n",
              "      border-left-color: var(--fill-color);\n",
              "    }\n",
              "    20% {\n",
              "      border-color: transparent;\n",
              "      border-left-color: var(--fill-color);\n",
              "      border-top-color: var(--fill-color);\n",
              "    }\n",
              "    30% {\n",
              "      border-color: transparent;\n",
              "      border-left-color: var(--fill-color);\n",
              "      border-top-color: var(--fill-color);\n",
              "      border-right-color: var(--fill-color);\n",
              "    }\n",
              "    40% {\n",
              "      border-color: transparent;\n",
              "      border-right-color: var(--fill-color);\n",
              "      border-top-color: var(--fill-color);\n",
              "    }\n",
              "    60% {\n",
              "      border-color: transparent;\n",
              "      border-right-color: var(--fill-color);\n",
              "    }\n",
              "    80% {\n",
              "      border-color: transparent;\n",
              "      border-right-color: var(--fill-color);\n",
              "      border-bottom-color: var(--fill-color);\n",
              "    }\n",
              "    90% {\n",
              "      border-color: transparent;\n",
              "      border-bottom-color: var(--fill-color);\n",
              "    }\n",
              "  }\n",
              "</style>\n",
              "\n",
              "      <script>\n",
              "        async function quickchart(key) {\n",
              "          const quickchartButtonEl =\n",
              "            document.querySelector('#' + key + ' button');\n",
              "          quickchartButtonEl.disabled = true;  // To prevent multiple clicks.\n",
              "          quickchartButtonEl.classList.add('colab-df-spinner');\n",
              "          try {\n",
              "            const charts = await google.colab.kernel.invokeFunction(\n",
              "                'suggestCharts', [key], {});\n",
              "          } catch (error) {\n",
              "            console.error('Error during call to suggestCharts:', error);\n",
              "          }\n",
              "          quickchartButtonEl.classList.remove('colab-df-spinner');\n",
              "          quickchartButtonEl.classList.add('colab-df-quickchart-complete');\n",
              "        }\n",
              "        (() => {\n",
              "          let quickchartButtonEl =\n",
              "            document.querySelector('#df-f7ffccbc-b05a-4e01-a67d-ef3371876037 button');\n",
              "          quickchartButtonEl.style.display =\n",
              "            google.colab.kernel.accessAllowed ? 'block' : 'none';\n",
              "        })();\n",
              "      </script>\n",
              "    </div>\n",
              "\n",
              "  <div id=\"id_5d376ec1-6aa8-4a8d-b969-e80a78b1fe6f\">\n",
              "    <style>\n",
              "      .colab-df-generate {\n",
              "        background-color: #E8F0FE;\n",
              "        border: none;\n",
              "        border-radius: 50%;\n",
              "        cursor: pointer;\n",
              "        display: none;\n",
              "        fill: #1967D2;\n",
              "        height: 32px;\n",
              "        padding: 0 0 0 0;\n",
              "        width: 32px;\n",
              "      }\n",
              "\n",
              "      .colab-df-generate:hover {\n",
              "        background-color: #E2EBFA;\n",
              "        box-shadow: 0px 1px 2px rgba(60, 64, 67, 0.3), 0px 1px 3px 1px rgba(60, 64, 67, 0.15);\n",
              "        fill: #174EA6;\n",
              "      }\n",
              "\n",
              "      [theme=dark] .colab-df-generate {\n",
              "        background-color: #3B4455;\n",
              "        fill: #D2E3FC;\n",
              "      }\n",
              "\n",
              "      [theme=dark] .colab-df-generate:hover {\n",
              "        background-color: #434B5C;\n",
              "        box-shadow: 0px 1px 3px 1px rgba(0, 0, 0, 0.15);\n",
              "        filter: drop-shadow(0px 1px 2px rgba(0, 0, 0, 0.3));\n",
              "        fill: #FFFFFF;\n",
              "      }\n",
              "    </style>\n",
              "    <button class=\"colab-df-generate\" onclick=\"generateWithVariable('compare_results')\"\n",
              "            title=\"Generate code using this dataframe.\"\n",
              "            style=\"display:none;\">\n",
              "\n",
              "  <svg xmlns=\"http://www.w3.org/2000/svg\" height=\"24px\"viewBox=\"0 0 24 24\"\n",
              "       width=\"24px\">\n",
              "    <path d=\"M7,19H8.4L18.45,9,17,7.55,7,17.6ZM5,21V16.75L18.45,3.32a2,2,0,0,1,2.83,0l1.4,1.43a1.91,1.91,0,0,1,.58,1.4,1.91,1.91,0,0,1-.58,1.4L9.25,21ZM18.45,9,17,7.55Zm-12,3A5.31,5.31,0,0,0,4.9,8.1,5.31,5.31,0,0,0,1,6.5,5.31,5.31,0,0,0,4.9,4.9,5.31,5.31,0,0,0,6.5,1,5.31,5.31,0,0,0,8.1,4.9,5.31,5.31,0,0,0,12,6.5,5.46,5.46,0,0,0,6.5,12Z\"/>\n",
              "  </svg>\n",
              "    </button>\n",
              "    <script>\n",
              "      (() => {\n",
              "      const buttonEl =\n",
              "        document.querySelector('#id_5d376ec1-6aa8-4a8d-b969-e80a78b1fe6f button.colab-df-generate');\n",
              "      buttonEl.style.display =\n",
              "        google.colab.kernel.accessAllowed ? 'block' : 'none';\n",
              "\n",
              "      buttonEl.onclick = () => {\n",
              "        google.colab.notebook.generateWithVariable('compare_results');\n",
              "      }\n",
              "      })();\n",
              "    </script>\n",
              "  </div>\n",
              "\n",
              "    </div>\n",
              "  </div>\n"
            ],
            "application/vnd.google.colaboratory.intrinsic+json": {
              "type": "dataframe",
              "variable_name": "compare_results",
              "summary": "{\n  \"name\": \"compare_results\",\n  \"rows\": 3,\n  \"fields\": [\n    {\n      \"column\": \"model_name\",\n      \"properties\": {\n        \"dtype\": \"string\",\n        \"num_unique_values\": 3,\n        \"samples\": [\n          \"FashionMNISTModelV0\",\n          \"FashionMNISTModelV1\",\n          \"FashionMNISTModelV2\"\n        ],\n        \"semantic_type\": \"\",\n        \"description\": \"\"\n      }\n    },\n    {\n      \"column\": \"model_loss\",\n      \"properties\": {\n        \"dtype\": \"number\",\n        \"std\": 0.1849375950729791,\n        \"min\": 0.28731194138526917,\n        \"max\": 0.6540142297744751,\n        \"num_unique_values\": 3,\n        \"samples\": [\n          0.512529730796814,\n          0.6540142297744751,\n          0.28731194138526917\n        ],\n        \"semantic_type\": \"\",\n        \"description\": \"\"\n      }\n    },\n    {\n      \"column\": \"model_acc\",\n      \"properties\": {\n        \"dtype\": \"number\",\n        \"std\": 7.191834881245012,\n        \"min\": 76.19808306709265,\n        \"max\": 90.57507987220447,\n        \"num_unique_values\": 3,\n        \"samples\": [\n          83.00718849840256,\n          76.19808306709265,\n          90.57507987220447\n        ],\n        \"semantic_type\": \"\",\n        \"description\": \"\"\n      }\n    }\n  ]\n}"
            }
          },
          "metadata": {},
          "execution_count": 69
        }
      ],
      "source": [
        "import pandas as pd\n",
        "\n",
        "compare_results = pd.DataFrame([model_0_results,\n",
        "                                model_1_results,\n",
        "                                model_2_results\n",
        "])\n",
        "compare_results"
      ]
    },
    {
      "cell_type": "code",
      "execution_count": null,
      "metadata": {
        "colab": {
          "base_uri": "https://localhost:8080/",
          "height": 143
        },
        "id": "r9yKno61zHfG",
        "outputId": "b40ac461-7360-4d89-a210-48de05fe7c19"
      },
      "outputs": [
        {
          "output_type": "execute_result",
          "data": {
            "text/plain": [
              "            model_name  model_loss  model_acc  training_time\n",
              "0  FashionMNISTModelV0    0.512530  83.007188      34.399693\n",
              "1  FashionMNISTModelV1    0.654014  76.198083      55.458864\n",
              "2  FashionMNISTModelV2    0.287312  90.575080     646.521839"
            ],
            "text/html": [
              "\n",
              "  <div id=\"df-7e475fda-7138-4bf4-b0ee-e1f999213453\" class=\"colab-df-container\">\n",
              "    <div>\n",
              "<style scoped>\n",
              "    .dataframe tbody tr th:only-of-type {\n",
              "        vertical-align: middle;\n",
              "    }\n",
              "\n",
              "    .dataframe tbody tr th {\n",
              "        vertical-align: top;\n",
              "    }\n",
              "\n",
              "    .dataframe thead th {\n",
              "        text-align: right;\n",
              "    }\n",
              "</style>\n",
              "<table border=\"1\" class=\"dataframe\">\n",
              "  <thead>\n",
              "    <tr style=\"text-align: right;\">\n",
              "      <th></th>\n",
              "      <th>model_name</th>\n",
              "      <th>model_loss</th>\n",
              "      <th>model_acc</th>\n",
              "      <th>training_time</th>\n",
              "    </tr>\n",
              "  </thead>\n",
              "  <tbody>\n",
              "    <tr>\n",
              "      <th>0</th>\n",
              "      <td>FashionMNISTModelV0</td>\n",
              "      <td>0.512530</td>\n",
              "      <td>83.007188</td>\n",
              "      <td>34.399693</td>\n",
              "    </tr>\n",
              "    <tr>\n",
              "      <th>1</th>\n",
              "      <td>FashionMNISTModelV1</td>\n",
              "      <td>0.654014</td>\n",
              "      <td>76.198083</td>\n",
              "      <td>55.458864</td>\n",
              "    </tr>\n",
              "    <tr>\n",
              "      <th>2</th>\n",
              "      <td>FashionMNISTModelV2</td>\n",
              "      <td>0.287312</td>\n",
              "      <td>90.575080</td>\n",
              "      <td>646.521839</td>\n",
              "    </tr>\n",
              "  </tbody>\n",
              "</table>\n",
              "</div>\n",
              "    <div class=\"colab-df-buttons\">\n",
              "\n",
              "  <div class=\"colab-df-container\">\n",
              "    <button class=\"colab-df-convert\" onclick=\"convertToInteractive('df-7e475fda-7138-4bf4-b0ee-e1f999213453')\"\n",
              "            title=\"Convert this dataframe to an interactive table.\"\n",
              "            style=\"display:none;\">\n",
              "\n",
              "  <svg xmlns=\"http://www.w3.org/2000/svg\" height=\"24px\" viewBox=\"0 -960 960 960\">\n",
              "    <path d=\"M120-120v-720h720v720H120Zm60-500h600v-160H180v160Zm220 220h160v-160H400v160Zm0 220h160v-160H400v160ZM180-400h160v-160H180v160Zm440 0h160v-160H620v160ZM180-180h160v-160H180v160Zm440 0h160v-160H620v160Z\"/>\n",
              "  </svg>\n",
              "    </button>\n",
              "\n",
              "  <style>\n",
              "    .colab-df-container {\n",
              "      display:flex;\n",
              "      gap: 12px;\n",
              "    }\n",
              "\n",
              "    .colab-df-convert {\n",
              "      background-color: #E8F0FE;\n",
              "      border: none;\n",
              "      border-radius: 50%;\n",
              "      cursor: pointer;\n",
              "      display: none;\n",
              "      fill: #1967D2;\n",
              "      height: 32px;\n",
              "      padding: 0 0 0 0;\n",
              "      width: 32px;\n",
              "    }\n",
              "\n",
              "    .colab-df-convert:hover {\n",
              "      background-color: #E2EBFA;\n",
              "      box-shadow: 0px 1px 2px rgba(60, 64, 67, 0.3), 0px 1px 3px 1px rgba(60, 64, 67, 0.15);\n",
              "      fill: #174EA6;\n",
              "    }\n",
              "\n",
              "    .colab-df-buttons div {\n",
              "      margin-bottom: 4px;\n",
              "    }\n",
              "\n",
              "    [theme=dark] .colab-df-convert {\n",
              "      background-color: #3B4455;\n",
              "      fill: #D2E3FC;\n",
              "    }\n",
              "\n",
              "    [theme=dark] .colab-df-convert:hover {\n",
              "      background-color: #434B5C;\n",
              "      box-shadow: 0px 1px 3px 1px rgba(0, 0, 0, 0.15);\n",
              "      filter: drop-shadow(0px 1px 2px rgba(0, 0, 0, 0.3));\n",
              "      fill: #FFFFFF;\n",
              "    }\n",
              "  </style>\n",
              "\n",
              "    <script>\n",
              "      const buttonEl =\n",
              "        document.querySelector('#df-7e475fda-7138-4bf4-b0ee-e1f999213453 button.colab-df-convert');\n",
              "      buttonEl.style.display =\n",
              "        google.colab.kernel.accessAllowed ? 'block' : 'none';\n",
              "\n",
              "      async function convertToInteractive(key) {\n",
              "        const element = document.querySelector('#df-7e475fda-7138-4bf4-b0ee-e1f999213453');\n",
              "        const dataTable =\n",
              "          await google.colab.kernel.invokeFunction('convertToInteractive',\n",
              "                                                    [key], {});\n",
              "        if (!dataTable) return;\n",
              "\n",
              "        const docLinkHtml = 'Like what you see? Visit the ' +\n",
              "          '<a target=\"_blank\" href=https://colab.research.google.com/notebooks/data_table.ipynb>data table notebook</a>'\n",
              "          + ' to learn more about interactive tables.';\n",
              "        element.innerHTML = '';\n",
              "        dataTable['output_type'] = 'display_data';\n",
              "        await google.colab.output.renderOutput(dataTable, element);\n",
              "        const docLink = document.createElement('div');\n",
              "        docLink.innerHTML = docLinkHtml;\n",
              "        element.appendChild(docLink);\n",
              "      }\n",
              "    </script>\n",
              "  </div>\n",
              "\n",
              "\n",
              "    <div id=\"df-624a8a9a-d2e8-4927-b61f-d77ca17fcf89\">\n",
              "      <button class=\"colab-df-quickchart\" onclick=\"quickchart('df-624a8a9a-d2e8-4927-b61f-d77ca17fcf89')\"\n",
              "                title=\"Suggest charts\"\n",
              "                style=\"display:none;\">\n",
              "\n",
              "<svg xmlns=\"http://www.w3.org/2000/svg\" height=\"24px\"viewBox=\"0 0 24 24\"\n",
              "     width=\"24px\">\n",
              "    <g>\n",
              "        <path d=\"M19 3H5c-1.1 0-2 .9-2 2v14c0 1.1.9 2 2 2h14c1.1 0 2-.9 2-2V5c0-1.1-.9-2-2-2zM9 17H7v-7h2v7zm4 0h-2V7h2v10zm4 0h-2v-4h2v4z\"/>\n",
              "    </g>\n",
              "</svg>\n",
              "      </button>\n",
              "\n",
              "<style>\n",
              "  .colab-df-quickchart {\n",
              "      --bg-color: #E8F0FE;\n",
              "      --fill-color: #1967D2;\n",
              "      --hover-bg-color: #E2EBFA;\n",
              "      --hover-fill-color: #174EA6;\n",
              "      --disabled-fill-color: #AAA;\n",
              "      --disabled-bg-color: #DDD;\n",
              "  }\n",
              "\n",
              "  [theme=dark] .colab-df-quickchart {\n",
              "      --bg-color: #3B4455;\n",
              "      --fill-color: #D2E3FC;\n",
              "      --hover-bg-color: #434B5C;\n",
              "      --hover-fill-color: #FFFFFF;\n",
              "      --disabled-bg-color: #3B4455;\n",
              "      --disabled-fill-color: #666;\n",
              "  }\n",
              "\n",
              "  .colab-df-quickchart {\n",
              "    background-color: var(--bg-color);\n",
              "    border: none;\n",
              "    border-radius: 50%;\n",
              "    cursor: pointer;\n",
              "    display: none;\n",
              "    fill: var(--fill-color);\n",
              "    height: 32px;\n",
              "    padding: 0;\n",
              "    width: 32px;\n",
              "  }\n",
              "\n",
              "  .colab-df-quickchart:hover {\n",
              "    background-color: var(--hover-bg-color);\n",
              "    box-shadow: 0 1px 2px rgba(60, 64, 67, 0.3), 0 1px 3px 1px rgba(60, 64, 67, 0.15);\n",
              "    fill: var(--button-hover-fill-color);\n",
              "  }\n",
              "\n",
              "  .colab-df-quickchart-complete:disabled,\n",
              "  .colab-df-quickchart-complete:disabled:hover {\n",
              "    background-color: var(--disabled-bg-color);\n",
              "    fill: var(--disabled-fill-color);\n",
              "    box-shadow: none;\n",
              "  }\n",
              "\n",
              "  .colab-df-spinner {\n",
              "    border: 2px solid var(--fill-color);\n",
              "    border-color: transparent;\n",
              "    border-bottom-color: var(--fill-color);\n",
              "    animation:\n",
              "      spin 1s steps(1) infinite;\n",
              "  }\n",
              "\n",
              "  @keyframes spin {\n",
              "    0% {\n",
              "      border-color: transparent;\n",
              "      border-bottom-color: var(--fill-color);\n",
              "      border-left-color: var(--fill-color);\n",
              "    }\n",
              "    20% {\n",
              "      border-color: transparent;\n",
              "      border-left-color: var(--fill-color);\n",
              "      border-top-color: var(--fill-color);\n",
              "    }\n",
              "    30% {\n",
              "      border-color: transparent;\n",
              "      border-left-color: var(--fill-color);\n",
              "      border-top-color: var(--fill-color);\n",
              "      border-right-color: var(--fill-color);\n",
              "    }\n",
              "    40% {\n",
              "      border-color: transparent;\n",
              "      border-right-color: var(--fill-color);\n",
              "      border-top-color: var(--fill-color);\n",
              "    }\n",
              "    60% {\n",
              "      border-color: transparent;\n",
              "      border-right-color: var(--fill-color);\n",
              "    }\n",
              "    80% {\n",
              "      border-color: transparent;\n",
              "      border-right-color: var(--fill-color);\n",
              "      border-bottom-color: var(--fill-color);\n",
              "    }\n",
              "    90% {\n",
              "      border-color: transparent;\n",
              "      border-bottom-color: var(--fill-color);\n",
              "    }\n",
              "  }\n",
              "</style>\n",
              "\n",
              "      <script>\n",
              "        async function quickchart(key) {\n",
              "          const quickchartButtonEl =\n",
              "            document.querySelector('#' + key + ' button');\n",
              "          quickchartButtonEl.disabled = true;  // To prevent multiple clicks.\n",
              "          quickchartButtonEl.classList.add('colab-df-spinner');\n",
              "          try {\n",
              "            const charts = await google.colab.kernel.invokeFunction(\n",
              "                'suggestCharts', [key], {});\n",
              "          } catch (error) {\n",
              "            console.error('Error during call to suggestCharts:', error);\n",
              "          }\n",
              "          quickchartButtonEl.classList.remove('colab-df-spinner');\n",
              "          quickchartButtonEl.classList.add('colab-df-quickchart-complete');\n",
              "        }\n",
              "        (() => {\n",
              "          let quickchartButtonEl =\n",
              "            document.querySelector('#df-624a8a9a-d2e8-4927-b61f-d77ca17fcf89 button');\n",
              "          quickchartButtonEl.style.display =\n",
              "            google.colab.kernel.accessAllowed ? 'block' : 'none';\n",
              "        })();\n",
              "      </script>\n",
              "    </div>\n",
              "\n",
              "  <div id=\"id_c0253e7f-c54e-48f3-b856-510d6e42066a\">\n",
              "    <style>\n",
              "      .colab-df-generate {\n",
              "        background-color: #E8F0FE;\n",
              "        border: none;\n",
              "        border-radius: 50%;\n",
              "        cursor: pointer;\n",
              "        display: none;\n",
              "        fill: #1967D2;\n",
              "        height: 32px;\n",
              "        padding: 0 0 0 0;\n",
              "        width: 32px;\n",
              "      }\n",
              "\n",
              "      .colab-df-generate:hover {\n",
              "        background-color: #E2EBFA;\n",
              "        box-shadow: 0px 1px 2px rgba(60, 64, 67, 0.3), 0px 1px 3px 1px rgba(60, 64, 67, 0.15);\n",
              "        fill: #174EA6;\n",
              "      }\n",
              "\n",
              "      [theme=dark] .colab-df-generate {\n",
              "        background-color: #3B4455;\n",
              "        fill: #D2E3FC;\n",
              "      }\n",
              "\n",
              "      [theme=dark] .colab-df-generate:hover {\n",
              "        background-color: #434B5C;\n",
              "        box-shadow: 0px 1px 3px 1px rgba(0, 0, 0, 0.15);\n",
              "        filter: drop-shadow(0px 1px 2px rgba(0, 0, 0, 0.3));\n",
              "        fill: #FFFFFF;\n",
              "      }\n",
              "    </style>\n",
              "    <button class=\"colab-df-generate\" onclick=\"generateWithVariable('compare_results')\"\n",
              "            title=\"Generate code using this dataframe.\"\n",
              "            style=\"display:none;\">\n",
              "\n",
              "  <svg xmlns=\"http://www.w3.org/2000/svg\" height=\"24px\"viewBox=\"0 0 24 24\"\n",
              "       width=\"24px\">\n",
              "    <path d=\"M7,19H8.4L18.45,9,17,7.55,7,17.6ZM5,21V16.75L18.45,3.32a2,2,0,0,1,2.83,0l1.4,1.43a1.91,1.91,0,0,1,.58,1.4,1.91,1.91,0,0,1-.58,1.4L9.25,21ZM18.45,9,17,7.55Zm-12,3A5.31,5.31,0,0,0,4.9,8.1,5.31,5.31,0,0,0,1,6.5,5.31,5.31,0,0,0,4.9,4.9,5.31,5.31,0,0,0,6.5,1,5.31,5.31,0,0,0,8.1,4.9,5.31,5.31,0,0,0,12,6.5,5.46,5.46,0,0,0,6.5,12Z\"/>\n",
              "  </svg>\n",
              "    </button>\n",
              "    <script>\n",
              "      (() => {\n",
              "      const buttonEl =\n",
              "        document.querySelector('#id_c0253e7f-c54e-48f3-b856-510d6e42066a button.colab-df-generate');\n",
              "      buttonEl.style.display =\n",
              "        google.colab.kernel.accessAllowed ? 'block' : 'none';\n",
              "\n",
              "      buttonEl.onclick = () => {\n",
              "        google.colab.notebook.generateWithVariable('compare_results');\n",
              "      }\n",
              "      })();\n",
              "    </script>\n",
              "  </div>\n",
              "\n",
              "    </div>\n",
              "  </div>\n"
            ],
            "application/vnd.google.colaboratory.intrinsic+json": {
              "type": "dataframe",
              "variable_name": "compare_results",
              "summary": "{\n  \"name\": \"compare_results\",\n  \"rows\": 3,\n  \"fields\": [\n    {\n      \"column\": \"model_name\",\n      \"properties\": {\n        \"dtype\": \"string\",\n        \"num_unique_values\": 3,\n        \"samples\": [\n          \"FashionMNISTModelV0\",\n          \"FashionMNISTModelV1\",\n          \"FashionMNISTModelV2\"\n        ],\n        \"semantic_type\": \"\",\n        \"description\": \"\"\n      }\n    },\n    {\n      \"column\": \"model_loss\",\n      \"properties\": {\n        \"dtype\": \"number\",\n        \"std\": 0.1849375950729791,\n        \"min\": 0.28731194138526917,\n        \"max\": 0.6540142297744751,\n        \"num_unique_values\": 3,\n        \"samples\": [\n          0.512529730796814,\n          0.6540142297744751,\n          0.28731194138526917\n        ],\n        \"semantic_type\": \"\",\n        \"description\": \"\"\n      }\n    },\n    {\n      \"column\": \"model_acc\",\n      \"properties\": {\n        \"dtype\": \"number\",\n        \"std\": 7.191834881245012,\n        \"min\": 76.19808306709265,\n        \"max\": 90.57507987220447,\n        \"num_unique_values\": 3,\n        \"samples\": [\n          83.00718849840256,\n          76.19808306709265,\n          90.57507987220447\n        ],\n        \"semantic_type\": \"\",\n        \"description\": \"\"\n      }\n    },\n    {\n      \"column\": \"training_time\",\n      \"properties\": {\n        \"dtype\": \"number\",\n        \"std\": 347.48919661077815,\n        \"min\": 34.39969303600003,\n        \"max\": 646.521838816,\n        \"num_unique_values\": 3,\n        \"samples\": [\n          34.39969303600003,\n          55.45886370799997,\n          646.521838816\n        ],\n        \"semantic_type\": \"\",\n        \"description\": \"\"\n      }\n    }\n  ]\n}"
            }
          },
          "metadata": {},
          "execution_count": 70
        }
      ],
      "source": [
        "compare_results[\"training_time\"] = [total_train_data_model_0,\n",
        "                                    total_train_time_model_1,\n",
        "                                    total_train_time_model_2]\n",
        "compare_results"
      ]
    },
    {
      "cell_type": "code",
      "execution_count": null,
      "metadata": {
        "colab": {
          "base_uri": "https://localhost:8080/"
        },
        "id": "bWA7VeOp1BmW",
        "outputId": "d0c5caa8-0e6a-488d-8e58-6500bd082be9"
      },
      "outputs": [
        {
          "output_type": "execute_result",
          "data": {
            "text/plain": [
              "Text(0, 0.5, 'model')"
            ]
          },
          "metadata": {},
          "execution_count": 71
        },
        {
          "output_type": "display_data",
          "data": {
            "text/plain": [
              "<Figure size 640x480 with 1 Axes>"
            ],
            "image/png": "[encoded data removed]"
          },
          "metadata": {}
        }
      ],
      "source": [
        "compare_results.set_index(\"model_name\")[\"model_acc\"].plot(kind=\"barh\")\n",
        "plt.xlabel(\"accuracy (%)\")\n",
        "plt.ylabel(\"model\")"
      ]
    },
    {
      "cell_type": "code",
      "execution_count": null,
      "metadata": {
        "id": "9Mo8APfq2Eu2"
      },
      "outputs": [],
      "source": [
        "def make_predictions(model:torch.nn.Module,\n",
        "                     data: list,\n",
        "                     device: torch.device = device):\n",
        "  pred_probs = []\n",
        "  model.to(device)\n",
        "  model.eval()\n",
        "  with torch.inference_mode():\n",
        "    for sample in data:\n",
        "      sample = torch.unsqueeze(sample, dim=0).to(device)\n",
        "\n",
        "      pred_logit = model(sample)\n",
        "\n",
        "      pred_prob = torch.softmax(pred_logit.squeeze(), dim=0)\n",
        "\n",
        "      pred_probs.append(pred_prob.cpu())\n",
        "\n",
        "  return torch.stack(pred_probs)"
      ]
    },
    {
      "cell_type": "code",
      "execution_count": null,
      "metadata": {
        "colab": {
          "base_uri": "https://localhost:8080/"
        },
        "id": "pL9W_YZM3vdW",
        "outputId": "23982e3f-0e9b-4b67-eb31-02fd50aaf4ac"
      },
      "outputs": [
        {
          "output_type": "execute_result",
          "data": {
            "text/plain": [
              "torch.Size([1, 28, 28])"
            ]
          },
          "metadata": {},
          "execution_count": 73
        }
      ],
      "source": [
        "import random\n",
        "# random.seed(42)\n",
        "test_samples=[]\n",
        "test_labels=[]\n",
        "\n",
        "for sample,label in random.sample(list(test_data),k=9):\n",
        "  test_samples.append(sample)\n",
        "  test_labels.append(label)\n",
        "\n",
        "test_samples[0].shape"
      ]
    },
    {
      "cell_type": "code",
      "execution_count": null,
      "metadata": {
        "colab": {
          "base_uri": "https://localhost:8080/",
          "height": 470
        },
        "id": "rMrC9vYW4kn-",
        "outputId": "e59a5ccb-af7f-421a-d4e4-011066459f76"
      },
      "outputs": [
        {
          "output_type": "execute_result",
          "data": {
            "text/plain": [
              "Text(0.5, 1.0, 'Sneaker')"
            ]
          },
          "metadata": {},
          "execution_count": 74
        },
        {
          "output_type": "display_data",
          "data": {
            "text/plain": [
              "<Figure size 640x480 with 1 Axes>"
            ],
            "image/png": "[encoded data removed]"
          },
          "metadata": {}
        }
      ],
      "source": [
        "plt.imshow(test_samples[0].squeeze(),cmap=\"gray\")\n",
        "plt.title(class_names[test_labels[0]])"
      ]
    },
    {
      "cell_type": "code",
      "execution_count": null,
      "metadata": {
        "colab": {
          "base_uri": "https://localhost:8080/"
        },
        "id": "dgxMvLmw4_v4",
        "outputId": "4a336921-02e1-4c2d-da0f-e7b5df2b29c1"
      },
      "outputs": [
        {
          "output_type": "execute_result",
          "data": {
            "text/plain": [
              "tensor([[7.4513e-06, 1.2557e-07, 3.5320e-08, 7.4380e-09, 4.0501e-09, 1.9771e-03,\n",
              "         2.2711e-08, 9.8014e-01, 4.8092e-04, 1.7396e-02],\n",
              "        [1.5197e-02, 5.5561e-08, 2.0507e-05, 9.8380e-01, 2.9435e-06, 2.4857e-10,\n",
              "         9.8357e-04, 2.1579e-08, 9.0547e-08, 7.1342e-09],\n",
              "        [1.9735e-03, 1.2311e-08, 9.8066e-01, 2.1551e-07, 6.2859e-03, 1.8501e-10,\n",
              "         1.1080e-02, 7.4445e-11, 2.3505e-10, 1.6523e-09],\n",
              "        [1.9410e-02, 5.7653e-01, 5.6069e-02, 1.1359e-01, 1.5356e-01, 2.3827e-08,\n",
              "         8.0828e-02, 1.5933e-06, 4.9554e-08, 2.7520e-06],\n",
              "        [1.2660e-03, 1.3894e-06, 6.1697e-04, 9.6179e-01, 3.5227e-02, 9.1538e-12,\n",
              "         8.6856e-04, 2.0383e-09, 2.2633e-04, 5.5674e-10],\n",
              "        [8.4917e-12, 2.6402e-15, 5.6484e-13, 2.4604e-12, 5.3302e-13, 6.1416e-07,\n",
              "         1.5630e-08, 2.1518e-09, 7.1443e-09, 1.0000e+00],\n",
              "        [7.7886e-03, 4.4209e-05, 7.2137e-01, 1.0564e-05, 2.6914e-01, 4.2018e-08,\n",
              "         1.6326e-03, 6.6484e-09, 9.3752e-06, 1.0811e-05],\n",
              "        [8.8781e-14, 1.2320e-18, 1.9833e-16, 1.0252e-15, 6.1672e-17, 2.0531e-09,\n",
              "         8.1327e-15, 2.3567e-08, 3.8214e-13, 1.0000e+00],\n",
              "        [1.7257e-04, 8.7867e-10, 8.7393e-01, 2.8217e-04, 7.1906e-02, 6.5140e-10,\n",
              "         5.3711e-02, 5.2234e-09, 2.1587e-06, 3.9953e-08]])"
            ]
          },
          "metadata": {},
          "execution_count": 75
        }
      ],
      "source": [
        "pred_probs = make_predictions(model=model_2,\n",
        "                             data=test_samples)\n",
        "\n",
        "pred_probs[:10]"
      ]
    },
    {
      "cell_type": "code",
      "execution_count": null,
      "metadata": {
        "colab": {
          "base_uri": "https://localhost:8080/"
        },
        "id": "DCMFqX4g5LT-",
        "outputId": "10086afe-89b9-4d4a-d5ea-081907d099cb"
      },
      "outputs": [
        {
          "output_type": "execute_result",
          "data": {
            "text/plain": [
              "tensor([7, 3, 2, 1, 3, 9, 2, 9, 2])"
            ]
          },
          "metadata": {},
          "execution_count": 76
        }
      ],
      "source": [
        "pred_classes = pred_probs.argmax(dim=1)\n",
        "\n",
        "pred_classes"
      ]
    },
    {
      "cell_type": "code",
      "execution_count": null,
      "metadata": {
        "colab": {
          "base_uri": "https://localhost:8080/",
          "height": 773
        },
        "id": "Gl_ERA5O6JDO",
        "outputId": "29681fae-e692-4e40-f75c-a1911282a016"
      },
      "outputs": [
        {
          "output_type": "display_data",
          "data": {
            "text/plain": [
              "<Figure size 900x900 with 9 Axes>"
            ],
            "image/png": "[encoded data removed]"
          },
          "metadata": {}
        }
      ],
      "source": [
        "plt.figure(figsize=(9,9))\n",
        "nrows = 3\n",
        "ncols = 3\n",
        "\n",
        "for i, sample in enumerate(test_samples):\n",
        "  plt.subplot(nrows, ncols, i+1)\n",
        "\n",
        "  plt.imshow(sample.squeeze(),cmap=\"gray\")\n",
        "\n",
        "  pred_label = class_names[pred_classes[i]]\n",
        "\n",
        "  truth_label = class_names[test_labels[i]]\n",
        "\n",
        "  title_text = f\"Pred: {pred_label} | Truth: {truth_label}\"\n",
        "\n",
        "  if pred_label == truth_label:\n",
        "    plt.title(title_text, fontsize=10, c=\"g\")\n",
        "  else:\n",
        "    plt.title(title_text, fontsize=10, c=\"r\")\n",
        "\n"
      ]
    },
    {
      "cell_type": "code",
      "execution_count": null,
      "metadata": {
        "colab": {
          "base_uri": "https://localhost:8080/",
          "height": 1000,
          "referenced_widgets": [
            "ac5ac2a9413843499e7f45ee0a86eb6e",
            "c00eab479721462684d01734df832243",
            "782e14d7611e4f31a10028d9af49761e",
            "aa48d7e5f32e46f79360f0e7321573b2",
            "c0f87e381a02474c880910afc78b5cfc",
            "11dd6662ebb64e17a3c07631e6e0851c",
            "60d48616938a47feaade3625c0349587",
            "4ab9f377cfec44ef949f2b91c141acd1",
            "6a40f50454df4a1eb84f3e09b40867cf",
            "1ce52eff01854e168960309918b5e9b9",
            "fe3db13f956b4f748bda24a1489d6276"
          ]
        },
        "id": "4zaiWpxa7vhG",
        "outputId": "2f595b1a-40c4-412f-f8cb-695370419175"
      },
      "outputs": [
        {
          "output_type": "display_data",
          "data": {
            "text/plain": [
              "Predictions..:   0%|          | 0/313 [00:00<?, ?it/s]"
            ],
            "application/vnd.jupyter.widget-view+json": {
              "version_major": 2,
              "version_minor": 0,
              "model_id": "ac5ac2a9413843499e7f45ee0a86eb6e"
            }
          },
          "metadata": {}
        },
        {
          "output_type": "stream",
          "name": "stdout",
          "text": [
            "[tensor([9, 7, 0, 0, 5, 4, 7, 3, 9, 3, 0, 8, 6, 8, 0, 6, 3, 8, 8, 6, 8, 6, 4, 1,\n",
            "        9, 1, 6, 4, 2, 1, 4, 6]), tensor([2, 7, 2, 6, 8, 9, 6, 9, 9, 5, 1, 7, 9, 6, 3, 4, 0, 2, 3, 2, 6, 7, 3, 2,\n",
            "        8, 9, 9, 3, 7, 7, 8, 5]), tensor([0, 6, 3, 4, 8, 7, 5, 4, 7, 4, 3, 3, 2, 4, 2, 8, 6, 8, 1, 2, 3, 4, 5, 2,\n",
            "        0, 9, 9, 8, 6, 2, 6, 3]), tensor([8, 3, 6, 7, 8, 8, 4, 9, 7, 0, 8, 4, 0, 7, 3, 6, 9, 5, 5, 8, 2, 5, 1, 3,\n",
            "        3, 6, 5, 7, 2, 3, 2, 9]), tensor([5, 6, 1, 8, 8, 9, 9, 5, 6, 7, 3, 9, 8, 1, 3, 8, 7, 3, 4, 6, 6, 6, 3, 7,\n",
            "        8, 6, 9, 4, 7, 3, 1, 0]), tensor([6, 9, 4, 8, 6, 6, 0, 8, 7, 3, 7, 3, 3, 1, 7, 2, 6, 6, 0, 5, 6, 4, 0, 1,\n",
            "        4, 8, 6, 5, 2, 2, 0, 1]), tensor([3, 8, 3, 5, 0, 4, 2, 2, 3, 3, 9, 3, 6, 1, 8, 8, 7, 6, 2, 0, 9, 6, 3, 8,\n",
            "        1, 1, 4, 9, 5, 4, 6, 4]), tensor([9, 8, 8, 1, 9, 2, 2, 2, 2, 8, 8, 7, 4, 5, 3, 1, 8, 3, 9, 8, 0, 3, 0, 6,\n",
            "        7, 4, 9, 4, 0, 6, 4, 6]), tensor([8, 5, 9, 5, 0, 1, 0, 5, 5, 1, 8, 7, 6, 4, 7, 4, 0, 7, 9, 8, 6, 8, 6, 3,\n",
            "        8, 6, 2, 1, 4, 9, 0, 2]), tensor([7, 9, 4, 5, 7, 1, 9, 0, 5, 6, 6, 0, 4, 2, 4, 3, 9, 8, 7, 5, 6, 4, 1, 7,\n",
            "        7, 6, 2, 1, 3, 3, 0, 9]), tensor([7, 1, 3, 8, 8, 4, 7, 4, 7, 9, 2, 3, 3, 4, 6, 0, 0, 6, 0, 5, 7, 8, 4, 0,\n",
            "        9, 5, 3, 3, 6, 1, 5, 4]), tensor([9, 2, 9, 1, 6, 0, 7, 9, 3, 3, 7, 7, 6, 5, 9, 1, 0, 4, 2, 1, 2, 4, 4, 2,\n",
            "        9, 1, 0, 6, 8, 8, 6, 9]), tensor([3, 2, 9, 1, 5, 6, 0, 5, 6, 8, 7, 6, 7, 3, 9, 6, 4, 0, 9, 1, 7, 1, 4, 6,\n",
            "        7, 8, 5, 7, 3, 8, 2, 7]), tensor([2, 9, 3, 6, 8, 6, 6, 4, 2, 7, 8, 7, 4, 2, 6, 1, 5, 7, 0, 1, 4, 8, 6, 9,\n",
            "        2, 0, 6, 5, 8, 3, 7, 8]), tensor([2, 4, 8, 2, 9, 4, 7, 2, 1, 7, 8, 3, 4, 6, 2, 5, 3, 6, 2, 3, 2, 6, 0, 0,\n",
            "        3, 9, 5, 8, 9, 1, 1, 4]), tensor([1, 5, 3, 8, 8, 9, 2, 4, 7, 6, 6, 7, 4, 7, 7, 7, 6, 2, 5, 2, 4, 7, 0, 2,\n",
            "        9, 4, 6, 3, 4, 3, 3, 8]), tensor([2, 5, 5, 7, 8, 6, 2, 3, 7, 1, 4, 5, 7, 2, 2, 5, 3, 7, 5, 6, 8, 7, 8, 3,\n",
            "        3, 3, 6, 0, 4, 0, 9, 8]), tensor([2, 7, 9, 5, 6, 5, 9, 5, 6, 1, 4, 3, 3, 0, 9, 7, 7, 3, 4, 3, 2, 4, 8, 5,\n",
            "        9, 2, 3, 0, 6, 3, 8, 9]), tensor([0, 2, 7, 1, 8, 3, 8, 8, 6, 0, 4, 7, 2, 9, 5, 2, 1, 2, 4, 7, 6, 1, 3, 9,\n",
            "        6, 8, 7, 7, 2, 0, 8, 4]), tensor([3, 2, 7, 3, 9, 8, 1, 6, 3, 0, 1, 5, 4, 0, 3, 4, 6, 5, 2, 3, 0, 6, 7, 4,\n",
            "        1, 6, 4, 4, 6, 2, 1, 8]), tensor([2, 3, 5, 6, 1, 3, 4, 7, 5, 6, 8, 9, 5, 8, 6, 2, 6, 1, 8, 3, 5, 0, 3, 1,\n",
            "        4, 8, 7, 3, 8, 9, 4, 2]), tensor([4, 5, 3, 6, 5, 9, 7, 8, 2, 6, 3, 4, 6, 7, 1, 9, 7, 9, 3, 8, 0, 6, 6, 6,\n",
            "        8, 1, 5, 5, 2, 8, 0, 5]), tensor([5, 3, 6, 0, 1, 0, 6, 4, 5, 9, 8, 6, 0, 7, 9, 8, 0, 7, 3, 4, 6, 2, 2, 5,\n",
            "        4, 7, 8, 4, 9, 7, 6, 5]), tensor([1, 6, 5, 9, 2, 1, 7, 3, 9, 2, 5, 1, 7, 3, 2, 4, 0, 8, 2, 7, 1, 1, 2, 6,\n",
            "        8, 6, 6, 9, 3, 6, 6, 1]), tensor([8, 5, 4, 9, 1, 6, 9, 7, 3, 4, 3, 4, 6, 6, 4, 7, 1, 9, 1, 7, 3, 0, 0, 3,\n",
            "        6, 8, 7, 2, 5, 4, 3, 0]), tensor([9, 6, 4, 7, 5, 6, 4, 4, 1, 7, 9, 2, 5, 3, 8, 6, 6, 4, 0, 9, 6, 0, 8, 8,\n",
            "        8, 8, 9, 2, 7, 5, 6, 3]), tensor([0, 5, 2, 2, 3, 0, 6, 8, 2, 0, 9, 7, 4, 2, 0, 9, 8, 2, 2, 3, 1, 4, 3, 3,\n",
            "        2, 3, 1, 7, 5, 6, 6, 3]), tensor([1, 8, 8, 4, 6, 7, 3, 8, 9, 8, 3, 0, 5, 4, 9, 7, 9, 6, 1, 3, 5, 0, 1, 8,\n",
            "        8, 8, 0, 3, 2, 9, 7, 4]), tensor([7, 4, 1, 2, 1, 3, 0, 5, 2, 0, 3, 6, 1, 3, 8, 6, 6, 4, 3, 8, 6, 2, 6, 6,\n",
            "        3, 3, 2, 5, 8, 3, 9, 8]), tensor([2, 0, 8, 5, 3, 8, 8, 6, 9, 0, 4, 0, 1, 3, 6, 5, 3, 7, 3, 8, 3, 3, 9, 4,\n",
            "        4, 4, 3, 8, 2, 0, 8, 7]), tensor([6, 3, 5, 7, 4, 7, 5, 9, 2, 1, 8, 2, 4, 5, 7, 0, 3, 2, 2, 4, 8, 3, 9, 2,\n",
            "        1, 0, 3, 6, 3, 7, 3, 8]), tensor([3, 3, 7, 0, 2, 4, 6, 8, 8, 3, 5, 7, 2, 7, 9, 7, 6, 2, 4, 1, 2, 8, 8, 7,\n",
            "        9, 0, 8, 5, 7, 1, 0, 2]), tensor([0, 9, 0, 2, 7, 0, 7, 6, 3, 7, 4, 1, 2, 4, 1, 7, 9, 4, 6, 7, 6, 5, 8, 7,\n",
            "        1, 3, 5, 0, 0, 9, 8, 8]), tensor([3, 8, 4, 5, 3, 1, 4, 7, 8, 6, 7, 7, 3, 7, 3, 6, 9, 5, 6, 1, 7, 0, 0, 7,\n",
            "        2, 3, 2, 8, 6, 7, 6, 2]), tensor([0, 0, 2, 7, 4, 1, 0, 9, 0, 3, 2, 0, 1, 8, 5, 2, 9, 0, 6, 5, 4, 0, 0, 3,\n",
            "        1, 6, 9, 5, 1, 7, 0, 4]), tensor([7, 2, 6, 9, 7, 6, 3, 0, 8, 4, 8, 7, 4, 0, 3, 7, 6, 3, 3, 5, 3, 5, 0, 3,\n",
            "        6, 8, 7, 6, 6, 2, 6, 1]), tensor([7, 9, 3, 7, 7, 3, 7, 2, 4, 6, 4, 8, 4, 7, 3, 4, 2, 1, 5, 9, 6, 8, 0, 8,\n",
            "        5, 6, 3, 6, 7, 0, 9, 5]), tensor([6, 5, 8, 6, 3, 6, 6, 3, 7, 7, 9, 7, 4, 4, 4, 3, 0, 5, 3, 9, 4, 2, 6, 1,\n",
            "        6, 8, 2, 2, 7, 7, 3, 6]), tensor([0, 2, 6, 0, 7, 1, 7, 9, 1, 0, 2, 7, 5, 6, 6, 6, 7, 4, 2, 3, 9, 8, 2, 2,\n",
            "        1, 8, 0, 3, 1, 2, 7, 8]), tensor([6, 4, 2, 2, 9, 4, 3, 0, 6, 6, 5, 7, 8, 3, 2, 6, 7, 2, 8, 6, 7, 2, 1, 4,\n",
            "        0, 5, 1, 0, 9, 0, 3, 0]), tensor([2, 8, 6, 1, 9, 7, 6, 2, 6, 2, 2, 1, 8, 9, 9, 2, 4, 7, 3, 3, 3, 0, 4, 0,\n",
            "        7, 4, 5, 1, 1, 2, 4, 0]), tensor([6, 4, 2, 1, 7, 8, 4, 7, 9, 3, 7, 7, 7, 6, 2, 4, 5, 2, 1, 9, 0, 2, 3, 4,\n",
            "        2, 6, 7, 3, 1, 0, 2, 3]), tensor([4, 8, 2, 2, 1, 0, 6, 1, 0, 1, 7, 8, 5, 2, 8, 0, 9, 3, 7, 1, 3, 8, 3, 4,\n",
            "        5, 9, 1, 2, 0, 0, 6, 6]), tensor([3, 8, 4, 9, 1, 1, 8, 6, 2, 2, 7, 4, 4, 2, 5, 7, 2, 8, 3, 7, 9, 5, 6, 9,\n",
            "        9, 3, 6, 4, 0, 8, 7, 1]), tensor([9, 9, 2, 3, 7, 5, 0, 4, 2, 2, 0, 5, 1, 3, 4, 7, 1, 7, 3, 8, 7, 9, 9, 7,\n",
            "        4, 5, 8, 2, 6, 6, 3, 4]), tensor([0, 5, 4, 2, 8, 8, 4, 7, 7, 3, 6, 4, 2, 8, 7, 6, 9, 9, 2, 1, 6, 1, 6, 0,\n",
            "        1, 8, 7, 8, 3, 6, 5, 4]), tensor([2, 0, 5, 7, 9, 4, 2, 5, 1, 7, 3, 6, 7, 8, 5, 7, 8, 9, 0, 7, 1, 3, 2, 6,\n",
            "        3, 4, 8, 7, 7, 8, 0, 1]), tensor([2, 2, 1, 5, 2, 0, 3, 3, 3, 0, 5, 4, 6, 6, 8, 8, 2, 9, 6, 8, 3, 4, 6, 0,\n",
            "        3, 7, 8, 6, 4, 2, 5, 3]), tensor([2, 7, 5, 6, 8, 9, 5, 3, 5, 9, 6, 0, 1, 9, 6, 8, 1, 9, 7, 1, 2, 6, 1, 3,\n",
            "        4, 0, 2, 5, 1, 4, 1, 9]), tensor([3, 5, 4, 6, 6, 4, 1, 1, 7, 6, 7, 0, 0, 2, 8, 7, 8, 5, 8, 8, 1, 6, 1, 7,\n",
            "        0, 9, 5, 2, 6, 2, 3, 8]), tensor([0, 8, 2, 3, 2, 3, 9, 8, 6, 2, 5, 7, 1, 2, 3, 5, 6, 1, 4, 8, 2, 1, 0, 3,\n",
            "        6, 3, 0, 4, 4, 9, 0, 4]), tensor([2, 0, 5, 0, 9, 4, 8, 4, 3, 3, 5, 2, 3, 8, 6, 9, 0, 5, 0, 7, 2, 8, 3, 7,\n",
            "        6, 2, 0, 0, 8, 7, 4, 1]), tensor([8, 1, 3, 7, 9, 7, 6, 3, 9, 3, 0, 1, 7, 0, 8, 2, 3, 1, 1, 3, 7, 1, 2, 3,\n",
            "        1, 7, 5, 2, 0, 6, 3, 4]), tensor([2, 4, 6, 4, 0, 8, 7, 7, 8, 1, 8, 6, 9, 1, 9, 3, 6, 7, 3, 8, 5, 3, 1, 3,\n",
            "        2, 9, 5, 4, 1, 6, 7, 8]), tensor([4, 2, 3, 3, 2, 3, 0, 4, 4, 2, 6, 1, 5, 5, 1, 9, 0, 9, 9, 2, 9, 6, 7, 8,\n",
            "        6, 2, 4, 7, 0, 4, 7, 0]), tensor([5, 6, 9, 8, 6, 7, 1, 1, 5, 8, 0, 3, 3, 4, 7, 2, 1, 5, 2, 6, 3, 8, 7, 3,\n",
            "        7, 3, 5, 7, 9, 3, 7, 0]), tensor([7, 8, 3, 6, 3, 8, 3, 7, 4, 1, 5, 6, 2, 9, 3, 1, 1, 6, 9, 4, 0, 3, 2, 7,\n",
            "        6, 6, 6, 0, 4, 0, 6, 7]), tensor([8, 7, 9, 7, 2, 7, 7, 6, 3, 6, 5, 9, 6, 3, 8, 8, 8, 8, 9, 2, 1, 6, 4, 1,\n",
            "        5, 6, 0, 6, 7, 3, 5, 6]), tensor([8, 2, 4, 4, 3, 9, 1, 9, 1, 2, 3, 7, 6, 1, 7, 6, 1, 8, 3, 4, 7, 3, 9, 5,\n",
            "        6, 2, 8, 2, 9, 0, 7, 4]), tensor([4, 8, 6, 8, 0, 8, 2, 7, 1, 2, 7, 1, 9, 1, 7, 1, 3, 1, 6, 6, 1, 0, 2, 4,\n",
            "        9, 3, 3, 5, 7, 8, 3, 6]), tensor([8, 3, 4, 8, 0, 3, 3, 5, 7, 6, 3, 3, 3, 9, 9, 6, 5, 7, 0, 9, 1, 7, 7, 2,\n",
            "        7, 9, 0, 5, 7, 7, 7, 8]), tensor([2, 7, 0, 7, 2, 7, 5, 9, 1, 2, 2, 4, 2, 7, 8, 7, 7, 4, 6, 6, 7, 2, 0, 7,\n",
            "        8, 2, 5, 6, 0, 6, 3, 6]), tensor([6, 7, 8, 2, 4, 3, 9, 1, 1, 8, 7, 4, 8, 0, 7, 9, 7, 1, 1, 3, 0, 7, 5, 7,\n",
            "        7, 2, 1, 6, 7, 8, 8, 9]), tensor([0, 9, 7, 1, 0, 0, 3, 2, 2, 7, 6, 6, 1, 5, 4, 1, 7, 1, 3, 9, 8, 6, 7, 8,\n",
            "        8, 5, 7, 9, 4, 6, 4, 4]), tensor([2, 6, 1, 1, 1, 2, 1, 6, 6, 2, 3, 7, 8, 5, 7, 9, 6, 4, 7, 2, 9, 1, 7, 8,\n",
            "        1, 1, 3, 5, 0, 4, 1, 8]), tensor([2, 8, 8, 5, 0, 1, 5, 2, 6, 8, 7, 3, 6, 3, 1, 2, 6, 1, 4, 7, 6, 2, 7, 4,\n",
            "        2, 8, 7, 7, 7, 9, 1, 3]), tensor([4, 0, 4, 8, 6, 7, 5, 7, 3, 6, 9, 0, 2, 2, 3, 4, 1, 0, 1, 7, 3, 4, 8, 6,\n",
            "        2, 8, 7, 3, 2, 6, 0, 6]), tensor([5, 9, 8, 4, 7, 2, 5, 7, 7, 7, 1, 2, 0, 6, 2, 6, 4, 2, 7, 2, 9, 0, 1, 8,\n",
            "        3, 7, 6, 6, 8, 6, 6, 3]), tensor([4, 1, 3, 9, 4, 4, 1, 0, 9, 0, 0, 4, 0, 3, 5, 4, 2, 8, 6, 1, 1, 3, 4, 1,\n",
            "        2, 0, 7, 8, 5, 6, 5, 6]), tensor([3, 3, 7, 8, 4, 3, 8, 3, 3, 8, 4, 0, 1, 1, 8, 2, 3, 0, 9, 3, 8, 3, 5, 3,\n",
            "        7, 9, 8, 6, 9, 0, 1, 0]), tensor([8, 1, 8, 7, 2, 1, 9, 6, 7, 6, 0, 3, 4, 9, 4, 9, 9, 4, 8, 1, 2, 3, 1, 5,\n",
            "        7, 5, 8, 7, 6, 2, 3, 7]), tensor([4, 0, 7, 5, 2, 4, 7, 7, 3, 4, 7, 8, 1, 8, 0, 5, 6, 5, 1, 4, 5, 9, 0, 7,\n",
            "        0, 6, 7, 7, 3, 8, 8, 1]), tensor([6, 8, 2, 7, 6, 3, 3, 4, 4, 3, 6, 1, 3, 6, 6, 1, 8, 9, 9, 8, 4, 6, 8, 4,\n",
            "        0, 2, 8, 5, 8, 6, 3, 5]), tensor([5, 2, 4, 0, 6, 6, 4, 6, 6, 2, 3, 2, 5, 3, 9, 3, 8, 9, 9, 7, 7, 1, 1, 3,\n",
            "        5, 1, 0, 7, 6, 8, 0, 9]), tensor([5, 3, 9, 0, 0, 6, 8, 3, 2, 8, 6, 7, 6, 4, 6, 8, 0, 1, 9, 1, 8, 7, 7, 4,\n",
            "        2, 8, 5, 7, 6, 5, 5, 3]), tensor([2, 7, 0, 5, 6, 9, 1, 4, 4, 9, 8, 9, 3, 4, 2, 7, 8, 1, 1, 7, 3, 8, 2, 6,\n",
            "        4, 0, 5, 4, 5, 5, 5, 0]), tensor([0, 9, 8, 9, 4, 6, 8, 6, 8, 1, 1, 4, 8, 2, 4, 1, 4, 9, 5, 0, 7, 3, 8, 7,\n",
            "        7, 0, 7, 4, 3, 6, 0, 4]), tensor([0, 1, 8, 4, 1, 0, 6, 9, 5, 0, 9, 3, 1, 6, 3, 1, 7, 6, 6, 1, 5, 0, 0, 5,\n",
            "        7, 0, 5, 0, 5, 2, 8, 0]), tensor([1, 3, 8, 6, 5, 3, 7, 2, 1, 3, 6, 2, 8, 6, 9, 8, 6, 2, 0, 7, 8, 1, 9, 9,\n",
            "        0, 8, 0, 9, 1, 4, 3, 5]), tensor([6, 1, 3, 1, 1, 1, 9, 0, 4, 1, 9, 5, 4, 0, 4, 7, 9, 4, 8, 1, 7, 6, 7, 2,\n",
            "        8, 9, 1, 6, 2, 8, 9, 8]), tensor([8, 2, 3, 3, 2, 7, 3, 1, 3, 3, 7, 6, 1, 4, 2, 4, 6, 9, 4, 8, 1, 2, 0, 5,\n",
            "        6, 7, 3, 4, 4, 5, 0, 3]), tensor([6, 6, 1, 5, 7, 0, 5, 8, 1, 2, 8, 0, 1, 0, 0, 7, 6, 6, 6, 7, 3, 8, 4, 0,\n",
            "        4, 8, 7, 4, 5, 6, 9, 9]), tensor([1, 8, 1, 2, 9, 9, 8, 4, 6, 6, 2, 5, 4, 6, 7, 0, 4, 8, 4, 1, 0, 1, 5, 1,\n",
            "        4, 2, 3, 3, 7, 6, 8, 6]), tensor([2, 8, 9, 3, 2, 2, 2, 1, 8, 6, 6, 1, 0, 7, 3, 3, 5, 1, 2, 5, 3, 7, 2, 5,\n",
            "        6, 9, 1, 4, 5, 3, 3, 8]), tensor([3, 8, 8, 4, 6, 8, 3, 5, 6, 9, 4, 5, 6, 3, 9, 7, 0, 6, 6, 1, 5, 1, 2, 9,\n",
            "        7, 3, 3, 0, 9, 1, 8, 7]), tensor([9, 6, 6, 4, 4, 0, 8, 3, 8, 8, 3, 7, 9, 7, 3, 3, 7, 9, 5, 4, 2, 1, 2, 3,\n",
            "        6, 1, 7, 3, 2, 9, 8, 8]), tensor([8, 5, 3, 5, 5, 2, 8, 5, 1, 7, 0, 3, 9, 3, 8, 7, 5, 1, 0, 9, 4, 0, 8, 4,\n",
            "        9, 4, 8, 1, 0, 2, 6, 3]), tensor([8, 6, 6, 0, 2, 0, 6, 4, 4, 4, 5, 9, 8, 3, 3, 2, 0, 1, 5, 9, 7, 6, 7, 7,\n",
            "        4, 7, 6, 5, 2, 7, 2, 9]), tensor([1, 6, 0, 7, 3, 1, 3, 0, 7, 7, 8, 9, 6, 3, 9, 5, 7, 9, 5, 9, 4, 7, 2, 6,\n",
            "        3, 7, 5, 7, 0, 6, 4, 2]), tensor([1, 7, 9, 7, 8, 9, 7, 0, 6, 4, 8, 9, 6, 6, 4, 8, 7, 0, 5, 7, 0, 0, 3, 7,\n",
            "        2, 3, 5, 4, 4, 0, 8, 4]), tensor([9, 6, 2, 6, 2, 4, 2, 3, 4, 0, 7, 7, 4, 7, 7, 7, 3, 5, 2, 7, 1, 3, 4, 5,\n",
            "        8, 0, 4, 1, 3, 6, 2, 1]), tensor([3, 6, 5, 7, 9, 7, 7, 1, 4, 0, 4, 5, 8, 0, 1, 8, 2, 3, 1, 0, 2, 4, 9, 0,\n",
            "        2, 3, 0, 5, 7, 3, 1, 7]), tensor([8, 5, 3, 2, 2, 0, 9, 7, 5, 7, 1, 4, 7, 2, 7, 0, 8, 6, 4, 5, 1, 9, 1, 8,\n",
            "        4, 3, 1, 8, 6, 8, 4, 2]), tensor([5, 3, 4, 9, 7, 8, 8, 7, 2, 6, 1, 4, 9, 4, 3, 4, 1, 8, 5, 6, 0, 4, 9, 1,\n",
            "        9, 9, 0, 7, 5, 8, 2, 4]), tensor([5, 7, 0, 2, 1, 0, 3, 6, 0, 4, 1, 6, 0, 8, 8, 2, 8, 5, 3, 9, 2, 9, 7, 2,\n",
            "        3, 4, 6, 9, 2, 7, 6, 3]), tensor([7, 2, 7, 9, 3, 5, 4, 6, 4, 8, 7, 3, 4, 0, 0, 2, 8, 3, 8, 7, 6, 4, 4, 0,\n",
            "        2, 2, 1, 3, 1, 2, 3, 1]), tensor([4, 5, 0, 3, 4, 4, 9, 1, 8, 4, 9, 8, 6, 6, 1, 8, 0, 3, 7, 5, 3, 3, 4, 5,\n",
            "        6, 4, 5, 1, 2, 8, 4, 3]), tensor([1, 8, 0, 6, 7, 7, 5, 6, 2, 6, 7, 5, 5, 4, 2, 7, 8, 3, 9, 8, 6, 4, 3, 4,\n",
            "        7, 5, 0, 9, 6, 1, 3, 7]), tensor([4, 4, 1, 0, 7, 6, 7, 4, 1, 0, 0, 6, 8, 7, 6, 4, 4, 3, 8, 7, 2, 0, 8, 5,\n",
            "        6, 9, 7, 3, 0, 3, 2, 2]), tensor([6, 3, 4, 5, 9, 3, 4, 2, 3, 4, 6, 6, 1, 1, 6, 6, 9, 3, 6, 0, 4, 9, 1, 4,\n",
            "        4, 4, 7, 8, 2, 7, 8, 5]), tensor([4, 7, 1, 6, 6, 7, 0, 8, 5, 6, 1, 4, 1, 8, 0, 6, 7, 1, 6, 4, 5, 7, 4, 5,\n",
            "        9, 8, 3, 6, 6, 5, 2, 9]), tensor([7, 4, 3, 0, 7, 2, 4, 4, 4, 6, 3, 0, 7, 4, 3, 5, 1, 3, 5, 9, 7, 6, 8, 3,\n",
            "        8, 3, 6, 7, 9, 8, 6, 6]), tensor([5, 7, 0, 6, 8, 3, 2, 8, 7, 0, 7, 4, 2, 1, 2, 4, 0, 1, 0, 0, 0, 6, 3, 9,\n",
            "        9, 9, 6, 7, 0, 1, 3, 0]), tensor([8, 2, 5, 0, 4, 6, 7, 3, 7, 2, 2, 9, 6, 2, 7, 7, 3, 5, 5, 0, 1, 6, 7, 7,\n",
            "        6, 3, 6, 1, 6, 7, 7, 4]), tensor([8, 2, 2, 1, 7, 2, 3, 1, 4, 3, 3, 7, 7, 7, 4, 6, 1, 6, 1, 5, 3, 0, 5, 8,\n",
            "        7, 2, 8, 9, 0, 1, 8, 7]), tensor([2, 2, 0, 5, 9, 3, 6, 2, 9, 5, 6, 7, 6, 0, 8, 8, 7, 5, 3, 7, 7, 7, 4, 7,\n",
            "        2, 2, 9, 6, 1, 6, 6, 9]), tensor([1, 9, 0, 9, 0, 3, 3, 6, 3, 5, 3, 9, 5, 6, 0, 2, 7, 0, 4, 1, 8, 6, 1, 1,\n",
            "        0, 2, 5, 3, 1, 2, 7, 0]), tensor([4, 8, 1, 7, 9, 7, 7, 2, 6, 3, 3, 1, 0, 1, 6, 2, 8, 8, 4, 3, 9, 4, 5, 1,\n",
            "        2, 7, 8, 1, 2, 0, 1, 6]), tensor([1, 2, 3, 6, 7, 3, 0, 7, 4, 9, 2, 8, 4, 0, 6, 4, 9, 3, 8, 9, 6, 1, 4, 7,\n",
            "        0, 4, 8, 6, 2, 5, 6, 8]), tensor([7, 7, 4, 5, 1, 7, 0, 4, 3, 7, 6, 6, 0, 3, 8, 7, 7, 6, 4, 2, 2, 7, 7, 3,\n",
            "        1, 9, 7, 6, 8, 2, 6, 6]), tensor([7, 7, 2, 3, 7, 4, 7, 3, 6, 7, 7, 3, 8, 8, 3, 0, 6, 7, 9, 5, 7, 0, 7, 5,\n",
            "        0, 9, 6, 2, 9, 6, 1, 9]), tensor([6, 3, 7, 1, 6, 9, 2, 3, 1, 1, 9, 5, 6, 2, 6, 9, 5, 2, 4, 8, 6, 8, 7, 7,\n",
            "        6, 5, 1, 7, 5, 6, 4, 0]), tensor([8, 1, 3, 4, 0, 1, 7, 7, 3, 9, 6, 1, 3, 9, 4, 0, 4, 8, 2, 8, 6, 5, 7, 4,\n",
            "        0, 4, 0, 8, 4, 2, 0, 8]), tensor([2, 1, 7, 4, 9, 2, 1, 1, 9, 6, 5, 5, 0, 7, 3, 6, 6, 7, 0, 4, 8, 9, 2, 8,\n",
            "        9, 3, 3, 4, 0, 7, 8, 7]), tensor([8, 2, 7, 6, 9, 4, 3, 3, 5, 2, 1, 0, 6, 9, 3, 6, 7, 4, 1, 0, 0, 8, 8, 6,\n",
            "        8, 8, 1, 4, 6, 4, 7, 4]), tensor([9, 1, 8, 6, 6, 3, 4, 7, 0, 4, 7, 2, 2, 6, 9, 3, 2, 4, 1, 6, 1, 6, 4, 9,\n",
            "        8, 2, 6, 8, 5, 6, 3, 7]), tensor([5, 6, 1, 8, 7, 3, 2, 7, 6, 8, 7, 9, 8, 2, 7, 3, 8, 4, 3, 6, 3, 2, 9, 3,\n",
            "        7, 4, 3, 5, 9, 0, 2, 9]), tensor([2, 1, 7, 4, 3, 8, 6, 8, 7, 0, 2, 3, 1, 9, 6, 8, 2, 3, 5, 0, 0, 3, 4, 3,\n",
            "        1, 0, 4, 4, 9, 9, 4, 6]), tensor([0, 5, 2, 4, 3, 7, 8, 0, 9, 3, 7, 6, 1, 2, 6, 6, 8, 8, 7, 0, 0, 8, 5, 3,\n",
            "        9, 1, 3, 2, 4, 4, 6, 0]), tensor([8, 9, 9, 4, 8, 8, 2, 6, 0, 5, 4, 5, 9, 3, 0, 0, 0, 6, 1, 9, 9, 2, 1, 7,\n",
            "        0, 6, 0, 7, 0, 3, 9, 2]), tensor([6, 1, 3, 7, 2, 0, 2, 2, 6, 1, 7, 3, 8, 0, 7, 5, 0, 8, 9, 4, 1, 3, 6, 2,\n",
            "        3, 4, 9, 3, 3, 8, 5, 7]), tensor([6, 8, 1, 0, 6, 2, 2, 5, 3, 6, 3, 8, 7, 4, 1, 1, 7, 7, 2, 3, 7, 5, 8, 9,\n",
            "        7, 3, 9, 8, 6, 1, 5, 0]), tensor([8, 7, 4, 4, 0, 7, 2, 7, 0, 1, 4, 0, 3, 4, 5, 3, 6, 2, 3, 3, 3, 1, 5, 9,\n",
            "        3, 8, 9, 7, 7, 3, 6, 9]), tensor([5, 5, 8, 4, 6, 8, 1, 7, 0, 7, 4, 5, 0, 2, 6, 9, 1, 3, 2, 0, 1, 6, 0, 3,\n",
            "        6, 3, 4, 7, 6, 3, 8, 6]), tensor([0, 7, 8, 6, 4, 7, 7, 9, 9, 8, 4, 8, 8, 5, 2, 7, 8, 1, 2, 7, 8, 5, 8, 3,\n",
            "        3, 7, 7, 4, 1, 9, 9, 0]), tensor([0, 2, 3, 3, 0, 4, 8, 2, 6, 2, 4, 5, 1, 7, 5, 1, 0, 1, 5, 8, 1, 3, 7, 7,\n",
            "        3, 3, 1, 9, 2, 7, 7, 7]), tensor([7, 9, 0, 3, 9, 3, 2, 7, 1, 4, 0, 4, 7, 0, 9, 4, 2, 6, 2, 5, 1, 1, 6, 4,\n",
            "        4, 6, 2, 0, 6, 1, 7, 8]), tensor([0, 6, 6, 4, 8, 9, 6, 6, 9, 2, 9, 0, 1, 8, 6, 3, 2, 6, 1, 9, 4, 7, 3, 5,\n",
            "        4, 4, 9, 7, 3, 1, 4, 7]), tensor([2, 9, 7, 6, 4, 6, 9, 7, 6, 3, 9, 3, 0, 3, 8, 8, 2, 4, 6, 9, 1, 1, 5, 7,\n",
            "        2, 3, 4, 1, 1, 5, 3, 7]), tensor([7, 9, 6, 9, 9, 2, 7, 3, 5, 5, 1, 0, 4, 3, 3, 8, 1, 4, 4, 5, 3, 1, 5, 1,\n",
            "        1, 2, 7, 7, 9, 2, 4, 7]), tensor([7, 7, 7, 7, 4, 6, 6, 7, 6, 7, 3, 9, 3, 9, 9, 5, 4, 6, 7, 7, 8, 8, 4, 8,\n",
            "        8, 1, 6, 6, 2, 8, 6, 0]), tensor([7, 4, 1, 4, 8, 4, 7, 1, 3, 6, 3, 7, 1, 3, 1, 9, 5, 5, 1, 9, 9, 0, 9, 9,\n",
            "        1, 7, 2, 3, 2, 3, 4, 3]), tensor([1, 1, 3, 1, 6, 2, 8, 2, 0, 1, 9, 0, 8, 8, 0, 8, 4, 6, 6, 5, 7, 3, 0, 3,\n",
            "        0, 6, 4, 3, 4, 6, 0, 7]), tensor([6, 4, 7, 3, 0, 0, 6, 3, 4, 3, 5, 0, 4, 7, 0, 8, 1, 4, 2, 8, 2, 8, 4, 0,\n",
            "        9, 0, 3, 0, 7, 4, 0, 9]), tensor([6, 6, 4, 0, 7, 7, 2, 2, 5, 6, 6, 6, 8, 4, 7, 3, 7, 6, 1, 4, 9, 0, 3, 1,\n",
            "        9, 6, 8, 6, 8, 6, 4, 0]), tensor([0, 8, 3, 1, 7, 7, 3, 7, 2, 6, 7, 2, 4, 6, 9, 8, 0, 8, 4, 5, 4, 0, 4, 7,\n",
            "        2, 9, 7, 4, 1, 2, 6, 6]), tensor([2, 6, 6, 1, 6, 6, 6, 4, 0, 4, 7, 5, 9, 3, 0, 7, 6, 2, 1, 2, 6, 3, 8, 6,\n",
            "        2, 4, 4, 7, 3, 0, 8, 8]), tensor([0, 1, 5, 2, 1, 3, 1, 5, 8, 7, 6, 3, 5, 1, 8, 6, 1, 6, 1, 3, 3, 4, 9, 8,\n",
            "        1, 2, 6, 8, 6, 8, 4, 6]), tensor([4, 0, 9, 2, 6, 3, 2, 2, 4, 5, 6, 7, 7, 4, 1, 9, 7, 2, 0, 5, 5, 4, 3, 8,\n",
            "        0, 5, 1, 2, 2, 6, 8, 5]), tensor([7, 1, 3, 7, 3, 1, 6, 0, 5, 6, 0, 7, 8, 3, 9, 4, 3, 0, 2, 3, 9, 0, 1, 2,\n",
            "        2, 6, 7, 4, 7, 0, 9, 3]), tensor([8, 6, 8, 3, 0, 7, 3, 1, 9, 6, 4, 3, 7, 6, 3, 5, 6, 1, 2, 3, 4, 3, 5, 4,\n",
            "        1, 2, 1, 3, 8, 6, 9, 4]), tensor([0, 4, 4, 2, 8, 0, 5, 7, 8, 6, 0, 4, 6, 0, 7, 7, 3, 4, 9, 8, 6, 6, 8, 7,\n",
            "        7, 3, 9, 8, 6, 8, 1, 2]), tensor([6, 4, 3, 8, 6, 9, 3, 2, 3, 3, 2, 6, 1, 6, 9, 6, 6, 2, 6, 2, 7, 6, 5, 5,\n",
            "        2, 8, 4, 6, 1, 0, 3, 1]), tensor([2, 3, 0, 6, 2, 6, 1, 0, 3, 8, 9, 6, 2, 7, 1, 0, 7, 3, 0, 7, 3, 8, 6, 5,\n",
            "        6, 2, 8, 4, 2, 6, 4, 6]), tensor([7, 7, 7, 7, 2, 6, 6, 0, 7, 8, 0, 6, 7, 5, 1, 5, 4, 7, 3, 9, 4, 3, 4, 7,\n",
            "        5, 3, 1, 1, 2, 7, 7, 2]), tensor([3, 0, 9, 1, 4, 4, 7, 8, 4, 9, 7, 9, 8, 7, 2, 3, 1, 6, 8, 2, 5, 5, 6, 1,\n",
            "        5, 3, 7, 4, 7, 2, 7, 5]), tensor([7, 8, 9, 5, 4, 0, 1, 5, 6, 4, 4, 1, 6, 0, 0, 0, 3, 6, 5, 7, 6, 3, 7, 5,\n",
            "        5, 2, 2, 1, 2, 2, 6, 3]), tensor([5, 4, 2, 2, 2, 4, 6, 3, 6, 8, 6, 3, 6, 6, 4, 4, 1, 9, 0, 3, 0, 2, 2, 1,\n",
            "        5, 2, 7, 4, 2, 8, 2, 6]), tensor([7, 2, 2, 0, 9, 1, 0, 0, 6, 2, 4, 9, 0, 5, 0, 2, 4, 4, 7, 9, 0, 3, 7, 5,\n",
            "        1, 0, 5, 2, 7, 7, 8, 1]), tensor([4, 8, 6, 0, 7, 1, 8, 7, 5, 6, 6, 8, 8, 3, 2, 2, 9, 2, 8, 2, 3, 8, 0, 4,\n",
            "        7, 3, 3, 7, 7, 6, 4, 7]), tensor([8, 1, 0, 4, 7, 2, 9, 1, 3, 7, 8, 2, 8, 1, 6, 0, 3, 9, 4, 2, 2, 7, 7, 1,\n",
            "        8, 7, 7, 1, 9, 0, 6, 5]), tensor([7, 7, 0, 7, 4, 1, 3, 2, 1, 4, 1, 1, 5, 6, 9, 4, 0, 7, 7, 6, 9, 5, 4, 4,\n",
            "        8, 3, 9, 0, 2, 5, 1, 5]), tensor([7, 4, 7, 6, 1, 6, 8, 5, 6, 8, 2, 0, 1, 6, 6, 8, 2, 6, 7, 2, 2, 3, 7, 6,\n",
            "        9, 6, 8, 8, 6, 0, 7, 9]), tensor([9, 3, 2, 7, 6, 3, 4, 6, 6, 7, 9, 6, 7, 8, 7, 7, 2, 4, 5, 4, 8, 2, 6, 0,\n",
            "        5, 4, 2, 6, 8, 0, 5, 1]), tensor([5, 5, 7, 8, 1, 4, 9, 8, 6, 3, 3, 2, 2, 8, 3, 0, 9, 8, 5, 4, 7, 0, 9, 4,\n",
            "        6, 7, 2, 3, 1, 6, 1, 4]), tensor([0, 3, 3, 9, 7, 7, 3, 4, 3, 9, 6, 8, 6, 1, 5, 8, 0, 9, 3, 4, 5, 6, 2, 2,\n",
            "        8, 5, 1, 8, 2, 5, 2, 4]), tensor([9, 3, 0, 6, 7, 0, 6, 6, 6, 4, 2, 8, 7, 4, 3, 1, 6, 4, 6, 5, 6, 5, 6, 8,\n",
            "        4, 9, 5, 7, 2, 6, 6, 7]), tensor([8, 9, 7, 8, 4, 6, 4, 1, 0, 8, 9, 2, 8, 3, 9, 0, 7, 0, 5, 3, 2, 8, 3, 0,\n",
            "        4, 2, 9, 6, 2, 5, 5, 6]), tensor([7, 3, 1, 3, 6, 7, 8, 9, 1, 1, 9, 9, 3, 2, 9, 5, 6, 9, 0, 3, 6, 6, 4, 2,\n",
            "        1, 6, 9, 0, 4, 9, 4, 9]), tensor([4, 2, 9, 3, 9, 3, 6, 2, 6, 4, 0, 7, 0, 3, 8, 1, 1, 6, 6, 7, 6, 4, 0, 4,\n",
            "        1, 1, 0, 3, 5, 4, 8, 0]), tensor([2, 4, 4, 7, 8, 7, 6, 5, 7, 2, 6, 2, 0, 1, 0, 7, 0, 7, 7, 9, 0, 2, 1, 9,\n",
            "        8, 3, 8, 6, 7, 8, 8, 6]), tensor([4, 7, 3, 1, 9, 3, 0, 0, 8, 0, 2, 6, 7, 6, 7, 8, 7, 4, 3, 0, 5, 7, 8, 9,\n",
            "        5, 7, 7, 7, 1, 6, 5, 6]), tensor([4, 2, 4, 7, 5, 0, 5, 5, 2, 6, 1, 3, 7, 9, 8, 1, 1, 7, 3, 1, 7, 0, 2, 8,\n",
            "        1, 7, 1, 4, 8, 6, 0, 6]), tensor([0, 6, 9, 1, 5, 2, 4, 3, 5, 1, 8, 7, 4, 2, 8, 6, 8, 6, 5, 4, 1, 8, 9, 3,\n",
            "        1, 6, 9, 0, 2, 4, 3, 9]), tensor([9, 2, 6, 1, 6, 6, 6, 0, 2, 8, 1, 1, 5, 9, 2, 6, 4, 0, 5, 5, 0, 1, 8, 4,\n",
            "        7, 6, 3, 3, 8, 1, 6, 8]), tensor([6, 6, 6, 4, 8, 9, 0, 1, 0, 2, 8, 1, 3, 9, 4, 3, 1, 4, 5, 4, 1, 6, 1, 6,\n",
            "        7, 7, 9, 4, 6, 3, 9, 3]), tensor([9, 6, 9, 0, 4, 3, 5, 4, 6, 1, 3, 4, 8, 0, 8, 7, 2, 0, 8, 4, 4, 7, 5, 9,\n",
            "        2, 0, 6, 1, 7, 5, 4, 2]), tensor([5, 8, 7, 6, 4, 1, 2, 9, 6, 5, 1, 7, 6, 7, 3, 7, 6, 6, 4, 6, 6, 2, 6, 6,\n",
            "        1, 3, 1, 4, 0, 0, 4, 0]), tensor([1, 0, 0, 3, 7, 7, 0, 6, 4, 1, 2, 8, 0, 1, 5, 8, 4, 5, 6, 7, 9, 4, 8, 3,\n",
            "        1, 6, 0, 4, 2, 1, 7, 1]), tensor([6, 6, 3, 6, 2, 6, 9, 1, 9, 9, 8, 6, 5, 6, 7, 1, 3, 8, 7, 3, 6, 1, 6, 2,\n",
            "        0, 9, 6, 0, 8, 4, 7, 5]), tensor([2, 8, 6, 8, 1, 4, 8, 8, 3, 9, 8, 6, 6, 4, 2, 9, 6, 7, 7, 7, 8, 0, 2, 6,\n",
            "        8, 4, 3, 5, 8, 6, 9, 9]), tensor([9, 6, 3, 9, 5, 2, 1, 9, 3, 5, 0, 1, 2, 9, 1, 0, 7, 0, 6, 7, 7, 0, 9, 6,\n",
            "        2, 2, 5, 2, 4, 9, 8, 1]), tensor([5, 7, 3, 1, 4, 2, 8, 8, 2, 1, 0, 7, 2, 0, 8, 5, 9, 7, 9, 6, 2, 2, 5, 9,\n",
            "        2, 5, 9, 6, 6, 0, 2, 7]), tensor([2, 1, 7, 9, 4, 2, 6, 4, 1, 6, 1, 0, 3, 8, 1, 7, 4, 3, 1, 1, 7, 9, 7, 2,\n",
            "        5, 9, 9, 0, 9, 1, 8, 1]), tensor([9, 1, 3, 1, 0, 3, 0, 0, 5, 8, 2, 2, 7, 6, 4, 3, 0, 6, 8, 1, 2, 0, 3, 2,\n",
            "        6, 9, 7, 8, 5, 3, 5, 6]), tensor([9, 2, 6, 9, 2, 2, 3, 8, 2, 3, 4, 7, 8, 3, 5, 7, 1, 4, 2, 9, 4, 7, 0, 7,\n",
            "        3, 3, 3, 9, 6, 1, 6, 5]), tensor([4, 1, 3, 7, 8, 5, 0, 6, 3, 3, 3, 8, 1, 3, 8, 6, 3, 2, 0, 9, 2, 6, 2, 8,\n",
            "        2, 5, 7, 4, 7, 7, 3, 9]), tensor([5, 1, 8, 6, 8, 7, 5, 3, 6, 6, 7, 1, 1, 3, 2, 5, 0, 6, 8, 6, 8, 9, 6, 6,\n",
            "        3, 6, 0, 4, 5, 3, 7, 4]), tensor([7, 9, 3, 2, 7, 6, 5, 1, 1, 7, 4, 6, 8, 0, 7, 4, 7, 0, 1, 6, 6, 3, 6, 4,\n",
            "        2, 0, 9, 9, 1, 7, 1, 6]), tensor([3, 4, 5, 6, 0, 7, 2, 1, 0, 4, 7, 7, 8, 9, 1, 6, 3, 8, 9, 1, 4, 5, 1, 6,\n",
            "        1, 1, 6, 6, 6, 9, 5, 1]), tensor([6, 6, 1, 2, 6, 9, 5, 3, 6, 5, 8, 3, 7, 4, 8, 6, 1, 1, 0, 7, 6, 3, 6, 9,\n",
            "        3, 6, 8, 3, 0, 6, 9, 3]), tensor([2, 1, 7, 1, 0, 1, 8, 7, 6, 2, 5, 3, 2, 2, 2, 5, 7, 2, 2, 5, 3, 3, 4, 9,\n",
            "        6, 1, 9, 3, 5, 8, 1, 9]), tensor([6, 2, 6, 7, 7, 9, 3, 5, 6, 4, 8, 1, 7, 3, 0, 5, 5, 7, 7, 4, 5, 1, 9, 6,\n",
            "        1, 8, 3, 3, 7, 5, 4, 0]), tensor([1, 0, 8, 3, 7, 3, 7, 3, 7, 8, 9, 8, 3, 9, 4, 7, 8, 2, 3, 2, 9, 5, 1, 4,\n",
            "        1, 4, 1, 4, 0, 6, 8, 2]), tensor([3, 0, 2, 8, 4, 5, 6, 0, 6, 5, 4, 2, 1, 3, 6, 9, 1, 1, 2, 0, 7, 7, 7, 1,\n",
            "        0, 2, 0, 3, 2, 7, 9, 9]), tensor([8, 3, 6, 5, 3, 9, 1, 2, 9, 7, 5, 8, 2, 8, 4, 4, 4, 2, 6, 2, 9, 2, 0, 4,\n",
            "        5, 7, 2, 2, 9, 0, 8, 2]), tensor([1, 6, 9, 9, 6, 8, 2, 5, 7, 1, 0, 3, 8, 9, 7, 8, 7, 8, 3, 4, 7, 2, 4, 0,\n",
            "        1, 5, 5, 4, 7, 3, 9, 4]), tensor([9, 7, 0, 9, 3, 6, 5, 7, 4, 7, 1, 8, 3, 4, 3, 7, 6, 6, 2, 8, 2, 5, 9, 7,\n",
            "        8, 5, 1, 8, 8, 3, 6, 8]), tensor([2, 9, 2, 4, 6, 6, 6, 8, 4, 0, 8, 8, 7, 1, 2, 3, 6, 5, 8, 4, 6, 5, 4, 7,\n",
            "        3, 6, 5, 4, 4, 8, 6, 1]), tensor([8, 4, 6, 7, 4, 6, 0, 0, 6, 7, 7, 1, 7, 6, 3, 2, 0, 8, 6, 9, 9, 9, 4, 1,\n",
            "        9, 6, 1, 3, 4, 5, 3, 8]), tensor([8, 1, 2, 3, 9, 1, 5, 6, 6, 7, 4, 8, 2, 7, 1, 8, 5, 4, 4, 7, 0, 3, 7, 1,\n",
            "        3, 7, 6, 7, 6, 8, 7, 3]), tensor([9, 2, 3, 2, 1, 0, 7, 8, 7, 0, 1, 5, 0, 5, 1, 7, 0, 7, 3, 3, 0, 8, 9, 0,\n",
            "        4, 0, 6, 2, 8, 4, 5, 1]), tensor([7, 7, 9, 1, 6, 7, 9, 4, 8, 3, 2, 4, 3, 0, 9, 5, 7, 7, 5, 6, 0, 3, 9, 0,\n",
            "        6, 6, 0, 0, 4, 2, 9, 1]), tensor([4, 3, 7, 7, 8, 3, 5, 7, 5, 8, 1, 1, 3, 1, 3, 5, 4, 7, 1, 0, 9, 0, 3, 6,\n",
            "        5, 8, 4, 0, 2, 7, 1, 1]), tensor([6, 4, 2, 7, 5, 4, 9, 3, 7, 1, 7, 1, 5, 0, 0, 0, 0, 5, 4, 9, 1, 8, 3, 1,\n",
            "        0, 8, 2, 7, 4, 6, 3, 0]), tensor([7, 3, 5, 0, 3, 7, 1, 5, 2, 8, 8, 2, 0, 8, 9, 7, 6, 4, 9, 8, 6, 4, 0, 6,\n",
            "        8, 4, 3, 9, 9, 5, 8, 3]), tensor([6, 7, 4, 3, 4, 8, 8, 8, 2, 9, 4, 3, 4, 1, 1, 6, 9, 8, 2, 0, 6, 6, 6, 1,\n",
            "        0, 4, 7, 0, 1, 2, 5, 9]), tensor([3, 7, 2, 6, 3, 0, 9, 6, 7, 1, 8, 6, 5, 2, 6, 2, 4, 7, 1, 6, 4, 2, 0, 2,\n",
            "        8, 4, 5, 0, 8, 4, 9, 6]), tensor([6, 7, 6, 8, 4, 2, 7, 5, 7, 3, 3, 4, 0, 4, 7, 3, 7, 2, 4, 4, 1, 3, 1, 2,\n",
            "        1, 1, 1, 2, 6, 3, 9, 7]), tensor([4, 3, 5, 0, 0, 6, 3, 9, 0, 0, 7, 6, 6, 6, 0, 0, 0, 1, 3, 3, 4, 3, 1, 8,\n",
            "        6, 6, 4, 6, 4, 2, 2, 6]), tensor([3, 4, 2, 7, 0, 5, 4, 5, 6, 4, 3, 9, 9, 6, 2, 8, 7, 6, 4, 1, 7, 8, 9, 0,\n",
            "        1, 8, 8, 7, 7, 1, 9, 6]), tensor([7, 3, 3, 5, 7, 3, 3, 4, 7, 2, 6, 4, 0, 9, 1, 0, 4, 2, 8, 8, 6, 9, 1, 8,\n",
            "        6, 4, 3, 2, 1, 5, 3, 4]), tensor([5, 5, 9, 6, 5, 6, 9, 8, 5, 1, 3, 2, 7, 3, 0, 6, 7, 6, 4, 0, 7, 7, 3, 1,\n",
            "        5, 3, 8, 6, 4, 4, 5, 4]), tensor([0, 1, 1, 9, 8, 1, 4, 4, 9, 1, 8, 0, 0, 7, 3, 2, 5, 2, 0, 5, 6, 2, 6, 3,\n",
            "        6, 4, 2, 0, 3, 7, 7, 7]), tensor([8, 9, 7, 1, 6, 5, 3, 4, 0, 0, 5, 7, 1, 7, 2, 3, 3, 6, 0, 8, 1, 8, 5, 2,\n",
            "        1, 2, 2, 3, 8, 0, 9, 8]), tensor([2, 4, 6, 2, 5, 5, 0, 0, 6, 2, 7, 4, 3, 4, 6, 1, 9, 1, 7, 9, 2, 4, 4, 2,\n",
            "        0, 2, 7, 3, 6, 0, 5, 8]), tensor([6, 5, 7, 8, 2, 0, 6, 9, 2, 1, 1, 4, 2, 3, 5, 0, 7, 4, 6, 3, 8, 3, 6, 3,\n",
            "        6, 3, 2, 9, 4, 2, 3, 8]), tensor([2, 5, 3, 3, 8, 5, 0, 7, 6, 2, 6, 0, 0, 8, 7, 3, 0, 6, 3, 1, 2, 6, 5, 3,\n",
            "        7, 9, 5, 1, 9, 7, 4, 6]), tensor([4, 6, 4, 2, 9, 4, 6, 5, 7, 2, 0, 8, 9, 9, 1, 3, 7, 7, 7, 4, 3, 8, 5, 7,\n",
            "        8, 3, 5, 1, 5, 9, 6, 8]), tensor([7, 6, 1, 3, 0, 8, 3, 9, 5, 6, 7, 2, 0, 2, 6, 2, 3, 7, 4, 4, 1, 3, 8, 1,\n",
            "        7, 4, 8, 7, 2, 9, 6, 4]), tensor([2, 7, 4, 9, 3, 0, 2, 3, 7, 7, 7, 4, 8, 3, 3, 6, 7, 6, 1, 3, 8, 5, 0, 2,\n",
            "        1, 2, 8, 8, 7, 0, 6, 0]), tensor([1, 0, 8, 0, 3, 1, 0, 8, 4, 4, 4, 4, 8, 1, 6, 7, 1, 3, 5, 5, 7, 5, 7, 3,\n",
            "        8, 1, 4, 1, 9, 4, 2, 7]), tensor([7, 6, 2, 9, 4, 4, 0, 0, 0, 7, 1, 3, 7, 6, 3, 1, 6, 0, 2, 3, 1, 8, 5, 2,\n",
            "        4, 0, 6, 9, 8, 3, 6, 7]), tensor([2, 7, 7, 9, 7, 0, 0, 6, 8, 2, 1, 9, 6, 9, 5, 4, 3, 3, 5, 3, 0, 5, 7, 8,\n",
            "        4, 1, 2, 7, 3, 8, 2, 6]), tensor([5, 5, 8, 3, 4, 7, 0, 8, 4, 2, 9, 3, 4, 6, 7, 8, 8, 9, 6, 0, 3, 0, 8, 7,\n",
            "        8, 1, 1, 2, 7, 3, 4, 7]), tensor([8, 0, 4, 5, 7, 6, 9, 8, 0, 8, 0, 3, 4, 3, 1, 5, 4, 7, 2, 2, 7, 2, 1, 5,\n",
            "        9, 3, 2, 3, 7, 3, 5, 4]), tensor([6, 7, 4, 5, 8, 0, 8, 7, 2, 2, 1, 0, 4, 2, 2, 9, 7, 3, 1, 0, 2, 5, 6, 0,\n",
            "        3, 4, 6, 4, 0, 6, 0, 2]), tensor([2, 7, 6, 5, 8, 2, 8, 3, 7, 7, 0, 5, 8, 3, 9, 1, 6, 8, 6, 7, 4, 5, 0, 3,\n",
            "        4, 9, 9, 9, 7, 0, 5, 2]), tensor([3, 3, 0, 8, 4, 4, 2, 1, 7, 8, 9, 0, 2, 6, 6, 6, 5, 5, 3, 8, 7, 6, 0, 2,\n",
            "        9, 2, 4, 1, 4, 3, 1, 5]), tensor([6, 4, 5, 4, 1, 2, 7, 5, 1, 0, 8, 4, 3, 9, 1, 6, 1, 8, 3, 8, 0, 3, 0, 5,\n",
            "        2, 7, 7, 7, 6, 6, 7, 1]), tensor([1, 2, 4, 3, 2, 3, 9, 1, 5, 9, 4, 7, 5, 3, 8, 0, 3, 5, 0, 3, 7, 3, 1, 6,\n",
            "        1, 6, 2, 7, 2, 9, 8, 3]), tensor([2, 8, 7, 7, 3, 6, 3, 6, 0, 0, 2, 5, 6, 8, 7, 6, 6, 9, 3, 7, 8, 9, 2, 4,\n",
            "        6, 7, 2, 4, 1, 9, 2, 7]), tensor([2, 1, 5, 0, 6, 9, 5, 1, 2, 0, 4, 4, 9, 2, 3, 7, 8, 4, 6, 6, 9, 4, 1, 8,\n",
            "        7, 2, 0, 5, 5, 7, 1, 8]), tensor([7, 0, 6, 8, 7, 8, 1, 8, 8, 8, 5, 6, 7, 3, 9, 1, 8, 2, 6, 3, 3, 8, 0, 6,\n",
            "        2, 4, 0, 3, 5, 4, 6, 1]), tensor([9, 1, 6, 0, 8, 6, 2, 0, 6, 2, 8, 0, 3, 9, 1, 1, 7, 4, 2, 7, 8, 1, 7, 4,\n",
            "        7, 8, 5, 6, 7, 6, 8, 3]), tensor([8, 3, 9, 1, 1, 1, 4, 7, 7, 3, 3, 6, 2, 5, 4, 8, 3, 4, 3, 0, 4, 5, 3, 2,\n",
            "        5, 8, 6, 3, 6, 4, 1, 8]), tensor([9, 4, 1, 3, 6, 1, 7, 8, 6, 6, 7, 1, 3, 5, 5, 2, 4, 4, 4, 4, 9, 0, 3, 2,\n",
            "        3, 1, 2, 7, 3, 2, 4, 7]), tensor([2, 2, 3, 0, 0, 7, 5, 2, 8, 1, 9, 2, 7, 8, 0, 9, 8, 2, 5, 6, 0, 1, 3, 4,\n",
            "        2, 4, 4, 6, 3, 0, 7, 1]), tensor([6, 0, 9, 6, 3, 4, 3, 5, 4, 7, 5, 8, 4, 0, 7, 3, 7, 6, 3, 2, 6, 0, 6, 6,\n",
            "        1, 3, 6, 1, 3, 6, 6, 6]), tensor([6, 9, 3, 6, 3, 9, 5, 5, 4, 8, 7, 1, 4, 5, 8, 4, 2, 6, 2, 4, 6, 4, 0, 6,\n",
            "        6, 2, 7, 3, 7, 3, 9, 8]), tensor([2, 6, 6, 8, 6, 8, 1, 2, 3, 5, 5, 9, 4, 9, 7, 1, 7, 0, 7, 6, 7, 6, 7, 5,\n",
            "        8, 1, 3, 0, 3, 4, 0, 7]), tensor([5, 4, 7, 2, 6, 7, 5, 3, 6, 2, 7, 3, 2, 3, 1, 7, 8, 1, 9, 2, 7, 0, 5, 9,\n",
            "        4, 2, 6, 1, 0, 4, 2, 8]), tensor([0, 5, 7, 6, 7, 1, 1, 5, 6, 8, 3, 8, 2, 2, 2, 6, 3, 0, 4, 8, 2, 0, 9, 6,\n",
            "        4, 4, 9, 9, 8, 6, 4, 2]), tensor([9, 5, 6, 7, 8, 6, 8, 0, 4, 3, 8, 3, 0, 3, 3, 3, 2, 1, 2, 9, 8, 9, 3, 3,\n",
            "        0, 6, 9, 4, 2, 6, 1, 6]), tensor([9, 6, 9, 2, 5, 8, 6, 6, 7, 2, 5, 7, 1, 1, 1, 4, 4, 8, 1, 0, 0, 6, 3, 3,\n",
            "        6, 1, 2, 6, 1, 6, 1, 5]), tensor([0, 8, 6, 7, 7, 8, 2, 6, 2, 3, 7, 4, 9, 2, 7, 8, 3, 7, 5, 9, 1, 9, 2, 6,\n",
            "        6, 3, 2, 0, 2, 0, 9, 3]), tensor([8, 3, 8, 6, 0, 8, 1, 7, 6, 3, 6, 2, 6, 6, 8, 6, 1, 6, 1, 9, 4, 3, 4, 2,\n",
            "        6, 2, 6, 8, 4, 5, 7, 9]), tensor([3, 0, 8, 3, 0, 5, 8, 9, 0, 0, 7, 2, 4, 8, 6, 5, 8, 1, 2, 2, 2, 0, 8, 1,\n",
            "        1, 1, 1, 3, 2, 4, 3, 3]), tensor([3, 8, 6, 5, 9, 1, 0, 0, 6, 4, 7, 6, 2, 4, 6, 4, 6, 7, 2, 2, 2, 2, 8, 0,\n",
            "        2, 3, 4, 4, 4, 3, 1, 3]), tensor([4, 8, 2, 8, 3, 2, 4, 8, 1, 8, 0, 7, 5, 5, 9, 7, 9, 0, 2, 1, 3, 1, 7, 6,\n",
            "        4, 4, 9, 1, 7, 7, 6, 4]), tensor([8, 9, 3, 6, 6, 8, 3, 9, 4, 9, 0, 6, 1, 7, 7, 6, 0, 8, 1, 7, 6, 8, 3, 7,\n",
            "        0, 5, 7, 3, 6, 9, 6, 7]), tensor([8, 4, 0, 0, 7, 5, 2, 2, 1, 6, 8, 5, 1, 9, 8, 5, 1, 7, 8, 9, 8, 4, 9, 7,\n",
            "        1, 9, 4, 6, 0, 4, 7, 3]), tensor([4, 2, 6, 9, 2, 6, 2, 7, 8, 0, 8, 7, 6, 6, 5, 0, 6, 3, 9, 7, 2, 2, 3, 9,\n",
            "        2, 6, 7, 7, 1, 2, 3, 5]), tensor([1, 1, 6, 5, 9, 7, 9, 2, 2, 5, 7, 2, 9, 9, 8, 9, 8, 3, 4, 2, 0, 1, 4, 6,\n",
            "        1, 5, 1, 2, 0, 2, 9, 8]), tensor([2, 5, 6, 5, 7, 2, 1, 6, 0, 3, 1, 4, 3, 7, 6, 7, 1, 5, 1, 9, 7, 2, 9, 9,\n",
            "        5, 6, 3, 1, 3, 7, 7, 8]), tensor([4, 6, 3, 1, 2, 2, 6, 5, 7, 0, 4, 1, 1, 8, 9, 3, 7, 2, 8, 0, 8, 1, 6, 9,\n",
            "        3, 8, 8, 8, 7, 0, 5, 8]), tensor([6, 6, 4, 1, 2, 4, 1, 0, 7, 5, 4, 9, 2, 8, 3, 7, 0, 8, 8, 6, 6, 2, 5, 4,\n",
            "        6, 0, 9, 2, 2, 4, 3, 7]), tensor([5, 6, 0, 7, 4, 3, 8, 2, 0, 1, 2, 7, 8, 1, 1, 1, 2, 4, 6, 4, 1, 0, 8, 2,\n",
            "        8, 0, 9, 6, 2, 8, 4, 4]), tensor([0, 6, 7, 6, 4, 4, 4, 5, 3, 1, 4, 3, 9, 6, 7, 4, 9, 4, 3, 4, 0, 2, 7, 0,\n",
            "        7, 0, 7, 8, 2, 4, 0, 2]), tensor([0, 1, 1, 0, 7, 3, 4, 2, 3, 4, 8, 3, 9, 8, 6, 3, 6, 9, 9, 7, 1, 2, 4, 0,\n",
            "        0, 5, 0, 8, 4, 5, 8, 8]), tensor([0, 5, 2, 0, 6, 6, 7, 3, 6, 6, 9, 6, 9, 4, 9, 4, 0, 9, 5, 3, 7, 7, 8, 4,\n",
            "        6, 3, 6, 6, 6, 8, 6, 1]), tensor([6, 7, 9, 7, 1, 7, 0, 3, 3, 4, 3, 6, 1, 1, 6, 3, 9, 8, 2, 1, 9, 6, 5, 2,\n",
            "        7, 4, 1, 3, 0, 2, 9, 7]), tensor([7, 1, 6, 3, 2, 8, 3, 9, 5, 8, 6, 0, 4, 7, 3, 8, 6, 8, 9, 4, 5, 0, 1, 5,\n",
            "        2, 3, 0, 6, 1, 8, 9, 1]), tensor([8, 8, 6, 0, 1, 6, 4, 9, 5, 0, 6, 9, 8, 6, 7, 2, 3, 7, 0, 3, 8, 7, 4, 7,\n",
            "        7, 6, 0, 4, 5, 7, 2, 1]), tensor([7, 4, 5, 2, 3, 3, 2, 3, 9, 6, 1, 0, 5, 8, 8, 2, 0, 6, 0, 3, 1, 9, 2, 5,\n",
            "        4, 5, 2, 4, 5, 8, 8, 4]), tensor([2, 6, 7, 4, 6, 4, 1, 9, 4, 3, 7, 8, 4, 7, 5, 9, 9, 6, 1, 2, 8, 4, 7, 3,\n",
            "        8, 1, 6, 6, 0, 7, 1, 1]), tensor([8, 6, 7, 3, 0, 3, 1, 0, 9, 2, 6, 8, 2, 9, 1, 9, 0, 3, 6, 7, 1, 2, 3, 2,\n",
            "        6, 1, 0, 3, 6, 7, 4, 5]), tensor([6, 0, 3, 9, 3, 2, 6, 2, 6, 3, 5, 7, 6, 2, 0, 2, 0, 3, 4, 5, 9, 6, 8, 1,\n",
            "        8, 7, 1, 6, 4, 9, 0, 1]), tensor([0, 0, 7, 9, 9, 6, 5, 7, 4, 6, 6, 4, 4, 3, 2, 3, 5, 2, 2, 7, 8, 4, 2, 6,\n",
            "        1, 1, 1, 3, 5, 7, 9, 8]), tensor([3, 9, 7, 3, 7, 5, 8, 5, 5, 8, 0, 7, 1, 7, 1, 6, 6, 4, 7, 4, 7, 5, 2, 0,\n",
            "        2, 9, 9, 9, 6, 6, 9, 1]), tensor([6, 3, 8, 3, 3, 0, 9, 7, 3, 9, 4, 4, 7, 6, 8, 7, 0, 2, 1, 6, 3, 7, 8, 9,\n",
            "        3, 2, 3, 7, 2, 7, 7, 5]), tensor([1, 8, 8, 3, 4, 4, 6, 6, 1, 9, 9, 8, 5, 3, 0, 9, 5, 4, 2, 3, 5, 1, 7, 8,\n",
            "        2, 6, 0, 5, 1, 6, 1, 0]), tensor([1, 8, 8, 7, 1, 2, 4, 2, 1, 2, 6, 9, 9, 0, 5, 3, 8, 1, 9, 4, 4, 5, 6, 8,\n",
            "        3, 3, 1, 1, 4, 7, 1, 1]), tensor([5, 8, 9, 7, 6, 1, 1, 5, 1, 1, 9, 1, 9, 3, 4, 2, 4, 5, 7, 1, 2, 3, 7, 1,\n",
            "        8, 0, 8, 6, 1, 6, 6, 3]), tensor([7, 2, 2, 7, 8, 9, 2, 7, 7, 0, 4, 1, 9, 5, 8, 5, 7, 3, 6, 2, 6, 3, 1, 9,\n",
            "        1, 6, 9, 8, 7, 0, 1, 8]), tensor([1, 0, 3, 8, 4, 3, 8, 1, 4, 8, 6, 1, 6, 2, 4, 9, 6, 0, 0, 4, 7, 9, 6, 8,\n",
            "        2, 4, 0, 1, 5, 0, 6, 8]), tensor([1, 8, 0, 0, 2, 5, 2, 5, 6, 3, 1, 1, 4, 0, 0, 6, 2, 1, 7, 7, 6, 0, 9, 1,\n",
            "        6, 3, 6, 7, 8, 8, 0, 2]), tensor([2, 3, 5, 3, 4, 5, 1, 6, 9, 4, 8, 6, 0, 7, 9, 3, 1, 3, 5, 7, 9, 6, 8, 4,\n",
            "        0, 9, 8, 0, 6, 8, 8, 3]), tensor([7, 7, 3, 3, 8, 8, 2, 4, 8, 6, 3, 3, 7, 9, 6, 8, 7, 5, 8, 2, 1, 4, 6, 3,\n",
            "        7, 6, 4, 0, 7, 7, 3, 3]), tensor([3, 2, 6, 6, 1, 6, 8, 9, 8, 2, 7, 9, 4, 9, 0, 1, 7, 3, 9, 5, 7, 7, 2, 6,\n",
            "        3, 3, 6, 3, 1, 3, 8, 7]), tensor([1, 1, 7, 7, 9, 9, 7, 6, 3, 4, 6, 1, 8, 8, 3, 7, 8, 2, 1, 4, 1, 9, 6, 0,\n",
            "        5, 7, 0, 2, 4, 8, 2, 6]), tensor([7, 9, 8, 8, 0, 4, 2, 8, 1, 9, 1, 4, 9, 1, 6, 7, 0, 2, 1, 1, 4, 1, 8, 0,\n",
            "        2, 1, 0, 1, 3, 8, 7, 5]), tensor([7, 9, 3, 4, 6, 5, 1, 1, 3, 4, 0, 8, 6, 4, 3, 1, 9, 7, 7, 7, 7, 8, 3, 2,\n",
            "        3, 5, 0, 3, 4, 5, 5, 8]), tensor([6, 4, 5, 9, 1, 9, 8, 2, 3, 5, 1, 3, 9, 0, 8, 2, 2, 7, 6, 4, 8, 7, 3, 2,\n",
            "        0, 4, 8, 4, 3, 2, 8, 6]), tensor([4, 3, 0, 7, 7, 4, 6, 8, 3, 6, 0, 5, 5, 7, 0, 6, 3, 7, 5, 2, 4, 1, 3, 4,\n",
            "        9, 0, 7, 2, 3, 8, 2, 6]), tensor([6, 6, 6, 4, 2, 8, 1, 8, 5, 4, 3, 8, 2, 2, 6, 6, 1, 0, 6, 6, 5, 0, 7, 8,\n",
            "        7, 4, 7, 5, 1, 2, 9, 8]), tensor([6, 1, 2, 7, 7, 6, 2, 3, 7, 1, 6, 5, 3, 2, 4, 1, 8, 7, 7, 4, 0, 8, 4, 0,\n",
            "        7, 3, 9, 4, 4, 9, 3, 6]), tensor([0, 0, 0, 2, 6, 7, 8, 2, 0, 4, 7, 8, 3, 2, 1, 0, 2, 5, 9, 8, 2, 7, 3, 7,\n",
            "        5, 4, 9, 2, 0, 1, 6, 0]), tensor([9, 1, 9, 4, 3, 6, 3, 7, 3, 1, 8, 0, 0, 4, 8, 1, 6, 1, 7, 4, 9, 2, 3, 4,\n",
            "        1, 7, 3, 7, 0, 1, 5, 9]), tensor([6, 5, 4, 6, 8, 2, 1, 4, 8, 7, 3, 7, 5, 7, 5, 1, 2, 0, 6, 8, 3, 9, 4, 0,\n",
            "        8, 4, 3, 3, 8, 8, 4, 4]), tensor([4, 6, 4, 3, 0, 1, 6, 4, 0, 9, 7, 8, 0, 7, 3, 8, 1, 8, 9, 3, 0, 4, 2, 2,\n",
            "        5, 4, 2, 3, 9, 5, 9, 2]), tensor([1, 7, 5, 9, 6, 4, 4, 2, 6, 2, 2, 0, 7, 1, 6, 1, 8, 6, 7, 0, 1, 7, 1, 8,\n",
            "        3, 7, 6, 7, 4, 6, 0, 0]), tensor([4, 7, 5, 1, 7, 7, 1, 9, 8, 3, 2, 5, 9, 5, 6, 6, 7, 7, 1, 8, 7, 6, 3, 6,\n",
            "        2, 3, 7, 3, 6, 0, 1, 2]), tensor([9, 4, 2, 8, 1, 0, 6, 6, 7, 2, 7, 5, 9, 6, 5, 8, 7, 9, 3, 0, 4, 4, 3, 6,\n",
            "        7, 9, 6, 9, 5, 9, 6, 7]), tensor([9, 6, 8, 7, 2, 4, 6, 9, 7, 4, 6, 3, 6, 7, 0, 4, 3, 7, 2, 4, 8, 2, 9, 2,\n",
            "        0, 7, 1, 5, 3, 6, 5, 6]), tensor([4, 1, 5, 8, 6, 8, 5, 1, 9, 9, 6, 8, 9, 6, 2, 1, 0, 4, 8, 1, 6, 4, 7, 3,\n",
            "        9, 3, 6, 5, 6, 2, 2, 6]), tensor([9, 3, 7, 3, 8, 2, 9, 8, 5, 0, 1, 8, 5, 9, 9, 6, 4, 3, 9, 8, 9, 5, 7, 4,\n",
            "        5, 9, 1, 4, 9, 3, 5, 7]), tensor([3, 4, 6, 6, 0, 4, 7, 7, 2, 0, 8, 6, 2, 1, 3, 4, 8, 9, 8, 8, 5, 0, 8, 6,\n",
            "        8, 1, 1, 8, 2, 6, 3, 8]), tensor([1, 0, 3, 8, 6, 8, 3, 2, 1, 3, 6, 9, 6, 1, 7, 9, 8, 6, 4, 8, 6, 3, 7, 9,\n",
            "        4, 9, 5, 0, 3, 8, 6, 2]), tensor([3, 6, 1, 6, 4, 2, 7, 6, 3, 3, 6, 7, 7, 4, 4, 1, 2, 5, 2, 2, 3, 8, 4, 2,\n",
            "        8, 3, 8, 8, 9, 0, 8, 1]), tensor([8, 7, 4, 0, 4, 4, 0, 8, 2, 2, 4, 5, 9, 3, 4, 1, 4, 4, 5, 5, 7, 0, 6, 8,\n",
            "        1, 6, 3, 9, 3, 7, 5, 5]), tensor([4, 7, 4, 8, 2, 6, 0, 7, 4, 2, 1, 6, 6, 4, 5, 3, 4, 4, 4, 3, 8, 8, 2, 4,\n",
            "        2, 9, 2, 1, 3, 3, 3, 3]), tensor([8, 4, 2, 0, 8, 8, 4, 1, 4, 8, 1, 9, 1, 5, 4, 4, 4, 7, 6, 1, 3, 7, 2, 2,\n",
            "        0, 1, 7, 8, 1, 1, 0, 5]), tensor([2, 1, 6, 1, 5, 4, 6, 4, 6, 7, 6, 6, 5, 2, 3, 7, 8, 6, 5, 8, 2, 0, 3, 7,\n",
            "        9, 1, 4, 8, 9, 6, 2, 8]), tensor([9, 4, 9, 0, 9, 1, 3, 2, 3, 2, 9, 3, 2, 9, 3, 1, 0, 4, 5, 2, 1, 6, 4, 8,\n",
            "        7, 0, 1, 1, 3, 5, 0, 6]), tensor([6, 6, 9, 8, 3, 7, 8, 3, 0, 1, 2, 5, 2, 9, 0, 6, 8, 9, 3, 7, 3, 6, 9, 3,\n",
            "        0, 5, 8, 8, 3, 9, 4, 6]), tensor([6, 3, 5, 6, 2, 5, 6, 6, 3, 7, 2, 8, 1, 1, 7, 0, 7, 7, 3, 6, 1, 3, 4, 2,\n",
            "        9, 1, 3, 6, 7, 4, 3, 6]), tensor([3, 4, 7, 6, 6, 8, 7, 8, 3, 9, 3, 3, 4, 0, 6, 9, 8, 0, 7, 5, 4, 1, 0, 4,\n",
            "        3, 4, 8, 4, 5, 3, 6, 2]), tensor([3, 5, 9, 4, 9, 2, 0, 7, 3, 8, 8, 6, 8, 4, 3, 4, 1, 8, 9, 4, 1, 7, 1, 5,\n",
            "        2, 9, 9, 4, 8, 9, 2, 2]), tensor([1, 8, 7, 5, 9, 6, 1, 1, 1, 9, 5, 7, 2, 7, 0, 1, 1, 0, 8, 5, 3, 4, 0, 7,\n",
            "        7, 1, 4, 8, 3, 1, 0, 7]), tensor([2, 7, 1, 0, 5, 9, 4, 3, 1, 6, 4, 6, 9, 3, 2, 6, 1, 9, 1, 9, 4, 7, 0, 8,\n",
            "        3, 8, 1, 7, 7, 9, 7, 6]), tensor([9, 7, 0, 4, 6, 5, 0, 6, 2, 8, 3, 2, 4, 5, 2, 1, 3, 8, 1, 8, 9, 3, 8, 0,\n",
            "        0, 8, 6, 0, 9, 4, 7, 6]), tensor([8, 4, 8, 9, 3, 1, 3, 3, 2, 0, 7, 3, 2, 8, 6, 8, 7, 4, 0, 6, 1, 2, 0, 3,\n",
            "        4, 4, 5, 6, 9, 4, 1, 5]), tensor([6, 7, 0, 7, 2, 9, 7, 0, 5, 6, 7, 4, 5, 5, 6, 0, 3, 4, 7, 9, 4, 1, 9, 7,\n",
            "        7, 6, 2, 7, 3, 8, 0, 2]), tensor([1, 3, 0, 3, 8, 6, 5, 8, 3, 8, 6, 5, 1, 4, 4, 1, 0, 9, 4, 4, 2, 7, 6, 9,\n",
            "        1, 8, 9, 6, 1, 6, 3, 1]), tensor([8, 9, 2, 2, 6, 4, 1, 1, 6, 6, 7, 3, 5, 3, 5, 2, 8, 1, 7, 4, 0, 7, 2, 4,\n",
            "        6, 0, 4, 1, 5, 8, 0, 9]), tensor([7, 2, 1, 7, 8, 4, 6, 8, 5, 3, 8, 9, 3, 0, 6, 3, 1, 7, 6, 0, 4, 4, 7, 2,\n",
            "        9, 8, 6, 0, 6, 2, 3, 5]), tensor([4, 6, 7, 1, 6, 0, 5, 0, 4, 2, 7, 3, 0, 6, 6, 7, 8, 3, 3, 5, 4, 9, 9, 4,\n",
            "        6, 1, 7, 9, 1, 5, 9, 2]), tensor([7, 6, 1, 2, 7, 4, 3, 4, 6, 2, 0, 1, 9, 2, 4, 7, 9, 0, 7, 2, 5, 7, 7, 9,\n",
            "        5, 7, 7, 0, 5, 0, 1, 8]), tensor([1, 8, 4, 9, 5, 9, 7, 4, 1, 0, 3, 1, 5, 2, 6, 5, 8, 1, 2, 9, 7, 0, 9, 6,\n",
            "        7, 1, 6, 5, 5, 9, 1, 3]), tensor([4, 9, 5, 2, 2, 8, 7, 4, 9, 2, 8, 5, 6, 8, 7, 6, 5, 7, 1, 3, 4, 8, 8, 2,\n",
            "        8, 7, 2, 6, 0, 0, 9, 6]), tensor([9, 7, 2, 3, 5, 2, 2, 2, 1, 4, 2, 9, 9, 4, 6, 1, 8, 2, 3, 6, 1, 2, 2, 4,\n",
            "        5, 2, 7, 8, 0, 2, 2, 1]), tensor([8, 4, 1, 4, 9, 9, 1, 7, 3, 5, 2, 0, 8, 6, 3, 3])]\n"
          ]
        },
        {
          "output_type": "execute_result",
          "data": {
            "text/plain": [
              "tensor([9, 7, 0, 0, 5, 4, 7, 3, 9, 3])"
            ]
          },
          "metadata": {},
          "execution_count": 78
        }
      ],
      "source": [
        "from tqdm.auto import tqdm\n",
        "\n",
        "y_preds = []\n",
        "\n",
        "model_2.eval()\n",
        "with torch.inference_mode():\n",
        "  for X, y in tqdm(test_dataloader, desc=\"Predictions..\"):\n",
        "    X, y = X.to(device), y.to(device)\n",
        "\n",
        "    y_logit = model_2(X)\n",
        "\n",
        "    y_pred = torch.softmax(y_logit.squeeze(),dim=0).argmax(dim=1)\n",
        "\n",
        "    y_preds.append(y_pred.cpu())\n",
        "\n",
        "print(y_preds)\n",
        "y_pred_tensor = torch.cat(y_preds)\n",
        "y_pred_tensor[:10]\n"
      ]
    },
    {
      "cell_type": "code",
      "execution_count": null,
      "metadata": {
        "colab": {
          "base_uri": "https://localhost:8080/"
        },
        "id": "y9odWVJ4Ava2",
        "outputId": "dca44207-a713-4130-8ede-653b430dcb06"
      },
      "outputs": [
        {
          "output_type": "stream",
          "name": "stdout",
          "text": [
            "Collecting torchmetrics\n",
            "  Downloading torchmetrics-1.8.1-py3-none-any.whl.metadata (22 kB)\n",
            "Requirement already satisfied: mlxtend in /usr/local/lib/python3.11/dist-packages (0.23.4)\n",
            "Requirement already satisfied: numpy>1.20.0 in /usr/local/lib/python3.11/dist-packages (from torchmetrics) (2.0.2)\n",
            "Requirement already satisfied: packaging>17.1 in /usr/local/lib/python3.11/dist-packages (from torchmetrics) (25.0)\n",
            "Requirement already satisfied: torch>=2.0.0 in /usr/local/lib/python3.11/dist-packages (from torchmetrics) (2.6.0+cu124)\n",
            "Collecting lightning-utilities>=0.8.0 (from torchmetrics)\n",
            "  Downloading lightning_utilities-0.15.2-py3-none-any.whl.metadata (5.7 kB)\n",
            "Requirement already satisfied: scipy>=1.2.1 in /usr/local/lib/python3.11/dist-packages (from mlxtend) (1.16.1)\n",
            "Requirement already satisfied: pandas>=0.24.2 in /usr/local/lib/python3.11/dist-packages (from mlxtend) (2.2.2)\n",
            "Requirement already satisfied: scikit-learn>=1.3.1 in /usr/local/lib/python3.11/dist-packages (from mlxtend) (1.6.1)\n",
            "Requirement already satisfied: matplotlib>=3.0.0 in /usr/local/lib/python3.11/dist-packages (from mlxtend) (3.10.0)\n",
            "Requirement already satisfied: joblib>=0.13.2 in /usr/local/lib/python3.11/dist-packages (from mlxtend) (1.5.1)\n",
            "Requirement already satisfied: setuptools in /usr/local/lib/python3.11/dist-packages (from lightning-utilities>=0.8.0->torchmetrics) (75.2.0)\n",
            "Requirement already satisfied: typing_extensions in /usr/local/lib/python3.11/dist-packages (from lightning-utilities>=0.8.0->torchmetrics) (4.14.1)\n",
            "Requirement already satisfied: contourpy>=1.0.1 in /usr/local/lib/python3.11/dist-packages (from matplotlib>=3.0.0->mlxtend) (1.3.3)\n",
            "Requirement already satisfied: cycler>=0.10 in /usr/local/lib/python3.11/dist-packages (from matplotlib>=3.0.0->mlxtend) (0.12.1)\n",
            "Requirement already satisfied: fonttools>=4.22.0 in /usr/local/lib/python3.11/dist-packages (from matplotlib>=3.0.0->mlxtend) (4.59.0)\n",
            "Requirement already satisfied: kiwisolver>=1.3.1 in /usr/local/lib/python3.11/dist-packages (from matplotlib>=3.0.0->mlxtend) (1.4.9)\n",
            "Requirement already satisfied: pillow>=8 in /usr/local/lib/python3.11/dist-packages (from matplotlib>=3.0.0->mlxtend) (11.3.0)\n",
            "Requirement already satisfied: pyparsing>=2.3.1 in /usr/local/lib/python3.11/dist-packages (from matplotlib>=3.0.0->mlxtend) (3.2.3)\n",
            "Requirement already satisfied: python-dateutil>=2.7 in /usr/local/lib/python3.11/dist-packages (from matplotlib>=3.0.0->mlxtend) (2.9.0.post0)\n",
            "Requirement already satisfied: pytz>=2020.1 in /usr/local/lib/python3.11/dist-packages (from pandas>=0.24.2->mlxtend) (2025.2)\n",
            "Requirement already satisfied: tzdata>=2022.7 in /usr/local/lib/python3.11/dist-packages (from pandas>=0.24.2->mlxtend) (2025.2)\n",
            "Requirement already satisfied: threadpoolctl>=3.1.0 in /usr/local/lib/python3.11/dist-packages (from scikit-learn>=1.3.1->mlxtend) (3.6.0)\n",
            "Requirement already satisfied: filelock in /usr/local/lib/python3.11/dist-packages (from torch>=2.0.0->torchmetrics) (3.18.0)\n",
            "Requirement already satisfied: networkx in /usr/local/lib/python3.11/dist-packages (from torch>=2.0.0->torchmetrics) (3.5)\n",
            "Requirement already satisfied: jinja2 in /usr/local/lib/python3.11/dist-packages (from torch>=2.0.0->torchmetrics) (3.1.6)\n",
            "Requirement already satisfied: fsspec in /usr/local/lib/python3.11/dist-packages (from torch>=2.0.0->torchmetrics) (2025.3.0)\n",
            "Collecting nvidia-cuda-nvrtc-cu12==12.4.127 (from torch>=2.0.0->torchmetrics)\n",
            "  Downloading nvidia_cuda_nvrtc_cu12-12.4.127-py3-none-manylinux2014_x86_64.whl.metadata (1.5 kB)\n",
            "Collecting nvidia-cuda-runtime-cu12==12.4.127 (from torch>=2.0.0->torchmetrics)\n",
            "  Downloading nvidia_cuda_runtime_cu12-12.4.127-py3-none-manylinux2014_x86_64.whl.metadata (1.5 kB)\n",
            "Collecting nvidia-cuda-cupti-cu12==12.4.127 (from torch>=2.0.0->torchmetrics)\n",
            "  Downloading nvidia_cuda_cupti_cu12-12.4.127-py3-none-manylinux2014_x86_64.whl.metadata (1.6 kB)\n",
            "Collecting nvidia-cudnn-cu12==9.1.0.70 (from torch>=2.0.0->torchmetrics)\n",
            "  Downloading nvidia_cudnn_cu12-9.1.0.70-py3-none-manylinux2014_x86_64.whl.metadata (1.6 kB)\n",
            "Collecting nvidia-cublas-cu12==12.4.5.8 (from torch>=2.0.0->torchmetrics)\n",
            "  Downloading nvidia_cublas_cu12-12.4.5.8-py3-none-manylinux2014_x86_64.whl.metadata (1.5 kB)\n",
            "Collecting nvidia-cufft-cu12==11.2.1.3 (from torch>=2.0.0->torchmetrics)\n",
            "  Downloading nvidia_cufft_cu12-11.2.1.3-py3-none-manylinux2014_x86_64.whl.metadata (1.5 kB)\n",
            "Collecting nvidia-curand-cu12==10.3.5.147 (from torch>=2.0.0->torchmetrics)\n",
            "  Downloading nvidia_curand_cu12-10.3.5.147-py3-none-manylinux2014_x86_64.whl.metadata (1.5 kB)\n",
            "Collecting nvidia-cusolver-cu12==11.6.1.9 (from torch>=2.0.0->torchmetrics)\n",
            "  Downloading nvidia_cusolver_cu12-11.6.1.9-py3-none-manylinux2014_x86_64.whl.metadata (1.6 kB)\n",
            "Collecting nvidia-cusparse-cu12==12.3.1.170 (from torch>=2.0.0->torchmetrics)\n",
            "  Downloading nvidia_cusparse_cu12-12.3.1.170-py3-none-manylinux2014_x86_64.whl.metadata (1.6 kB)\n",
            "Requirement already satisfied: nvidia-cusparselt-cu12==0.6.2 in /usr/local/lib/python3.11/dist-packages (from torch>=2.0.0->torchmetrics) (0.6.2)\n",
            "Collecting nvidia-nccl-cu12==2.21.5 (from torch>=2.0.0->torchmetrics)\n",
            "  Downloading nvidia_nccl_cu12-2.21.5-py3-none-manylinux2014_x86_64.whl.metadata (1.8 kB)\n",
            "Requirement already satisfied: nvidia-nvtx-cu12==12.4.127 in /usr/local/lib/python3.11/dist-packages (from torch>=2.0.0->torchmetrics) (12.4.127)\n",
            "Collecting nvidia-nvjitlink-cu12==12.4.127 (from torch>=2.0.0->torchmetrics)\n",
            "  Downloading nvidia_nvjitlink_cu12-12.4.127-py3-none-manylinux2014_x86_64.whl.metadata (1.5 kB)\n",
            "Requirement already satisfied: triton==3.2.0 in /usr/local/lib/python3.11/dist-packages (from torch>=2.0.0->torchmetrics) (3.2.0)\n",
            "Requirement already satisfied: sympy==1.13.1 in /usr/local/lib/python3.11/dist-packages (from torch>=2.0.0->torchmetrics) (1.13.1)\n",
            "Requirement already satisfied: mpmath<1.4,>=1.1.0 in /usr/local/lib/python3.11/dist-packages (from sympy==1.13.1->torch>=2.0.0->torchmetrics) (1.3.0)\n",
            "Requirement already satisfied: six>=1.5 in /usr/local/lib/python3.11/dist-packages (from python-dateutil>=2.7->matplotlib>=3.0.0->mlxtend) (1.17.0)\n",
            "Requirement already satisfied: MarkupSafe>=2.0 in /usr/local/lib/python3.11/dist-packages (from jinja2->torch>=2.0.0->torchmetrics) (3.0.2)\n",
            "Downloading torchmetrics-1.8.1-py3-none-any.whl (982 kB)\n",
            "\u001b[2K   \u001b[90m━━━━━━━━━━━━━━━━━━━━━━━━━━━━━━━━━━━━━━━━\u001b[0m \u001b[32m983.0/983.0 kB\u001b[0m \u001b[31m57.8 MB/s\u001b[0m eta \u001b[36m0:00:00\u001b[0m\n",
            "\u001b[?25hDownloading lightning_utilities-0.15.2-py3-none-any.whl (29 kB)\n",
            "Downloading nvidia_cublas_cu12-12.4.5.8-py3-none-manylinux2014_x86_64.whl (363.4 MB)\n",
            "\u001b[2K   \u001b[90m━━━━━━━━━━━━━━━━━━━━━━━━━━━━━━━━━━━━━━━━\u001b[0m \u001b[32m363.4/363.4 MB\u001b[0m \u001b[31m1.5 MB/s\u001b[0m eta \u001b[36m0:00:00\u001b[0m\n",
            "\u001b[?25hDownloading nvidia_cuda_cupti_cu12-12.4.127-py3-none-manylinux2014_x86_64.whl (13.8 MB)\n",
            "\u001b[2K   \u001b[90m━━━━━━━━━━━━━━━━━━━━━━━━━━━━━━━━━━━━━━━━\u001b[0m \u001b[32m13.8/13.8 MB\u001b[0m \u001b[31m90.2 MB/s\u001b[0m eta \u001b[36m0:00:00\u001b[0m\n",
            "\u001b[?25hDownloading nvidia_cuda_nvrtc_cu12-12.4.127-py3-none-manylinux2014_x86_64.whl (24.6 MB)\n",
            "\u001b[2K   \u001b[90m━━━━━━━━━━━━━━━━━━━━━━━━━━━━━━━━━━━━━━━━\u001b[0m \u001b[32m24.6/24.6 MB\u001b[0m \u001b[31m73.8 MB/s\u001b[0m eta \u001b[36m0:00:00\u001b[0m\n",
            "\u001b[?25hDownloading nvidia_cuda_runtime_cu12-12.4.127-py3-none-manylinux2014_x86_64.whl (883 kB)\n",
            "\u001b[2K   \u001b[90m━━━━━━━━━━━━━━━━━━━━━━━━━━━━━━━━━━━━━━━━\u001b[0m \u001b[32m883.7/883.7 kB\u001b[0m \u001b[31m66.3 MB/s\u001b[0m eta \u001b[36m0:00:00\u001b[0m\n",
            "\u001b[?25hDownloading nvidia_cudnn_cu12-9.1.0.70-py3-none-manylinux2014_x86_64.whl (664.8 MB)\n",
            "\u001b[2K   \u001b[90m━━━━━━━━━━━━━━━━━━━━━━━━━━━━━━━━━━━━━━━━\u001b[0m \u001b[32m664.8/664.8 MB\u001b[0m \u001b[31m2.2 MB/s\u001b[0m eta \u001b[36m0:00:00\u001b[0m\n",
            "\u001b[?25hDownloading nvidia_cufft_cu12-11.2.1.3-py3-none-manylinux2014_x86_64.whl (211.5 MB)\n",
            "\u001b[2K   \u001b[90m━━━━━━━━━━━━━━━━━━━━━━━━━━━━━━━━━━━━━━━━\u001b[0m \u001b[32m211.5/211.5 MB\u001b[0m \u001b[31m5.9 MB/s\u001b[0m eta \u001b[36m0:00:00\u001b[0m\n",
            "\u001b[?25hDownloading nvidia_curand_cu12-10.3.5.147-py3-none-manylinux2014_x86_64.whl (56.3 MB)\n",
            "\u001b[2K   \u001b[90m━━━━━━━━━━━━━━━━━━━━━━━━━━━━━━━━━━━━━━━━\u001b[0m \u001b[32m56.3/56.3 MB\u001b[0m \u001b[31m15.0 MB/s\u001b[0m eta \u001b[36m0:00:00\u001b[0m\n",
            "\u001b[?25hDownloading nvidia_cusolver_cu12-11.6.1.9-py3-none-manylinux2014_x86_64.whl (127.9 MB)\n",
            "\u001b[2K   \u001b[90m━━━━━━━━━━━━━━━━━━━━━━━━━━━━━━━━━━━━━━━━\u001b[0m \u001b[32m127.9/127.9 MB\u001b[0m \u001b[31m7.7 MB/s\u001b[0m eta \u001b[36m0:00:00\u001b[0m\n",
            "\u001b[?25hDownloading nvidia_cusparse_cu12-12.3.1.170-py3-none-manylinux2014_x86_64.whl (207.5 MB)\n",
            "\u001b[2K   \u001b[90m━━━━━━━━━━━━━━━━━━━━━━━━━━━━━━━━━━━━━━━━\u001b[0m \u001b[32m207.5/207.5 MB\u001b[0m \u001b[31m7.3 MB/s\u001b[0m eta \u001b[36m0:00:00\u001b[0m\n",
            "\u001b[?25hDownloading nvidia_nccl_cu12-2.21.5-py3-none-manylinux2014_x86_64.whl (188.7 MB)\n",
            "\u001b[2K   \u001b[90m━━━━━━━━━━━━━━━━━━━━━━━━━━━━━━━━━━━━━━━━\u001b[0m \u001b[32m188.7/188.7 MB\u001b[0m \u001b[31m6.5 MB/s\u001b[0m eta \u001b[36m0:00:00\u001b[0m\n",
            "\u001b[?25hDownloading nvidia_nvjitlink_cu12-12.4.127-py3-none-manylinux2014_x86_64.whl (21.1 MB)\n",
            "\u001b[2K   \u001b[90m━━━━━━━━━━━━━━━━━━━━━━━━━━━━━━━━━━━━━━━━\u001b[0m \u001b[32m21.1/21.1 MB\u001b[0m \u001b[31m107.6 MB/s\u001b[0m eta \u001b[36m0:00:00\u001b[0m\n",
            "\u001b[?25hInstalling collected packages: nvidia-nvjitlink-cu12, nvidia-nccl-cu12, nvidia-curand-cu12, nvidia-cufft-cu12, nvidia-cuda-runtime-cu12, nvidia-cuda-nvrtc-cu12, nvidia-cuda-cupti-cu12, nvidia-cublas-cu12, lightning-utilities, nvidia-cusparse-cu12, nvidia-cudnn-cu12, nvidia-cusolver-cu12, torchmetrics\n",
            "  Attempting uninstall: nvidia-nvjitlink-cu12\n",
            "    Found existing installation: nvidia-nvjitlink-cu12 12.5.82\n",
            "    Uninstalling nvidia-nvjitlink-cu12-12.5.82:\n",
            "      Successfully uninstalled nvidia-nvjitlink-cu12-12.5.82\n",
            "  Attempting uninstall: nvidia-nccl-cu12\n",
            "    Found existing installation: nvidia-nccl-cu12 2.23.4\n",
            "    Uninstalling nvidia-nccl-cu12-2.23.4:\n",
            "      Successfully uninstalled nvidia-nccl-cu12-2.23.4\n",
            "  Attempting uninstall: nvidia-curand-cu12\n",
            "    Found existing installation: nvidia-curand-cu12 10.3.6.82\n",
            "    Uninstalling nvidia-curand-cu12-10.3.6.82:\n",
            "      Successfully uninstalled nvidia-curand-cu12-10.3.6.82\n",
            "  Attempting uninstall: nvidia-cufft-cu12\n",
            "    Found existing installation: nvidia-cufft-cu12 11.2.3.61\n",
            "    Uninstalling nvidia-cufft-cu12-11.2.3.61:\n",
            "      Successfully uninstalled nvidia-cufft-cu12-11.2.3.61\n",
            "  Attempting uninstall: nvidia-cuda-runtime-cu12\n",
            "    Found existing installation: nvidia-cuda-runtime-cu12 12.5.82\n",
            "    Uninstalling nvidia-cuda-runtime-cu12-12.5.82:\n",
            "      Successfully uninstalled nvidia-cuda-runtime-cu12-12.5.82\n",
            "  Attempting uninstall: nvidia-cuda-nvrtc-cu12\n",
            "    Found existing installation: nvidia-cuda-nvrtc-cu12 12.5.82\n",
            "    Uninstalling nvidia-cuda-nvrtc-cu12-12.5.82:\n",
            "      Successfully uninstalled nvidia-cuda-nvrtc-cu12-12.5.82\n",
            "  Attempting uninstall: nvidia-cuda-cupti-cu12\n",
            "    Found existing installation: nvidia-cuda-cupti-cu12 12.5.82\n",
            "    Uninstalling nvidia-cuda-cupti-cu12-12.5.82:\n",
            "      Successfully uninstalled nvidia-cuda-cupti-cu12-12.5.82\n",
            "  Attempting uninstall: nvidia-cublas-cu12\n",
            "    Found existing installation: nvidia-cublas-cu12 12.5.3.2\n",
            "    Uninstalling nvidia-cublas-cu12-12.5.3.2:\n",
            "      Successfully uninstalled nvidia-cublas-cu12-12.5.3.2\n",
            "  Attempting uninstall: nvidia-cusparse-cu12\n",
            "    Found existing installation: nvidia-cusparse-cu12 12.5.1.3\n",
            "    Uninstalling nvidia-cusparse-cu12-12.5.1.3:\n",
            "      Successfully uninstalled nvidia-cusparse-cu12-12.5.1.3\n",
            "  Attempting uninstall: nvidia-cudnn-cu12\n",
            "    Found existing installation: nvidia-cudnn-cu12 9.3.0.75\n",
            "    Uninstalling nvidia-cudnn-cu12-9.3.0.75:\n",
            "      Successfully uninstalled nvidia-cudnn-cu12-9.3.0.75\n",
            "  Attempting uninstall: nvidia-cusolver-cu12\n",
            "    Found existing installation: nvidia-cusolver-cu12 11.6.3.83\n",
            "    Uninstalling nvidia-cusolver-cu12-11.6.3.83:\n",
            "      Successfully uninstalled nvidia-cusolver-cu12-11.6.3.83\n",
            "Successfully installed lightning-utilities-0.15.2 nvidia-cublas-cu12-12.4.5.8 nvidia-cuda-cupti-cu12-12.4.127 nvidia-cuda-nvrtc-cu12-12.4.127 nvidia-cuda-runtime-cu12-12.4.127 nvidia-cudnn-cu12-9.1.0.70 nvidia-cufft-cu12-11.2.1.3 nvidia-curand-cu12-10.3.5.147 nvidia-cusolver-cu12-11.6.1.9 nvidia-cusparse-cu12-12.3.1.170 nvidia-nccl-cu12-2.21.5 nvidia-nvjitlink-cu12-12.4.127 torchmetrics-1.8.1\n",
            "mlxtend version: 0.23.4\n"
          ]
        }
      ],
      "source": [
        "try:\n",
        "  import torchmetrics, mlxtend\n",
        "  print(f\"mlxtend version:{mlxtend.__version__}\")\n",
        "  assert int(mlxtend.__version__.split(\".\")[1] >= 19, \"mlxtend version should be higher\")\n",
        "except:\n",
        "  !pip install torchmetrics -U mlxtend\n",
        "  import torchmetrics, mlxtend\n",
        "  print(f\"mlxtend version: {mlxtend.__version__}\")"
      ]
    },
    {
      "cell_type": "code",
      "execution_count": null,
      "metadata": {
        "colab": {
          "base_uri": "https://localhost:8080/"
        },
        "id": "X2LVnLXiJKwf",
        "outputId": "46c3c673-83ea-4365-8263-4260b7ef990f"
      },
      "outputs": [
        {
          "output_type": "execute_result",
          "data": {
            "text/plain": [
              "tensor([9, 2, 1,  ..., 8, 1, 5])"
            ]
          },
          "metadata": {},
          "execution_count": 80
        }
      ],
      "source": [
        "test_data.targets"
      ]
    },
    {
      "cell_type": "code",
      "execution_count": null,
      "metadata": {
        "colab": {
          "base_uri": "https://localhost:8080/",
          "height": 667
        },
        "id": "LEP2g6dhDlLd",
        "outputId": "e5e219b2-4ccb-40da-f2db-61519475e883"
      },
      "outputs": [
        {
          "output_type": "display_data",
          "data": {
            "text/plain": [
              "<Figure size 1000x700 with 1 Axes>"
            ],
            "image/png": "[encoded data removed]"
          },
          "metadata": {}
        }
      ],
      "source": [
        "from torchmetrics import ConfusionMatrix\n",
        "from mlxtend.plotting import plot_confusion_matrix\n",
        "\n",
        "confmat = ConfusionMatrix(task=\"multiclass\",num_classes=len(class_names))\n",
        "confmat_tensor = confmat(preds=y_pred_tensor,\n",
        "                         target=test_data.targets)\n",
        "\n",
        "fig, ax = plot_confusion_matrix(\n",
        "    conf_mat=confmat_tensor.numpy(),\n",
        "    class_names=class_names,\n",
        "    figsize=(10,7)\n",
        ")"
      ]
    },
    {
      "cell_type": "code",
      "execution_count": null,
      "metadata": {
        "colab": {
          "base_uri": "https://localhost:8080/"
        },
        "id": "vo_BOTIxI5B9",
        "outputId": "e7c4bd03-f36f-4adb-d55d-50fba41f268e"
      },
      "outputs": [
        {
          "output_type": "execute_result",
          "data": {
            "text/plain": [
              "tensor([[ 82,  87, 114, 108, 111,  63, 133, 121, 109,  72],\n",
              "        [ 82,  96,  96, 126, 103,  87, 121, 115, 104,  70],\n",
              "        [ 91,  95, 102, 130,  84,  59, 148, 133,  92,  66],\n",
              "        [ 75,  84, 103, 113, 107,  72, 128, 130, 104,  84],\n",
              "        [ 95, 100,  94,  95,  97,  82, 125, 124, 102,  86],\n",
              "        [ 83, 114, 101, 111,  92,  75, 131, 102, 107,  84],\n",
              "        [ 99,  99,  91, 103, 111,  75, 130, 117,  93,  82],\n",
              "        [ 73, 105,  84, 107, 119,  69, 117, 119, 112,  95],\n",
              "        [ 91,  84, 105, 108, 113,  66, 129, 116,  92,  96],\n",
              "        [114, 102, 100, 104,  75,  79, 102, 126, 105,  93]])"
            ]
          },
          "metadata": {},
          "execution_count": 82
        }
      ],
      "source": [
        "confmat_tensor"
      ]
    },
    {
      "cell_type": "code",
      "execution_count": null,
      "metadata": {
        "colab": {
          "base_uri": "https://localhost:8080/"
        },
        "id": "dXX_1at_JtCe",
        "outputId": "7f4236dc-e02c-4e63-a134-c991509b23f1"
      },
      "outputs": [
        {
          "output_type": "stream",
          "name": "stdout",
          "text": [
            "Save model to: models/03_pytorch_computer_vision_model_2.pth\n"
          ]
        }
      ],
      "source": [
        "from pathlib import Path\n",
        "\n",
        "MODEL_PATH = Path(\"models\")\n",
        "MODEL_PATH.mkdir(parents=True,\n",
        "                 exist_ok=True)\n",
        "\n",
        "MODEL_NAME = \"03_pytorch_computer_vision_model_2.pth\"\n",
        "MODEL_SAVE_PATH = MODEL_PATH / MODEL_NAME\n",
        "\n",
        "print(f\"Save model to: {MODEL_SAVE_PATH}\")\n",
        "torch.save(obj=model_2.state_dict(),\n",
        "           f=MODEL_SAVE_PATH)"
      ]
    },
    {
      "cell_type": "code",
      "execution_count": null,
      "metadata": {
        "colab": {
          "base_uri": "https://localhost:8080/"
        },
        "id": "ovcQNkPILUom",
        "outputId": "0031fc29-bab2-417b-f7fa-f93c8c60e4ad"
      },
      "outputs": [
        {
          "output_type": "execute_result",
          "data": {
            "text/plain": [
              "FashionMNISTModelV2(\n",
              "  (conv_block_1): Sequential(\n",
              "    (0): Conv2d(1, 10, kernel_size=(3, 3), stride=(1, 1), padding=(1, 1))\n",
              "    (1): ReLU()\n",
              "    (2): Conv2d(10, 10, kernel_size=(3, 3), stride=(1, 1), padding=(1, 1))\n",
              "    (3): ReLU()\n",
              "    (4): MaxPool2d(kernel_size=2, stride=2, padding=0, dilation=1, ceil_mode=False)\n",
              "  )\n",
              "  (conv_block_2): Sequential(\n",
              "    (0): Conv2d(10, 10, kernel_size=(3, 3), stride=(1, 1), padding=(1, 1))\n",
              "    (1): ReLU()\n",
              "    (2): Conv2d(10, 10, kernel_size=(3, 3), stride=(1, 1), padding=(1, 1))\n",
              "    (3): ReLU()\n",
              "    (4): MaxPool2d(kernel_size=2, stride=2, padding=0, dilation=1, ceil_mode=False)\n",
              "  )\n",
              "  (classifier): Sequential(\n",
              "    (0): Flatten(start_dim=1, end_dim=-1)\n",
              "    (1): Linear(in_features=490, out_features=10, bias=True)\n",
              "  )\n",
              ")"
            ]
          },
          "metadata": {},
          "execution_count": 84
        }
      ],
      "source": [
        "torch.manual_seed(42)\n",
        "\n",
        "loaded_model_2 = FashionMNISTModelV2(input_shape=1,\n",
        "                                     hidden_units=10,\n",
        "                                     output_shape=len(class_names))\n",
        "\n",
        "loaded_model_2.load_state_dict(torch.load(f=MODEL_SAVE_PATH))\n",
        "\n",
        "loaded_model_2.to(device)"
      ]
    },
    {
      "cell_type": "code",
      "execution_count": null,
      "metadata": {
        "colab": {
          "base_uri": "https://localhost:8080/"
        },
        "id": "8tO_YX1H2G1O",
        "outputId": "2446e11d-ed04-4f7a-a527-7f4e33370e51"
      },
      "outputs": [
        {
          "output_type": "execute_result",
          "data": {
            "text/plain": [
              "{'model_name': 'FashionMNISTModelV2',\n",
              " 'model_loss': 0.28731194138526917,\n",
              " 'model_acc': 90.57507987220447}"
            ]
          },
          "metadata": {},
          "execution_count": 85
        }
      ],
      "source": [
        "model_2_results"
      ]
    },
    {
      "cell_type": "code",
      "execution_count": null,
      "metadata": {
        "colab": {
          "base_uri": "https://localhost:8080/",
          "height": 104,
          "referenced_widgets": [
            "9b8a66a99c9d4e0395929ee95a13b903",
            "b1f505a86c1142a89206d595365c7cd5",
            "26965b0a7f51469d839257b0622c2db4",
            "111722ff18e342b1b3b7487ff599e3e9",
            "536da83f3b034108bde4dc1bd3283261",
            "edf8c0850a464a94bc49801b58530d16",
            "85fdb446ab15421598554e7ddd94fad6",
            "b50d29c0507842ca8d1b7afa4c05ea3e",
            "bfc92fef46ab4827a18c9fba0983f89f",
            "67399ebca2354144a0e93f07ccf4b487",
            "eb1edd8b937c438c9ee6f98b49bfa689"
          ]
        },
        "id": "Yrxs9aAE2LlW",
        "outputId": "a96149b3-da64-44d8-9559-18ca52607cff"
      },
      "outputs": [
        {
          "output_type": "display_data",
          "data": {
            "text/plain": [
              "  0%|          | 0/313 [00:00<?, ?it/s]"
            ],
            "application/vnd.jupyter.widget-view+json": {
              "version_major": 2,
              "version_minor": 0,
              "model_id": "9b8a66a99c9d4e0395929ee95a13b903"
            }
          },
          "metadata": {}
        },
        {
          "output_type": "execute_result",
          "data": {
            "text/plain": [
              "{'model_name': 'FashionMNISTModelV2',\n",
              " 'model_loss': 0.2871304154396057,\n",
              " 'model_acc': 90.54512779552715}"
            ]
          },
          "metadata": {},
          "execution_count": 86
        }
      ],
      "source": [
        " torch.manual_seed(42)\n",
        "\n",
        " loaded_model_2_results = eval_model(\n",
        "     model=loaded_model_2,\n",
        "     data_loader=test_dataloader,\n",
        "     loss_fn=loss_fn,\n",
        "     accuracy_fn=accuracy_fn\n",
        " )\n",
        "\n",
        " loaded_model_2_results"
      ]
    },
    {
      "cell_type": "code",
      "execution_count": null,
      "metadata": {
        "colab": {
          "base_uri": "https://localhost:8080/"
        },
        "id": "VNp8mHgS4hIt",
        "outputId": "5d5c9b25-c776-4173-eaea-a5bf9695d4c7"
      },
      "outputs": [
        {
          "output_type": "execute_result",
          "data": {
            "text/plain": [
              "{'model_name': 'FashionMNISTModelV2',\n",
              " 'model_loss': 0.28731194138526917,\n",
              " 'model_acc': 90.57507987220447}"
            ]
          },
          "metadata": {},
          "execution_count": 87
        }
      ],
      "source": [
        "model_2_results"
      ]
    },
    {
      "cell_type": "code",
      "execution_count": null,
      "metadata": {
        "colab": {
          "base_uri": "https://localhost:8080/"
        },
        "id": "2fiMsF_-4kdd",
        "outputId": "fb618f19-b6fc-4e6d-9cdd-d248d78e5205"
      },
      "outputs": [
        {
          "output_type": "execute_result",
          "data": {
            "text/plain": [
              "tensor(False)"
            ]
          },
          "metadata": {},
          "execution_count": 88
        }
      ],
      "source": [
        "torch.isclose(torch.tensor(model_2_results[\"model_loss\"]),\n",
        "              torch.tensor(loaded_model_2_results[\"model_loss\"]))\n"
      ]
    },
    {
      "cell_type": "code",
      "execution_count": null,
      "metadata": {
        "id": "86xohjwgG5hZ"
      },
      "outputs": [],
      "source": []
    }
  ],
  "metadata": {
    "accelerator": "GPU",
    "colab": {
      "gpuType": "T4",
      "provenance": []
    },
    "kernelspec": {
      "display_name": "Python 3",
      "name": "python3"
    },
    "language_info": {
      "name": "python"
    },
    "widgets": {
      "application/vnd.jupyter.widget-state+json": {
        "6f90c9f48af946bdab41744ee9db8fdd": {
          "model_module": "@jupyter-widgets/controls",
          "model_name": "HBoxModel",
          "model_module_version": "1.5.0",
          "state": {
            "_dom_classes": [],
            "_model_module": "@jupyter-widgets/controls",
            "_model_module_version": "1.5.0",
            "_model_name": "HBoxModel",
            "_view_count": null,
            "_view_module": "@jupyter-widgets/controls",
            "_view_module_version": "1.5.0",
            "_view_name": "HBoxView",
            "box_style": "",
            "children": [
              "IPY_MODEL_ffcef1e3503c416ea3059aae9e1a3f4d",
              "IPY_MODEL_4975bc2a11c04428acfbde32ef220ba3",
              "IPY_MODEL_0e783440deaa4a96a178b024f8078f07"
            ],
            "layout": "IPY_MODEL_00514edaffe84284bb13ee05faed9f04"
          }
        },
        "ffcef1e3503c416ea3059aae9e1a3f4d": {
          "model_module": "@jupyter-widgets/controls",
          "model_name": "HTMLModel",
          "model_module_version": "1.5.0",
          "state": {
            "_dom_classes": [],
            "_model_module": "@jupyter-widgets/controls",
            "_model_module_version": "1.5.0",
            "_model_name": "HTMLModel",
            "_view_count": null,
            "_view_module": "@jupyter-widgets/controls",
            "_view_module_version": "1.5.0",
            "_view_name": "HTMLView",
            "description": "",
            "description_tooltip": null,
            "layout": "IPY_MODEL_b14e446bfb5947d291a0727703402a36",
            "placeholder": "​",
            "style": "IPY_MODEL_9bc3b800e8c6418381f4f281438801f8",
            "value": "100%"
          }
        },
        "4975bc2a11c04428acfbde32ef220ba3": {
          "model_module": "@jupyter-widgets/controls",
          "model_name": "FloatProgressModel",
          "model_module_version": "1.5.0",
          "state": {
            "_dom_classes": [],
            "_model_module": "@jupyter-widgets/controls",
            "_model_module_version": "1.5.0",
            "_model_name": "FloatProgressModel",
            "_view_count": null,
            "_view_module": "@jupyter-widgets/controls",
            "_view_module_version": "1.5.0",
            "_view_name": "ProgressView",
            "bar_style": "success",
            "description": "",
            "description_tooltip": null,
            "layout": "IPY_MODEL_25afaeffb871493ab25ad91622eae3b2",
            "max": 3,
            "min": 0,
            "orientation": "horizontal",
            "style": "IPY_MODEL_b94e7a1495d7480e9a8a7d7f6c3388df",
            "value": 3
          }
        },
        "0e783440deaa4a96a178b024f8078f07": {
          "model_module": "@jupyter-widgets/controls",
          "model_name": "HTMLModel",
          "model_module_version": "1.5.0",
          "state": {
            "_dom_classes": [],
            "_model_module": "@jupyter-widgets/controls",
            "_model_module_version": "1.5.0",
            "_model_name": "HTMLModel",
            "_view_count": null,
            "_view_module": "@jupyter-widgets/controls",
            "_view_module_version": "1.5.0",
            "_view_name": "HTMLView",
            "description": "",
            "description_tooltip": null,
            "layout": "IPY_MODEL_17d94274aa454677a11d863f4b001dec",
            "placeholder": "​",
            "style": "IPY_MODEL_ddb4b9b660a64120b7d7f67603ed94f3",
            "value": " 3/3 [00:32&lt;00:00, 10.53s/it]"
          }
        },
        "00514edaffe84284bb13ee05faed9f04": {
          "model_module": "@jupyter-widgets/base",
          "model_name": "LayoutModel",
          "model_module_version": "1.2.0",
          "state": {
            "_model_module": "@jupyter-widgets/base",
            "_model_module_version": "1.2.0",
            "_model_name": "LayoutModel",
            "_view_count": null,
            "_view_module": "@jupyter-widgets/base",
            "_view_module_version": "1.2.0",
            "_view_name": "LayoutView",
            "align_content": null,
            "align_items": null,
            "align_self": null,
            "border": null,
            "bottom": null,
            "display": null,
            "flex": null,
            "flex_flow": null,
            "grid_area": null,
            "grid_auto_columns": null,
            "grid_auto_flow": null,
            "grid_auto_rows": null,
            "grid_column": null,
            "grid_gap": null,
            "grid_row": null,
            "grid_template_areas": null,
            "grid_template_columns": null,
            "grid_template_rows": null,
            "height": null,
            "justify_content": null,
            "justify_items": null,
            "left": null,
            "margin": null,
            "max_height": null,
            "max_width": null,
            "min_height": null,
            "min_width": null,
            "object_fit": null,
            "object_position": null,
            "order": null,
            "overflow": null,
            "overflow_x": null,
            "overflow_y": null,
            "padding": null,
            "right": null,
            "top": null,
            "visibility": null,
            "width": null
          }
        },
        "b14e446bfb5947d291a0727703402a36": {
          "model_module": "@jupyter-widgets/base",
          "model_name": "LayoutModel",
          "model_module_version": "1.2.0",
          "state": {
            "_model_module": "@jupyter-widgets/base",
            "_model_module_version": "1.2.0",
            "_model_name": "LayoutModel",
            "_view_count": null,
            "_view_module": "@jupyter-widgets/base",
            "_view_module_version": "1.2.0",
            "_view_name": "LayoutView",
            "align_content": null,
            "align_items": null,
            "align_self": null,
            "border": null,
            "bottom": null,
            "display": null,
            "flex": null,
            "flex_flow": null,
            "grid_area": null,
            "grid_auto_columns": null,
            "grid_auto_flow": null,
            "grid_auto_rows": null,
            "grid_column": null,
            "grid_gap": null,
            "grid_row": null,
            "grid_template_areas": null,
            "grid_template_columns": null,
            "grid_template_rows": null,
            "height": null,
            "justify_content": null,
            "justify_items": null,
            "left": null,
            "margin": null,
            "max_height": null,
            "max_width": null,
            "min_height": null,
            "min_width": null,
            "object_fit": null,
            "object_position": null,
            "order": null,
            "overflow": null,
            "overflow_x": null,
            "overflow_y": null,
            "padding": null,
            "right": null,
            "top": null,
            "visibility": null,
            "width": null
          }
        },
        "9bc3b800e8c6418381f4f281438801f8": {
          "model_module": "@jupyter-widgets/controls",
          "model_name": "DescriptionStyleModel",
          "model_module_version": "1.5.0",
          "state": {
            "_model_module": "@jupyter-widgets/controls",
            "_model_module_version": "1.5.0",
            "_model_name": "DescriptionStyleModel",
            "_view_count": null,
            "_view_module": "@jupyter-widgets/base",
            "_view_module_version": "1.2.0",
            "_view_name": "StyleView",
            "description_width": ""
          }
        },
        "25afaeffb871493ab25ad91622eae3b2": {
          "model_module": "@jupyter-widgets/base",
          "model_name": "LayoutModel",
          "model_module_version": "1.2.0",
          "state": {
            "_model_module": "@jupyter-widgets/base",
            "_model_module_version": "1.2.0",
            "_model_name": "LayoutModel",
            "_view_count": null,
            "_view_module": "@jupyter-widgets/base",
            "_view_module_version": "1.2.0",
            "_view_name": "LayoutView",
            "align_content": null,
            "align_items": null,
            "align_self": null,
            "border": null,
            "bottom": null,
            "display": null,
            "flex": null,
            "flex_flow": null,
            "grid_area": null,
            "grid_auto_columns": null,
            "grid_auto_flow": null,
            "grid_auto_rows": null,
            "grid_column": null,
            "grid_gap": null,
            "grid_row": null,
            "grid_template_areas": null,
            "grid_template_columns": null,
            "grid_template_rows": null,
            "height": null,
            "justify_content": null,
            "justify_items": null,
            "left": null,
            "margin": null,
            "max_height": null,
            "max_width": null,
            "min_height": null,
            "min_width": null,
            "object_fit": null,
            "object_position": null,
            "order": null,
            "overflow": null,
            "overflow_x": null,
            "overflow_y": null,
            "padding": null,
            "right": null,
            "top": null,
            "visibility": null,
            "width": null
          }
        },
        "b94e7a1495d7480e9a8a7d7f6c3388df": {
          "model_module": "@jupyter-widgets/controls",
          "model_name": "ProgressStyleModel",
          "model_module_version": "1.5.0",
          "state": {
            "_model_module": "@jupyter-widgets/controls",
            "_model_module_version": "1.5.0",
            "_model_name": "ProgressStyleModel",
            "_view_count": null,
            "_view_module": "@jupyter-widgets/base",
            "_view_module_version": "1.2.0",
            "_view_name": "StyleView",
            "bar_color": null,
            "description_width": ""
          }
        },
        "17d94274aa454677a11d863f4b001dec": {
          "model_module": "@jupyter-widgets/base",
          "model_name": "LayoutModel",
          "model_module_version": "1.2.0",
          "state": {
            "_model_module": "@jupyter-widgets/base",
            "_model_module_version": "1.2.0",
            "_model_name": "LayoutModel",
            "_view_count": null,
            "_view_module": "@jupyter-widgets/base",
            "_view_module_version": "1.2.0",
            "_view_name": "LayoutView",
            "align_content": null,
            "align_items": null,
            "align_self": null,
            "border": null,
            "bottom": null,
            "display": null,
            "flex": null,
            "flex_flow": null,
            "grid_area": null,
            "grid_auto_columns": null,
            "grid_auto_flow": null,
            "grid_auto_rows": null,
            "grid_column": null,
            "grid_gap": null,
            "grid_row": null,
            "grid_template_areas": null,
            "grid_template_columns": null,
            "grid_template_rows": null,
            "height": null,
            "justify_content": null,
            "justify_items": null,
            "left": null,
            "margin": null,
            "max_height": null,
            "max_width": null,
            "min_height": null,
            "min_width": null,
            "object_fit": null,
            "object_position": null,
            "order": null,
            "overflow": null,
            "overflow_x": null,
            "overflow_y": null,
            "padding": null,
            "right": null,
            "top": null,
            "visibility": null,
            "width": null
          }
        },
        "ddb4b9b660a64120b7d7f67603ed94f3": {
          "model_module": "@jupyter-widgets/controls",
          "model_name": "DescriptionStyleModel",
          "model_module_version": "1.5.0",
          "state": {
            "_model_module": "@jupyter-widgets/controls",
            "_model_module_version": "1.5.0",
            "_model_name": "DescriptionStyleModel",
            "_view_count": null,
            "_view_module": "@jupyter-widgets/base",
            "_view_module_version": "1.2.0",
            "_view_name": "StyleView",
            "description_width": ""
          }
        },
        "3fcef259714e4f62b2bda019b8c0b783": {
          "model_module": "@jupyter-widgets/controls",
          "model_name": "HBoxModel",
          "model_module_version": "1.5.0",
          "state": {
            "_dom_classes": [],
            "_model_module": "@jupyter-widgets/controls",
            "_model_module_version": "1.5.0",
            "_model_name": "HBoxModel",
            "_view_count": null,
            "_view_module": "@jupyter-widgets/controls",
            "_view_module_version": "1.5.0",
            "_view_name": "HBoxView",
            "box_style": "",
            "children": [
              "IPY_MODEL_f6d4f9ac177b4c3c9fb16dbe36f8bd54",
              "IPY_MODEL_520fa4dcc1964258bf92ac8bd13866cf",
              "IPY_MODEL_4749465f67c9469ca25b542a426dec14"
            ],
            "layout": "IPY_MODEL_d42a8c97f53a4926898dd8233c87956c"
          }
        },
        "f6d4f9ac177b4c3c9fb16dbe36f8bd54": {
          "model_module": "@jupyter-widgets/controls",
          "model_name": "HTMLModel",
          "model_module_version": "1.5.0",
          "state": {
            "_dom_classes": [],
            "_model_module": "@jupyter-widgets/controls",
            "_model_module_version": "1.5.0",
            "_model_name": "HTMLModel",
            "_view_count": null,
            "_view_module": "@jupyter-widgets/controls",
            "_view_module_version": "1.5.0",
            "_view_name": "HTMLView",
            "description": "",
            "description_tooltip": null,
            "layout": "IPY_MODEL_210328890a034952960b3846683c632a",
            "placeholder": "​",
            "style": "IPY_MODEL_1577ded0b7014e46b68591cb81e78463",
            "value": "100%"
          }
        },
        "520fa4dcc1964258bf92ac8bd13866cf": {
          "model_module": "@jupyter-widgets/controls",
          "model_name": "FloatProgressModel",
          "model_module_version": "1.5.0",
          "state": {
            "_dom_classes": [],
            "_model_module": "@jupyter-widgets/controls",
            "_model_module_version": "1.5.0",
            "_model_name": "FloatProgressModel",
            "_view_count": null,
            "_view_module": "@jupyter-widgets/controls",
            "_view_module_version": "1.5.0",
            "_view_name": "ProgressView",
            "bar_style": "success",
            "description": "",
            "description_tooltip": null,
            "layout": "IPY_MODEL_694cb9edbde448afb1a1d801bb64937c",
            "max": 313,
            "min": 0,
            "orientation": "horizontal",
            "style": "IPY_MODEL_dfa30369d4754b56a93081ddc1aef832",
            "value": 313
          }
        },
        "4749465f67c9469ca25b542a426dec14": {
          "model_module": "@jupyter-widgets/controls",
          "model_name": "HTMLModel",
          "model_module_version": "1.5.0",
          "state": {
            "_dom_classes": [],
            "_model_module": "@jupyter-widgets/controls",
            "_model_module_version": "1.5.0",
            "_model_name": "HTMLModel",
            "_view_count": null,
            "_view_module": "@jupyter-widgets/controls",
            "_view_module_version": "1.5.0",
            "_view_name": "HTMLView",
            "description": "",
            "description_tooltip": null,
            "layout": "IPY_MODEL_aea089b3469242589d136cc12937fc28",
            "placeholder": "​",
            "style": "IPY_MODEL_8820736bc86441929f0df513f0b22f24",
            "value": " 313/313 [00:01&lt;00:00, 274.61it/s]"
          }
        },
        "d42a8c97f53a4926898dd8233c87956c": {
          "model_module": "@jupyter-widgets/base",
          "model_name": "LayoutModel",
          "model_module_version": "1.2.0",
          "state": {
            "_model_module": "@jupyter-widgets/base",
            "_model_module_version": "1.2.0",
            "_model_name": "LayoutModel",
            "_view_count": null,
            "_view_module": "@jupyter-widgets/base",
            "_view_module_version": "1.2.0",
            "_view_name": "LayoutView",
            "align_content": null,
            "align_items": null,
            "align_self": null,
            "border": null,
            "bottom": null,
            "display": null,
            "flex": null,
            "flex_flow": null,
            "grid_area": null,
            "grid_auto_columns": null,
            "grid_auto_flow": null,
            "grid_auto_rows": null,
            "grid_column": null,
            "grid_gap": null,
            "grid_row": null,
            "grid_template_areas": null,
            "grid_template_columns": null,
            "grid_template_rows": null,
            "height": null,
            "justify_content": null,
            "justify_items": null,
            "left": null,
            "margin": null,
            "max_height": null,
            "max_width": null,
            "min_height": null,
            "min_width": null,
            "object_fit": null,
            "object_position": null,
            "order": null,
            "overflow": null,
            "overflow_x": null,
            "overflow_y": null,
            "padding": null,
            "right": null,
            "top": null,
            "visibility": null,
            "width": null
          }
        },
        "210328890a034952960b3846683c632a": {
          "model_module": "@jupyter-widgets/base",
          "model_name": "LayoutModel",
          "model_module_version": "1.2.0",
          "state": {
            "_model_module": "@jupyter-widgets/base",
            "_model_module_version": "1.2.0",
            "_model_name": "LayoutModel",
            "_view_count": null,
            "_view_module": "@jupyter-widgets/base",
            "_view_module_version": "1.2.0",
            "_view_name": "LayoutView",
            "align_content": null,
            "align_items": null,
            "align_self": null,
            "border": null,
            "bottom": null,
            "display": null,
            "flex": null,
            "flex_flow": null,
            "grid_area": null,
            "grid_auto_columns": null,
            "grid_auto_flow": null,
            "grid_auto_rows": null,
            "grid_column": null,
            "grid_gap": null,
            "grid_row": null,
            "grid_template_areas": null,
            "grid_template_columns": null,
            "grid_template_rows": null,
            "height": null,
            "justify_content": null,
            "justify_items": null,
            "left": null,
            "margin": null,
            "max_height": null,
            "max_width": null,
            "min_height": null,
            "min_width": null,
            "object_fit": null,
            "object_position": null,
            "order": null,
            "overflow": null,
            "overflow_x": null,
            "overflow_y": null,
            "padding": null,
            "right": null,
            "top": null,
            "visibility": null,
            "width": null
          }
        },
        "1577ded0b7014e46b68591cb81e78463": {
          "model_module": "@jupyter-widgets/controls",
          "model_name": "DescriptionStyleModel",
          "model_module_version": "1.5.0",
          "state": {
            "_model_module": "@jupyter-widgets/controls",
            "_model_module_version": "1.5.0",
            "_model_name": "DescriptionStyleModel",
            "_view_count": null,
            "_view_module": "@jupyter-widgets/base",
            "_view_module_version": "1.2.0",
            "_view_name": "StyleView",
            "description_width": ""
          }
        },
        "694cb9edbde448afb1a1d801bb64937c": {
          "model_module": "@jupyter-widgets/base",
          "model_name": "LayoutModel",
          "model_module_version": "1.2.0",
          "state": {
            "_model_module": "@jupyter-widgets/base",
            "_model_module_version": "1.2.0",
            "_model_name": "LayoutModel",
            "_view_count": null,
            "_view_module": "@jupyter-widgets/base",
            "_view_module_version": "1.2.0",
            "_view_name": "LayoutView",
            "align_content": null,
            "align_items": null,
            "align_self": null,
            "border": null,
            "bottom": null,
            "display": null,
            "flex": null,
            "flex_flow": null,
            "grid_area": null,
            "grid_auto_columns": null,
            "grid_auto_flow": null,
            "grid_auto_rows": null,
            "grid_column": null,
            "grid_gap": null,
            "grid_row": null,
            "grid_template_areas": null,
            "grid_template_columns": null,
            "grid_template_rows": null,
            "height": null,
            "justify_content": null,
            "justify_items": null,
            "left": null,
            "margin": null,
            "max_height": null,
            "max_width": null,
            "min_height": null,
            "min_width": null,
            "object_fit": null,
            "object_position": null,
            "order": null,
            "overflow": null,
            "overflow_x": null,
            "overflow_y": null,
            "padding": null,
            "right": null,
            "top": null,
            "visibility": null,
            "width": null
          }
        },
        "dfa30369d4754b56a93081ddc1aef832": {
          "model_module": "@jupyter-widgets/controls",
          "model_name": "ProgressStyleModel",
          "model_module_version": "1.5.0",
          "state": {
            "_model_module": "@jupyter-widgets/controls",
            "_model_module_version": "1.5.0",
            "_model_name": "ProgressStyleModel",
            "_view_count": null,
            "_view_module": "@jupyter-widgets/base",
            "_view_module_version": "1.2.0",
            "_view_name": "StyleView",
            "bar_color": null,
            "description_width": ""
          }
        },
        "aea089b3469242589d136cc12937fc28": {
          "model_module": "@jupyter-widgets/base",
          "model_name": "LayoutModel",
          "model_module_version": "1.2.0",
          "state": {
            "_model_module": "@jupyter-widgets/base",
            "_model_module_version": "1.2.0",
            "_model_name": "LayoutModel",
            "_view_count": null,
            "_view_module": "@jupyter-widgets/base",
            "_view_module_version": "1.2.0",
            "_view_name": "LayoutView",
            "align_content": null,
            "align_items": null,
            "align_self": null,
            "border": null,
            "bottom": null,
            "display": null,
            "flex": null,
            "flex_flow": null,
            "grid_area": null,
            "grid_auto_columns": null,
            "grid_auto_flow": null,
            "grid_auto_rows": null,
            "grid_column": null,
            "grid_gap": null,
            "grid_row": null,
            "grid_template_areas": null,
            "grid_template_columns": null,
            "grid_template_rows": null,
            "height": null,
            "justify_content": null,
            "justify_items": null,
            "left": null,
            "margin": null,
            "max_height": null,
            "max_width": null,
            "min_height": null,
            "min_width": null,
            "object_fit": null,
            "object_position": null,
            "order": null,
            "overflow": null,
            "overflow_x": null,
            "overflow_y": null,
            "padding": null,
            "right": null,
            "top": null,
            "visibility": null,
            "width": null
          }
        },
        "8820736bc86441929f0df513f0b22f24": {
          "model_module": "@jupyter-widgets/controls",
          "model_name": "DescriptionStyleModel",
          "model_module_version": "1.5.0",
          "state": {
            "_model_module": "@jupyter-widgets/controls",
            "_model_module_version": "1.5.0",
            "_model_name": "DescriptionStyleModel",
            "_view_count": null,
            "_view_module": "@jupyter-widgets/base",
            "_view_module_version": "1.2.0",
            "_view_name": "StyleView",
            "description_width": ""
          }
        },
        "8d1ff4bcb56747f8a4b82c76ba33cefe": {
          "model_module": "@jupyter-widgets/controls",
          "model_name": "HBoxModel",
          "model_module_version": "1.5.0",
          "state": {
            "_dom_classes": [],
            "_model_module": "@jupyter-widgets/controls",
            "_model_module_version": "1.5.0",
            "_model_name": "HBoxModel",
            "_view_count": null,
            "_view_module": "@jupyter-widgets/controls",
            "_view_module_version": "1.5.0",
            "_view_name": "HBoxView",
            "box_style": "",
            "children": [
              "IPY_MODEL_86e892a0f49b4c20898c7005eaf8d297",
              "IPY_MODEL_f929152e044d445bba969e96287e729f",
              "IPY_MODEL_ab68dab6a83c4bba9956f72b8d8c212e"
            ],
            "layout": "IPY_MODEL_9fc4603ac61d458ca7036655b10e52ec"
          }
        },
        "86e892a0f49b4c20898c7005eaf8d297": {
          "model_module": "@jupyter-widgets/controls",
          "model_name": "HTMLModel",
          "model_module_version": "1.5.0",
          "state": {
            "_dom_classes": [],
            "_model_module": "@jupyter-widgets/controls",
            "_model_module_version": "1.5.0",
            "_model_name": "HTMLModel",
            "_view_count": null,
            "_view_module": "@jupyter-widgets/controls",
            "_view_module_version": "1.5.0",
            "_view_name": "HTMLView",
            "description": "",
            "description_tooltip": null,
            "layout": "IPY_MODEL_104c35f2eb164c61bbcc317f032376ec",
            "placeholder": "​",
            "style": "IPY_MODEL_f8268a052bdf40878f88684dbd40a127",
            "value": "100%"
          }
        },
        "f929152e044d445bba969e96287e729f": {
          "model_module": "@jupyter-widgets/controls",
          "model_name": "FloatProgressModel",
          "model_module_version": "1.5.0",
          "state": {
            "_dom_classes": [],
            "_model_module": "@jupyter-widgets/controls",
            "_model_module_version": "1.5.0",
            "_model_name": "FloatProgressModel",
            "_view_count": null,
            "_view_module": "@jupyter-widgets/controls",
            "_view_module_version": "1.5.0",
            "_view_name": "ProgressView",
            "bar_style": "success",
            "description": "",
            "description_tooltip": null,
            "layout": "IPY_MODEL_720cc506c65c470dbf1c5dec3461f846",
            "max": 5,
            "min": 0,
            "orientation": "horizontal",
            "style": "IPY_MODEL_66110bb3313b4616ab4e1289e8f2be72",
            "value": 5
          }
        },
        "ab68dab6a83c4bba9956f72b8d8c212e": {
          "model_module": "@jupyter-widgets/controls",
          "model_name": "HTMLModel",
          "model_module_version": "1.5.0",
          "state": {
            "_dom_classes": [],
            "_model_module": "@jupyter-widgets/controls",
            "_model_module_version": "1.5.0",
            "_model_name": "HTMLModel",
            "_view_count": null,
            "_view_module": "@jupyter-widgets/controls",
            "_view_module_version": "1.5.0",
            "_view_name": "HTMLView",
            "description": "",
            "description_tooltip": null,
            "layout": "IPY_MODEL_422ad7aaa66d4f08a3a70fc90d30d949",
            "placeholder": "​",
            "style": "IPY_MODEL_5df73112fede4945b07156bc122db844",
            "value": " 5/5 [00:55&lt;00:00, 11.08s/it]"
          }
        },
        "9fc4603ac61d458ca7036655b10e52ec": {
          "model_module": "@jupyter-widgets/base",
          "model_name": "LayoutModel",
          "model_module_version": "1.2.0",
          "state": {
            "_model_module": "@jupyter-widgets/base",
            "_model_module_version": "1.2.0",
            "_model_name": "LayoutModel",
            "_view_count": null,
            "_view_module": "@jupyter-widgets/base",
            "_view_module_version": "1.2.0",
            "_view_name": "LayoutView",
            "align_content": null,
            "align_items": null,
            "align_self": null,
            "border": null,
            "bottom": null,
            "display": null,
            "flex": null,
            "flex_flow": null,
            "grid_area": null,
            "grid_auto_columns": null,
            "grid_auto_flow": null,
            "grid_auto_rows": null,
            "grid_column": null,
            "grid_gap": null,
            "grid_row": null,
            "grid_template_areas": null,
            "grid_template_columns": null,
            "grid_template_rows": null,
            "height": null,
            "justify_content": null,
            "justify_items": null,
            "left": null,
            "margin": null,
            "max_height": null,
            "max_width": null,
            "min_height": null,
            "min_width": null,
            "object_fit": null,
            "object_position": null,
            "order": null,
            "overflow": null,
            "overflow_x": null,
            "overflow_y": null,
            "padding": null,
            "right": null,
            "top": null,
            "visibility": null,
            "width": null
          }
        },
        "104c35f2eb164c61bbcc317f032376ec": {
          "model_module": "@jupyter-widgets/base",
          "model_name": "LayoutModel",
          "model_module_version": "1.2.0",
          "state": {
            "_model_module": "@jupyter-widgets/base",
            "_model_module_version": "1.2.0",
            "_model_name": "LayoutModel",
            "_view_count": null,
            "_view_module": "@jupyter-widgets/base",
            "_view_module_version": "1.2.0",
            "_view_name": "LayoutView",
            "align_content": null,
            "align_items": null,
            "align_self": null,
            "border": null,
            "bottom": null,
            "display": null,
            "flex": null,
            "flex_flow": null,
            "grid_area": null,
            "grid_auto_columns": null,
            "grid_auto_flow": null,
            "grid_auto_rows": null,
            "grid_column": null,
            "grid_gap": null,
            "grid_row": null,
            "grid_template_areas": null,
            "grid_template_columns": null,
            "grid_template_rows": null,
            "height": null,
            "justify_content": null,
            "justify_items": null,
            "left": null,
            "margin": null,
            "max_height": null,
            "max_width": null,
            "min_height": null,
            "min_width": null,
            "object_fit": null,
            "object_position": null,
            "order": null,
            "overflow": null,
            "overflow_x": null,
            "overflow_y": null,
            "padding": null,
            "right": null,
            "top": null,
            "visibility": null,
            "width": null
          }
        },
        "f8268a052bdf40878f88684dbd40a127": {
          "model_module": "@jupyter-widgets/controls",
          "model_name": "DescriptionStyleModel",
          "model_module_version": "1.5.0",
          "state": {
            "_model_module": "@jupyter-widgets/controls",
            "_model_module_version": "1.5.0",
            "_model_name": "DescriptionStyleModel",
            "_view_count": null,
            "_view_module": "@jupyter-widgets/base",
            "_view_module_version": "1.2.0",
            "_view_name": "StyleView",
            "description_width": ""
          }
        },
        "720cc506c65c470dbf1c5dec3461f846": {
          "model_module": "@jupyter-widgets/base",
          "model_name": "LayoutModel",
          "model_module_version": "1.2.0",
          "state": {
            "_model_module": "@jupyter-widgets/base",
            "_model_module_version": "1.2.0",
            "_model_name": "LayoutModel",
            "_view_count": null,
            "_view_module": "@jupyter-widgets/base",
            "_view_module_version": "1.2.0",
            "_view_name": "LayoutView",
            "align_content": null,
            "align_items": null,
            "align_self": null,
            "border": null,
            "bottom": null,
            "display": null,
            "flex": null,
            "flex_flow": null,
            "grid_area": null,
            "grid_auto_columns": null,
            "grid_auto_flow": null,
            "grid_auto_rows": null,
            "grid_column": null,
            "grid_gap": null,
            "grid_row": null,
            "grid_template_areas": null,
            "grid_template_columns": null,
            "grid_template_rows": null,
            "height": null,
            "justify_content": null,
            "justify_items": null,
            "left": null,
            "margin": null,
            "max_height": null,
            "max_width": null,
            "min_height": null,
            "min_width": null,
            "object_fit": null,
            "object_position": null,
            "order": null,
            "overflow": null,
            "overflow_x": null,
            "overflow_y": null,
            "padding": null,
            "right": null,
            "top": null,
            "visibility": null,
            "width": null
          }
        },
        "66110bb3313b4616ab4e1289e8f2be72": {
          "model_module": "@jupyter-widgets/controls",
          "model_name": "ProgressStyleModel",
          "model_module_version": "1.5.0",
          "state": {
            "_model_module": "@jupyter-widgets/controls",
            "_model_module_version": "1.5.0",
            "_model_name": "ProgressStyleModel",
            "_view_count": null,
            "_view_module": "@jupyter-widgets/base",
            "_view_module_version": "1.2.0",
            "_view_name": "StyleView",
            "bar_color": null,
            "description_width": ""
          }
        },
        "422ad7aaa66d4f08a3a70fc90d30d949": {
          "model_module": "@jupyter-widgets/base",
          "model_name": "LayoutModel",
          "model_module_version": "1.2.0",
          "state": {
            "_model_module": "@jupyter-widgets/base",
            "_model_module_version": "1.2.0",
            "_model_name": "LayoutModel",
            "_view_count": null,
            "_view_module": "@jupyter-widgets/base",
            "_view_module_version": "1.2.0",
            "_view_name": "LayoutView",
            "align_content": null,
            "align_items": null,
            "align_self": null,
            "border": null,
            "bottom": null,
            "display": null,
            "flex": null,
            "flex_flow": null,
            "grid_area": null,
            "grid_auto_columns": null,
            "grid_auto_flow": null,
            "grid_auto_rows": null,
            "grid_column": null,
            "grid_gap": null,
            "grid_row": null,
            "grid_template_areas": null,
            "grid_template_columns": null,
            "grid_template_rows": null,
            "height": null,
            "justify_content": null,
            "justify_items": null,
            "left": null,
            "margin": null,
            "max_height": null,
            "max_width": null,
            "min_height": null,
            "min_width": null,
            "object_fit": null,
            "object_position": null,
            "order": null,
            "overflow": null,
            "overflow_x": null,
            "overflow_y": null,
            "padding": null,
            "right": null,
            "top": null,
            "visibility": null,
            "width": null
          }
        },
        "5df73112fede4945b07156bc122db844": {
          "model_module": "@jupyter-widgets/controls",
          "model_name": "DescriptionStyleModel",
          "model_module_version": "1.5.0",
          "state": {
            "_model_module": "@jupyter-widgets/controls",
            "_model_module_version": "1.5.0",
            "_model_name": "DescriptionStyleModel",
            "_view_count": null,
            "_view_module": "@jupyter-widgets/base",
            "_view_module_version": "1.2.0",
            "_view_name": "StyleView",
            "description_width": ""
          }
        },
        "1f0ccc3c8040491fafbd6e6ba840b797": {
          "model_module": "@jupyter-widgets/controls",
          "model_name": "HBoxModel",
          "model_module_version": "1.5.0",
          "state": {
            "_dom_classes": [],
            "_model_module": "@jupyter-widgets/controls",
            "_model_module_version": "1.5.0",
            "_model_name": "HBoxModel",
            "_view_count": null,
            "_view_module": "@jupyter-widgets/controls",
            "_view_module_version": "1.5.0",
            "_view_name": "HBoxView",
            "box_style": "",
            "children": [
              "IPY_MODEL_23785866803b4e5a8697f8f2fecbce75",
              "IPY_MODEL_87c40163eaaf4745a63a2665d726b562",
              "IPY_MODEL_c9ab9c39c46d44ac9095d99624db8d55"
            ],
            "layout": "IPY_MODEL_e4304f8243b64904b6a81a8b5d5fe729"
          }
        },
        "23785866803b4e5a8697f8f2fecbce75": {
          "model_module": "@jupyter-widgets/controls",
          "model_name": "HTMLModel",
          "model_module_version": "1.5.0",
          "state": {
            "_dom_classes": [],
            "_model_module": "@jupyter-widgets/controls",
            "_model_module_version": "1.5.0",
            "_model_name": "HTMLModel",
            "_view_count": null,
            "_view_module": "@jupyter-widgets/controls",
            "_view_module_version": "1.5.0",
            "_view_name": "HTMLView",
            "description": "",
            "description_tooltip": null,
            "layout": "IPY_MODEL_97137da3e0ff468b9ea23b496b79d84d",
            "placeholder": "​",
            "style": "IPY_MODEL_54043c251170443bad0ec7ebb214f4eb",
            "value": "100%"
          }
        },
        "87c40163eaaf4745a63a2665d726b562": {
          "model_module": "@jupyter-widgets/controls",
          "model_name": "FloatProgressModel",
          "model_module_version": "1.5.0",
          "state": {
            "_dom_classes": [],
            "_model_module": "@jupyter-widgets/controls",
            "_model_module_version": "1.5.0",
            "_model_name": "FloatProgressModel",
            "_view_count": null,
            "_view_module": "@jupyter-widgets/controls",
            "_view_module_version": "1.5.0",
            "_view_name": "ProgressView",
            "bar_style": "success",
            "description": "",
            "description_tooltip": null,
            "layout": "IPY_MODEL_1f0cd972449f4f22bb1e0de748a6d680",
            "max": 313,
            "min": 0,
            "orientation": "horizontal",
            "style": "IPY_MODEL_c145f92932f842ea8c675dcaf9677453",
            "value": 313
          }
        },
        "c9ab9c39c46d44ac9095d99624db8d55": {
          "model_module": "@jupyter-widgets/controls",
          "model_name": "HTMLModel",
          "model_module_version": "1.5.0",
          "state": {
            "_dom_classes": [],
            "_model_module": "@jupyter-widgets/controls",
            "_model_module_version": "1.5.0",
            "_model_name": "HTMLModel",
            "_view_count": null,
            "_view_module": "@jupyter-widgets/controls",
            "_view_module_version": "1.5.0",
            "_view_name": "HTMLView",
            "description": "",
            "description_tooltip": null,
            "layout": "IPY_MODEL_92e5d64d97864cedbc6f265a6f06e8fa",
            "placeholder": "​",
            "style": "IPY_MODEL_2f105984ca284c4090ba05ab6d11eeb4",
            "value": " 313/313 [00:01&lt;00:00, 267.29it/s]"
          }
        },
        "e4304f8243b64904b6a81a8b5d5fe729": {
          "model_module": "@jupyter-widgets/base",
          "model_name": "LayoutModel",
          "model_module_version": "1.2.0",
          "state": {
            "_model_module": "@jupyter-widgets/base",
            "_model_module_version": "1.2.0",
            "_model_name": "LayoutModel",
            "_view_count": null,
            "_view_module": "@jupyter-widgets/base",
            "_view_module_version": "1.2.0",
            "_view_name": "LayoutView",
            "align_content": null,
            "align_items": null,
            "align_self": null,
            "border": null,
            "bottom": null,
            "display": null,
            "flex": null,
            "flex_flow": null,
            "grid_area": null,
            "grid_auto_columns": null,
            "grid_auto_flow": null,
            "grid_auto_rows": null,
            "grid_column": null,
            "grid_gap": null,
            "grid_row": null,
            "grid_template_areas": null,
            "grid_template_columns": null,
            "grid_template_rows": null,
            "height": null,
            "justify_content": null,
            "justify_items": null,
            "left": null,
            "margin": null,
            "max_height": null,
            "max_width": null,
            "min_height": null,
            "min_width": null,
            "object_fit": null,
            "object_position": null,
            "order": null,
            "overflow": null,
            "overflow_x": null,
            "overflow_y": null,
            "padding": null,
            "right": null,
            "top": null,
            "visibility": null,
            "width": null
          }
        },
        "97137da3e0ff468b9ea23b496b79d84d": {
          "model_module": "@jupyter-widgets/base",
          "model_name": "LayoutModel",
          "model_module_version": "1.2.0",
          "state": {
            "_model_module": "@jupyter-widgets/base",
            "_model_module_version": "1.2.0",
            "_model_name": "LayoutModel",
            "_view_count": null,
            "_view_module": "@jupyter-widgets/base",
            "_view_module_version": "1.2.0",
            "_view_name": "LayoutView",
            "align_content": null,
            "align_items": null,
            "align_self": null,
            "border": null,
            "bottom": null,
            "display": null,
            "flex": null,
            "flex_flow": null,
            "grid_area": null,
            "grid_auto_columns": null,
            "grid_auto_flow": null,
            "grid_auto_rows": null,
            "grid_column": null,
            "grid_gap": null,
            "grid_row": null,
            "grid_template_areas": null,
            "grid_template_columns": null,
            "grid_template_rows": null,
            "height": null,
            "justify_content": null,
            "justify_items": null,
            "left": null,
            "margin": null,
            "max_height": null,
            "max_width": null,
            "min_height": null,
            "min_width": null,
            "object_fit": null,
            "object_position": null,
            "order": null,
            "overflow": null,
            "overflow_x": null,
            "overflow_y": null,
            "padding": null,
            "right": null,
            "top": null,
            "visibility": null,
            "width": null
          }
        },
        "54043c251170443bad0ec7ebb214f4eb": {
          "model_module": "@jupyter-widgets/controls",
          "model_name": "DescriptionStyleModel",
          "model_module_version": "1.5.0",
          "state": {
            "_model_module": "@jupyter-widgets/controls",
            "_model_module_version": "1.5.0",
            "_model_name": "DescriptionStyleModel",
            "_view_count": null,
            "_view_module": "@jupyter-widgets/base",
            "_view_module_version": "1.2.0",
            "_view_name": "StyleView",
            "description_width": ""
          }
        },
        "1f0cd972449f4f22bb1e0de748a6d680": {
          "model_module": "@jupyter-widgets/base",
          "model_name": "LayoutModel",
          "model_module_version": "1.2.0",
          "state": {
            "_model_module": "@jupyter-widgets/base",
            "_model_module_version": "1.2.0",
            "_model_name": "LayoutModel",
            "_view_count": null,
            "_view_module": "@jupyter-widgets/base",
            "_view_module_version": "1.2.0",
            "_view_name": "LayoutView",
            "align_content": null,
            "align_items": null,
            "align_self": null,
            "border": null,
            "bottom": null,
            "display": null,
            "flex": null,
            "flex_flow": null,
            "grid_area": null,
            "grid_auto_columns": null,
            "grid_auto_flow": null,
            "grid_auto_rows": null,
            "grid_column": null,
            "grid_gap": null,
            "grid_row": null,
            "grid_template_areas": null,
            "grid_template_columns": null,
            "grid_template_rows": null,
            "height": null,
            "justify_content": null,
            "justify_items": null,
            "left": null,
            "margin": null,
            "max_height": null,
            "max_width": null,
            "min_height": null,
            "min_width": null,
            "object_fit": null,
            "object_position": null,
            "order": null,
            "overflow": null,
            "overflow_x": null,
            "overflow_y": null,
            "padding": null,
            "right": null,
            "top": null,
            "visibility": null,
            "width": null
          }
        },
        "c145f92932f842ea8c675dcaf9677453": {
          "model_module": "@jupyter-widgets/controls",
          "model_name": "ProgressStyleModel",
          "model_module_version": "1.5.0",
          "state": {
            "_model_module": "@jupyter-widgets/controls",
            "_model_module_version": "1.5.0",
            "_model_name": "ProgressStyleModel",
            "_view_count": null,
            "_view_module": "@jupyter-widgets/base",
            "_view_module_version": "1.2.0",
            "_view_name": "StyleView",
            "bar_color": null,
            "description_width": ""
          }
        },
        "92e5d64d97864cedbc6f265a6f06e8fa": {
          "model_module": "@jupyter-widgets/base",
          "model_name": "LayoutModel",
          "model_module_version": "1.2.0",
          "state": {
            "_model_module": "@jupyter-widgets/base",
            "_model_module_version": "1.2.0",
            "_model_name": "LayoutModel",
            "_view_count": null,
            "_view_module": "@jupyter-widgets/base",
            "_view_module_version": "1.2.0",
            "_view_name": "LayoutView",
            "align_content": null,
            "align_items": null,
            "align_self": null,
            "border": null,
            "bottom": null,
            "display": null,
            "flex": null,
            "flex_flow": null,
            "grid_area": null,
            "grid_auto_columns": null,
            "grid_auto_flow": null,
            "grid_auto_rows": null,
            "grid_column": null,
            "grid_gap": null,
            "grid_row": null,
            "grid_template_areas": null,
            "grid_template_columns": null,
            "grid_template_rows": null,
            "height": null,
            "justify_content": null,
            "justify_items": null,
            "left": null,
            "margin": null,
            "max_height": null,
            "max_width": null,
            "min_height": null,
            "min_width": null,
            "object_fit": null,
            "object_position": null,
            "order": null,
            "overflow": null,
            "overflow_x": null,
            "overflow_y": null,
            "padding": null,
            "right": null,
            "top": null,
            "visibility": null,
            "width": null
          }
        },
        "2f105984ca284c4090ba05ab6d11eeb4": {
          "model_module": "@jupyter-widgets/controls",
          "model_name": "DescriptionStyleModel",
          "model_module_version": "1.5.0",
          "state": {
            "_model_module": "@jupyter-widgets/controls",
            "_model_module_version": "1.5.0",
            "_model_name": "DescriptionStyleModel",
            "_view_count": null,
            "_view_module": "@jupyter-widgets/base",
            "_view_module_version": "1.2.0",
            "_view_name": "StyleView",
            "description_width": ""
          }
        },
        "0f3f98c4f6b6458c84c877fe063fb199": {
          "model_module": "@jupyter-widgets/controls",
          "model_name": "HBoxModel",
          "model_module_version": "1.5.0",
          "state": {
            "_dom_classes": [],
            "_model_module": "@jupyter-widgets/controls",
            "_model_module_version": "1.5.0",
            "_model_name": "HBoxModel",
            "_view_count": null,
            "_view_module": "@jupyter-widgets/controls",
            "_view_module_version": "1.5.0",
            "_view_name": "HBoxView",
            "box_style": "",
            "children": [
              "IPY_MODEL_68e714e7993e42dc89ed52afa462515b",
              "IPY_MODEL_af0045519b26411aac36f22b982a2f34",
              "IPY_MODEL_a0ca748570e5468a93582daccabe3e72"
            ],
            "layout": "IPY_MODEL_9be5e8b0118848b49deba2b38a08c8c4"
          }
        },
        "68e714e7993e42dc89ed52afa462515b": {
          "model_module": "@jupyter-widgets/controls",
          "model_name": "HTMLModel",
          "model_module_version": "1.5.0",
          "state": {
            "_dom_classes": [],
            "_model_module": "@jupyter-widgets/controls",
            "_model_module_version": "1.5.0",
            "_model_name": "HTMLModel",
            "_view_count": null,
            "_view_module": "@jupyter-widgets/controls",
            "_view_module_version": "1.5.0",
            "_view_name": "HTMLView",
            "description": "",
            "description_tooltip": null,
            "layout": "IPY_MODEL_6d6b9ad9799e4c98ad61bb1970153d1d",
            "placeholder": "​",
            "style": "IPY_MODEL_5e8759fab74f4029a54ec0795575e0d3",
            "value": "100%"
          }
        },
        "af0045519b26411aac36f22b982a2f34": {
          "model_module": "@jupyter-widgets/controls",
          "model_name": "FloatProgressModel",
          "model_module_version": "1.5.0",
          "state": {
            "_dom_classes": [],
            "_model_module": "@jupyter-widgets/controls",
            "_model_module_version": "1.5.0",
            "_model_name": "FloatProgressModel",
            "_view_count": null,
            "_view_module": "@jupyter-widgets/controls",
            "_view_module_version": "1.5.0",
            "_view_name": "ProgressView",
            "bar_style": "success",
            "description": "",
            "description_tooltip": null,
            "layout": "IPY_MODEL_b6bd094f655e4088b273426d4c3f9c74",
            "max": 50,
            "min": 0,
            "orientation": "horizontal",
            "style": "IPY_MODEL_1cff1b0dc57848fe9c1c4dd5e98c5e55",
            "value": 50
          }
        },
        "a0ca748570e5468a93582daccabe3e72": {
          "model_module": "@jupyter-widgets/controls",
          "model_name": "HTMLModel",
          "model_module_version": "1.5.0",
          "state": {
            "_dom_classes": [],
            "_model_module": "@jupyter-widgets/controls",
            "_model_module_version": "1.5.0",
            "_model_name": "HTMLModel",
            "_view_count": null,
            "_view_module": "@jupyter-widgets/controls",
            "_view_module_version": "1.5.0",
            "_view_name": "HTMLView",
            "description": "",
            "description_tooltip": null,
            "layout": "IPY_MODEL_99950f6186504bedacc66e5c67cbb890",
            "placeholder": "​",
            "style": "IPY_MODEL_aebfecde558a4dfb98e00b0ea5897eb8",
            "value": " 50/50 [10:46&lt;00:00, 13.06s/it]"
          }
        },
        "9be5e8b0118848b49deba2b38a08c8c4": {
          "model_module": "@jupyter-widgets/base",
          "model_name": "LayoutModel",
          "model_module_version": "1.2.0",
          "state": {
            "_model_module": "@jupyter-widgets/base",
            "_model_module_version": "1.2.0",
            "_model_name": "LayoutModel",
            "_view_count": null,
            "_view_module": "@jupyter-widgets/base",
            "_view_module_version": "1.2.0",
            "_view_name": "LayoutView",
            "align_content": null,
            "align_items": null,
            "align_self": null,
            "border": null,
            "bottom": null,
            "display": null,
            "flex": null,
            "flex_flow": null,
            "grid_area": null,
            "grid_auto_columns": null,
            "grid_auto_flow": null,
            "grid_auto_rows": null,
            "grid_column": null,
            "grid_gap": null,
            "grid_row": null,
            "grid_template_areas": null,
            "grid_template_columns": null,
            "grid_template_rows": null,
            "height": null,
            "justify_content": null,
            "justify_items": null,
            "left": null,
            "margin": null,
            "max_height": null,
            "max_width": null,
            "min_height": null,
            "min_width": null,
            "object_fit": null,
            "object_position": null,
            "order": null,
            "overflow": null,
            "overflow_x": null,
            "overflow_y": null,
            "padding": null,
            "right": null,
            "top": null,
            "visibility": null,
            "width": null
          }
        },
        "6d6b9ad9799e4c98ad61bb1970153d1d": {
          "model_module": "@jupyter-widgets/base",
          "model_name": "LayoutModel",
          "model_module_version": "1.2.0",
          "state": {
            "_model_module": "@jupyter-widgets/base",
            "_model_module_version": "1.2.0",
            "_model_name": "LayoutModel",
            "_view_count": null,
            "_view_module": "@jupyter-widgets/base",
            "_view_module_version": "1.2.0",
            "_view_name": "LayoutView",
            "align_content": null,
            "align_items": null,
            "align_self": null,
            "border": null,
            "bottom": null,
            "display": null,
            "flex": null,
            "flex_flow": null,
            "grid_area": null,
            "grid_auto_columns": null,
            "grid_auto_flow": null,
            "grid_auto_rows": null,
            "grid_column": null,
            "grid_gap": null,
            "grid_row": null,
            "grid_template_areas": null,
            "grid_template_columns": null,
            "grid_template_rows": null,
            "height": null,
            "justify_content": null,
            "justify_items": null,
            "left": null,
            "margin": null,
            "max_height": null,
            "max_width": null,
            "min_height": null,
            "min_width": null,
            "object_fit": null,
            "object_position": null,
            "order": null,
            "overflow": null,
            "overflow_x": null,
            "overflow_y": null,
            "padding": null,
            "right": null,
            "top": null,
            "visibility": null,
            "width": null
          }
        },
        "5e8759fab74f4029a54ec0795575e0d3": {
          "model_module": "@jupyter-widgets/controls",
          "model_name": "DescriptionStyleModel",
          "model_module_version": "1.5.0",
          "state": {
            "_model_module": "@jupyter-widgets/controls",
            "_model_module_version": "1.5.0",
            "_model_name": "DescriptionStyleModel",
            "_view_count": null,
            "_view_module": "@jupyter-widgets/base",
            "_view_module_version": "1.2.0",
            "_view_name": "StyleView",
            "description_width": ""
          }
        },
        "b6bd094f655e4088b273426d4c3f9c74": {
          "model_module": "@jupyter-widgets/base",
          "model_name": "LayoutModel",
          "model_module_version": "1.2.0",
          "state": {
            "_model_module": "@jupyter-widgets/base",
            "_model_module_version": "1.2.0",
            "_model_name": "LayoutModel",
            "_view_count": null,
            "_view_module": "@jupyter-widgets/base",
            "_view_module_version": "1.2.0",
            "_view_name": "LayoutView",
            "align_content": null,
            "align_items": null,
            "align_self": null,
            "border": null,
            "bottom": null,
            "display": null,
            "flex": null,
            "flex_flow": null,
            "grid_area": null,
            "grid_auto_columns": null,
            "grid_auto_flow": null,
            "grid_auto_rows": null,
            "grid_column": null,
            "grid_gap": null,
            "grid_row": null,
            "grid_template_areas": null,
            "grid_template_columns": null,
            "grid_template_rows": null,
            "height": null,
            "justify_content": null,
            "justify_items": null,
            "left": null,
            "margin": null,
            "max_height": null,
            "max_width": null,
            "min_height": null,
            "min_width": null,
            "object_fit": null,
            "object_position": null,
            "order": null,
            "overflow": null,
            "overflow_x": null,
            "overflow_y": null,
            "padding": null,
            "right": null,
            "top": null,
            "visibility": null,
            "width": null
          }
        },
        "1cff1b0dc57848fe9c1c4dd5e98c5e55": {
          "model_module": "@jupyter-widgets/controls",
          "model_name": "ProgressStyleModel",
          "model_module_version": "1.5.0",
          "state": {
            "_model_module": "@jupyter-widgets/controls",
            "_model_module_version": "1.5.0",
            "_model_name": "ProgressStyleModel",
            "_view_count": null,
            "_view_module": "@jupyter-widgets/base",
            "_view_module_version": "1.2.0",
            "_view_name": "StyleView",
            "bar_color": null,
            "description_width": ""
          }
        },
        "99950f6186504bedacc66e5c67cbb890": {
          "model_module": "@jupyter-widgets/base",
          "model_name": "LayoutModel",
          "model_module_version": "1.2.0",
          "state": {
            "_model_module": "@jupyter-widgets/base",
            "_model_module_version": "1.2.0",
            "_model_name": "LayoutModel",
            "_view_count": null,
            "_view_module": "@jupyter-widgets/base",
            "_view_module_version": "1.2.0",
            "_view_name": "LayoutView",
            "align_content": null,
            "align_items": null,
            "align_self": null,
            "border": null,
            "bottom": null,
            "display": null,
            "flex": null,
            "flex_flow": null,
            "grid_area": null,
            "grid_auto_columns": null,
            "grid_auto_flow": null,
            "grid_auto_rows": null,
            "grid_column": null,
            "grid_gap": null,
            "grid_row": null,
            "grid_template_areas": null,
            "grid_template_columns": null,
            "grid_template_rows": null,
            "height": null,
            "justify_content": null,
            "justify_items": null,
            "left": null,
            "margin": null,
            "max_height": null,
            "max_width": null,
            "min_height": null,
            "min_width": null,
            "object_fit": null,
            "object_position": null,
            "order": null,
            "overflow": null,
            "overflow_x": null,
            "overflow_y": null,
            "padding": null,
            "right": null,
            "top": null,
            "visibility": null,
            "width": null
          }
        },
        "aebfecde558a4dfb98e00b0ea5897eb8": {
          "model_module": "@jupyter-widgets/controls",
          "model_name": "DescriptionStyleModel",
          "model_module_version": "1.5.0",
          "state": {
            "_model_module": "@jupyter-widgets/controls",
            "_model_module_version": "1.5.0",
            "_model_name": "DescriptionStyleModel",
            "_view_count": null,
            "_view_module": "@jupyter-widgets/base",
            "_view_module_version": "1.2.0",
            "_view_name": "StyleView",
            "description_width": ""
          }
        },
        "f0a555591ac4487ba90765140e6c008b": {
          "model_module": "@jupyter-widgets/controls",
          "model_name": "HBoxModel",
          "model_module_version": "1.5.0",
          "state": {
            "_dom_classes": [],
            "_model_module": "@jupyter-widgets/controls",
            "_model_module_version": "1.5.0",
            "_model_name": "HBoxModel",
            "_view_count": null,
            "_view_module": "@jupyter-widgets/controls",
            "_view_module_version": "1.5.0",
            "_view_name": "HBoxView",
            "box_style": "",
            "children": [
              "IPY_MODEL_aae939e404e64db1b4d21f76890b2c1d",
              "IPY_MODEL_46e51cbc71f54cb685aaef6ffec644f4",
              "IPY_MODEL_0e721be5eadd479599ad98de1def066e"
            ],
            "layout": "IPY_MODEL_ecca68e520124e39b0ae132234413961"
          }
        },
        "aae939e404e64db1b4d21f76890b2c1d": {
          "model_module": "@jupyter-widgets/controls",
          "model_name": "HTMLModel",
          "model_module_version": "1.5.0",
          "state": {
            "_dom_classes": [],
            "_model_module": "@jupyter-widgets/controls",
            "_model_module_version": "1.5.0",
            "_model_name": "HTMLModel",
            "_view_count": null,
            "_view_module": "@jupyter-widgets/controls",
            "_view_module_version": "1.5.0",
            "_view_name": "HTMLView",
            "description": "",
            "description_tooltip": null,
            "layout": "IPY_MODEL_6d72bad7e2f74fd1b734eafaea8fff78",
            "placeholder": "​",
            "style": "IPY_MODEL_d8d1cb1ede8f4f3d9e13bf543b465eb8",
            "value": "100%"
          }
        },
        "46e51cbc71f54cb685aaef6ffec644f4": {
          "model_module": "@jupyter-widgets/controls",
          "model_name": "FloatProgressModel",
          "model_module_version": "1.5.0",
          "state": {
            "_dom_classes": [],
            "_model_module": "@jupyter-widgets/controls",
            "_model_module_version": "1.5.0",
            "_model_name": "FloatProgressModel",
            "_view_count": null,
            "_view_module": "@jupyter-widgets/controls",
            "_view_module_version": "1.5.0",
            "_view_name": "ProgressView",
            "bar_style": "success",
            "description": "",
            "description_tooltip": null,
            "layout": "IPY_MODEL_d0a79b28dd92459c9cf37e4fe63fba94",
            "max": 313,
            "min": 0,
            "orientation": "horizontal",
            "style": "IPY_MODEL_9e75d5d659284752bd5abfbd0412e741",
            "value": 313
          }
        },
        "0e721be5eadd479599ad98de1def066e": {
          "model_module": "@jupyter-widgets/controls",
          "model_name": "HTMLModel",
          "model_module_version": "1.5.0",
          "state": {
            "_dom_classes": [],
            "_model_module": "@jupyter-widgets/controls",
            "_model_module_version": "1.5.0",
            "_model_name": "HTMLModel",
            "_view_count": null,
            "_view_module": "@jupyter-widgets/controls",
            "_view_module_version": "1.5.0",
            "_view_name": "HTMLView",
            "description": "",
            "description_tooltip": null,
            "layout": "IPY_MODEL_6b84fe77ebfa42108735abe361571671",
            "placeholder": "​",
            "style": "IPY_MODEL_63818c5df5914c4085e13d98ebe4a9df",
            "value": " 313/313 [00:01&lt;00:00, 233.56it/s]"
          }
        },
        "ecca68e520124e39b0ae132234413961": {
          "model_module": "@jupyter-widgets/base",
          "model_name": "LayoutModel",
          "model_module_version": "1.2.0",
          "state": {
            "_model_module": "@jupyter-widgets/base",
            "_model_module_version": "1.2.0",
            "_model_name": "LayoutModel",
            "_view_count": null,
            "_view_module": "@jupyter-widgets/base",
            "_view_module_version": "1.2.0",
            "_view_name": "LayoutView",
            "align_content": null,
            "align_items": null,
            "align_self": null,
            "border": null,
            "bottom": null,
            "display": null,
            "flex": null,
            "flex_flow": null,
            "grid_area": null,
            "grid_auto_columns": null,
            "grid_auto_flow": null,
            "grid_auto_rows": null,
            "grid_column": null,
            "grid_gap": null,
            "grid_row": null,
            "grid_template_areas": null,
            "grid_template_columns": null,
            "grid_template_rows": null,
            "height": null,
            "justify_content": null,
            "justify_items": null,
            "left": null,
            "margin": null,
            "max_height": null,
            "max_width": null,
            "min_height": null,
            "min_width": null,
            "object_fit": null,
            "object_position": null,
            "order": null,
            "overflow": null,
            "overflow_x": null,
            "overflow_y": null,
            "padding": null,
            "right": null,
            "top": null,
            "visibility": null,
            "width": null
          }
        },
        "6d72bad7e2f74fd1b734eafaea8fff78": {
          "model_module": "@jupyter-widgets/base",
          "model_name": "LayoutModel",
          "model_module_version": "1.2.0",
          "state": {
            "_model_module": "@jupyter-widgets/base",
            "_model_module_version": "1.2.0",
            "_model_name": "LayoutModel",
            "_view_count": null,
            "_view_module": "@jupyter-widgets/base",
            "_view_module_version": "1.2.0",
            "_view_name": "LayoutView",
            "align_content": null,
            "align_items": null,
            "align_self": null,
            "border": null,
            "bottom": null,
            "display": null,
            "flex": null,
            "flex_flow": null,
            "grid_area": null,
            "grid_auto_columns": null,
            "grid_auto_flow": null,
            "grid_auto_rows": null,
            "grid_column": null,
            "grid_gap": null,
            "grid_row": null,
            "grid_template_areas": null,
            "grid_template_columns": null,
            "grid_template_rows": null,
            "height": null,
            "justify_content": null,
            "justify_items": null,
            "left": null,
            "margin": null,
            "max_height": null,
            "max_width": null,
            "min_height": null,
            "min_width": null,
            "object_fit": null,
            "object_position": null,
            "order": null,
            "overflow": null,
            "overflow_x": null,
            "overflow_y": null,
            "padding": null,
            "right": null,
            "top": null,
            "visibility": null,
            "width": null
          }
        },
        "d8d1cb1ede8f4f3d9e13bf543b465eb8": {
          "model_module": "@jupyter-widgets/controls",
          "model_name": "DescriptionStyleModel",
          "model_module_version": "1.5.0",
          "state": {
            "_model_module": "@jupyter-widgets/controls",
            "_model_module_version": "1.5.0",
            "_model_name": "DescriptionStyleModel",
            "_view_count": null,
            "_view_module": "@jupyter-widgets/base",
            "_view_module_version": "1.2.0",
            "_view_name": "StyleView",
            "description_width": ""
          }
        },
        "d0a79b28dd92459c9cf37e4fe63fba94": {
          "model_module": "@jupyter-widgets/base",
          "model_name": "LayoutModel",
          "model_module_version": "1.2.0",
          "state": {
            "_model_module": "@jupyter-widgets/base",
            "_model_module_version": "1.2.0",
            "_model_name": "LayoutModel",
            "_view_count": null,
            "_view_module": "@jupyter-widgets/base",
            "_view_module_version": "1.2.0",
            "_view_name": "LayoutView",
            "align_content": null,
            "align_items": null,
            "align_self": null,
            "border": null,
            "bottom": null,
            "display": null,
            "flex": null,
            "flex_flow": null,
            "grid_area": null,
            "grid_auto_columns": null,
            "grid_auto_flow": null,
            "grid_auto_rows": null,
            "grid_column": null,
            "grid_gap": null,
            "grid_row": null,
            "grid_template_areas": null,
            "grid_template_columns": null,
            "grid_template_rows": null,
            "height": null,
            "justify_content": null,
            "justify_items": null,
            "left": null,
            "margin": null,
            "max_height": null,
            "max_width": null,
            "min_height": null,
            "min_width": null,
            "object_fit": null,
            "object_position": null,
            "order": null,
            "overflow": null,
            "overflow_x": null,
            "overflow_y": null,
            "padding": null,
            "right": null,
            "top": null,
            "visibility": null,
            "width": null
          }
        },
        "9e75d5d659284752bd5abfbd0412e741": {
          "model_module": "@jupyter-widgets/controls",
          "model_name": "ProgressStyleModel",
          "model_module_version": "1.5.0",
          "state": {
            "_model_module": "@jupyter-widgets/controls",
            "_model_module_version": "1.5.0",
            "_model_name": "ProgressStyleModel",
            "_view_count": null,
            "_view_module": "@jupyter-widgets/base",
            "_view_module_version": "1.2.0",
            "_view_name": "StyleView",
            "bar_color": null,
            "description_width": ""
          }
        },
        "6b84fe77ebfa42108735abe361571671": {
          "model_module": "@jupyter-widgets/base",
          "model_name": "LayoutModel",
          "model_module_version": "1.2.0",
          "state": {
            "_model_module": "@jupyter-widgets/base",
            "_model_module_version": "1.2.0",
            "_model_name": "LayoutModel",
            "_view_count": null,
            "_view_module": "@jupyter-widgets/base",
            "_view_module_version": "1.2.0",
            "_view_name": "LayoutView",
            "align_content": null,
            "align_items": null,
            "align_self": null,
            "border": null,
            "bottom": null,
            "display": null,
            "flex": null,
            "flex_flow": null,
            "grid_area": null,
            "grid_auto_columns": null,
            "grid_auto_flow": null,
            "grid_auto_rows": null,
            "grid_column": null,
            "grid_gap": null,
            "grid_row": null,
            "grid_template_areas": null,
            "grid_template_columns": null,
            "grid_template_rows": null,
            "height": null,
            "justify_content": null,
            "justify_items": null,
            "left": null,
            "margin": null,
            "max_height": null,
            "max_width": null,
            "min_height": null,
            "min_width": null,
            "object_fit": null,
            "object_position": null,
            "order": null,
            "overflow": null,
            "overflow_x": null,
            "overflow_y": null,
            "padding": null,
            "right": null,
            "top": null,
            "visibility": null,
            "width": null
          }
        },
        "63818c5df5914c4085e13d98ebe4a9df": {
          "model_module": "@jupyter-widgets/controls",
          "model_name": "DescriptionStyleModel",
          "model_module_version": "1.5.0",
          "state": {
            "_model_module": "@jupyter-widgets/controls",
            "_model_module_version": "1.5.0",
            "_model_name": "DescriptionStyleModel",
            "_view_count": null,
            "_view_module": "@jupyter-widgets/base",
            "_view_module_version": "1.2.0",
            "_view_name": "StyleView",
            "description_width": ""
          }
        },
        "ac5ac2a9413843499e7f45ee0a86eb6e": {
          "model_module": "@jupyter-widgets/controls",
          "model_name": "HBoxModel",
          "model_module_version": "1.5.0",
          "state": {
            "_dom_classes": [],
            "_model_module": "@jupyter-widgets/controls",
            "_model_module_version": "1.5.0",
            "_model_name": "HBoxModel",
            "_view_count": null,
            "_view_module": "@jupyter-widgets/controls",
            "_view_module_version": "1.5.0",
            "_view_name": "HBoxView",
            "box_style": "",
            "children": [
              "IPY_MODEL_c00eab479721462684d01734df832243",
              "IPY_MODEL_782e14d7611e4f31a10028d9af49761e",
              "IPY_MODEL_aa48d7e5f32e46f79360f0e7321573b2"
            ],
            "layout": "IPY_MODEL_c0f87e381a02474c880910afc78b5cfc"
          }
        },
        "c00eab479721462684d01734df832243": {
          "model_module": "@jupyter-widgets/controls",
          "model_name": "HTMLModel",
          "model_module_version": "1.5.0",
          "state": {
            "_dom_classes": [],
            "_model_module": "@jupyter-widgets/controls",
            "_model_module_version": "1.5.0",
            "_model_name": "HTMLModel",
            "_view_count": null,
            "_view_module": "@jupyter-widgets/controls",
            "_view_module_version": "1.5.0",
            "_view_name": "HTMLView",
            "description": "",
            "description_tooltip": null,
            "layout": "IPY_MODEL_11dd6662ebb64e17a3c07631e6e0851c",
            "placeholder": "​",
            "style": "IPY_MODEL_60d48616938a47feaade3625c0349587",
            "value": "Predictions..: 100%"
          }
        },
        "782e14d7611e4f31a10028d9af49761e": {
          "model_module": "@jupyter-widgets/controls",
          "model_name": "FloatProgressModel",
          "model_module_version": "1.5.0",
          "state": {
            "_dom_classes": [],
            "_model_module": "@jupyter-widgets/controls",
            "_model_module_version": "1.5.0",
            "_model_name": "FloatProgressModel",
            "_view_count": null,
            "_view_module": "@jupyter-widgets/controls",
            "_view_module_version": "1.5.0",
            "_view_name": "ProgressView",
            "bar_style": "success",
            "description": "",
            "description_tooltip": null,
            "layout": "IPY_MODEL_4ab9f377cfec44ef949f2b91c141acd1",
            "max": 313,
            "min": 0,
            "orientation": "horizontal",
            "style": "IPY_MODEL_6a40f50454df4a1eb84f3e09b40867cf",
            "value": 313
          }
        },
        "aa48d7e5f32e46f79360f0e7321573b2": {
          "model_module": "@jupyter-widgets/controls",
          "model_name": "HTMLModel",
          "model_module_version": "1.5.0",
          "state": {
            "_dom_classes": [],
            "_model_module": "@jupyter-widgets/controls",
            "_model_module_version": "1.5.0",
            "_model_name": "HTMLModel",
            "_view_count": null,
            "_view_module": "@jupyter-widgets/controls",
            "_view_module_version": "1.5.0",
            "_view_name": "HTMLView",
            "description": "",
            "description_tooltip": null,
            "layout": "IPY_MODEL_1ce52eff01854e168960309918b5e9b9",
            "placeholder": "​",
            "style": "IPY_MODEL_fe3db13f956b4f748bda24a1489d6276",
            "value": " 313/313 [00:01&lt;00:00, 237.44it/s]"
          }
        },
        "c0f87e381a02474c880910afc78b5cfc": {
          "model_module": "@jupyter-widgets/base",
          "model_name": "LayoutModel",
          "model_module_version": "1.2.0",
          "state": {
            "_model_module": "@jupyter-widgets/base",
            "_model_module_version": "1.2.0",
            "_model_name": "LayoutModel",
            "_view_count": null,
            "_view_module": "@jupyter-widgets/base",
            "_view_module_version": "1.2.0",
            "_view_name": "LayoutView",
            "align_content": null,
            "align_items": null,
            "align_self": null,
            "border": null,
            "bottom": null,
            "display": null,
            "flex": null,
            "flex_flow": null,
            "grid_area": null,
            "grid_auto_columns": null,
            "grid_auto_flow": null,
            "grid_auto_rows": null,
            "grid_column": null,
            "grid_gap": null,
            "grid_row": null,
            "grid_template_areas": null,
            "grid_template_columns": null,
            "grid_template_rows": null,
            "height": null,
            "justify_content": null,
            "justify_items": null,
            "left": null,
            "margin": null,
            "max_height": null,
            "max_width": null,
            "min_height": null,
            "min_width": null,
            "object_fit": null,
            "object_position": null,
            "order": null,
            "overflow": null,
            "overflow_x": null,
            "overflow_y": null,
            "padding": null,
            "right": null,
            "top": null,
            "visibility": null,
            "width": null
          }
        },
        "11dd6662ebb64e17a3c07631e6e0851c": {
          "model_module": "@jupyter-widgets/base",
          "model_name": "LayoutModel",
          "model_module_version": "1.2.0",
          "state": {
            "_model_module": "@jupyter-widgets/base",
            "_model_module_version": "1.2.0",
            "_model_name": "LayoutModel",
            "_view_count": null,
            "_view_module": "@jupyter-widgets/base",
            "_view_module_version": "1.2.0",
            "_view_name": "LayoutView",
            "align_content": null,
            "align_items": null,
            "align_self": null,
            "border": null,
            "bottom": null,
            "display": null,
            "flex": null,
            "flex_flow": null,
            "grid_area": null,
            "grid_auto_columns": null,
            "grid_auto_flow": null,
            "grid_auto_rows": null,
            "grid_column": null,
            "grid_gap": null,
            "grid_row": null,
            "grid_template_areas": null,
            "grid_template_columns": null,
            "grid_template_rows": null,
            "height": null,
            "justify_content": null,
            "justify_items": null,
            "left": null,
            "margin": null,
            "max_height": null,
            "max_width": null,
            "min_height": null,
            "min_width": null,
            "object_fit": null,
            "object_position": null,
            "order": null,
            "overflow": null,
            "overflow_x": null,
            "overflow_y": null,
            "padding": null,
            "right": null,
            "top": null,
            "visibility": null,
            "width": null
          }
        },
        "60d48616938a47feaade3625c0349587": {
          "model_module": "@jupyter-widgets/controls",
          "model_name": "DescriptionStyleModel",
          "model_module_version": "1.5.0",
          "state": {
            "_model_module": "@jupyter-widgets/controls",
            "_model_module_version": "1.5.0",
            "_model_name": "DescriptionStyleModel",
            "_view_count": null,
            "_view_module": "@jupyter-widgets/base",
            "_view_module_version": "1.2.0",
            "_view_name": "StyleView",
            "description_width": ""
          }
        },
        "4ab9f377cfec44ef949f2b91c141acd1": {
          "model_module": "@jupyter-widgets/base",
          "model_name": "LayoutModel",
          "model_module_version": "1.2.0",
          "state": {
            "_model_module": "@jupyter-widgets/base",
            "_model_module_version": "1.2.0",
            "_model_name": "LayoutModel",
            "_view_count": null,
            "_view_module": "@jupyter-widgets/base",
            "_view_module_version": "1.2.0",
            "_view_name": "LayoutView",
            "align_content": null,
            "align_items": null,
            "align_self": null,
            "border": null,
            "bottom": null,
            "display": null,
            "flex": null,
            "flex_flow": null,
            "grid_area": null,
            "grid_auto_columns": null,
            "grid_auto_flow": null,
            "grid_auto_rows": null,
            "grid_column": null,
            "grid_gap": null,
            "grid_row": null,
            "grid_template_areas": null,
            "grid_template_columns": null,
            "grid_template_rows": null,
            "height": null,
            "justify_content": null,
            "justify_items": null,
            "left": null,
            "margin": null,
            "max_height": null,
            "max_width": null,
            "min_height": null,
            "min_width": null,
            "object_fit": null,
            "object_position": null,
            "order": null,
            "overflow": null,
            "overflow_x": null,
            "overflow_y": null,
            "padding": null,
            "right": null,
            "top": null,
            "visibility": null,
            "width": null
          }
        },
        "6a40f50454df4a1eb84f3e09b40867cf": {
          "model_module": "@jupyter-widgets/controls",
          "model_name": "ProgressStyleModel",
          "model_module_version": "1.5.0",
          "state": {
            "_model_module": "@jupyter-widgets/controls",
            "_model_module_version": "1.5.0",
            "_model_name": "ProgressStyleModel",
            "_view_count": null,
            "_view_module": "@jupyter-widgets/base",
            "_view_module_version": "1.2.0",
            "_view_name": "StyleView",
            "bar_color": null,
            "description_width": ""
          }
        },
        "1ce52eff01854e168960309918b5e9b9": {
          "model_module": "@jupyter-widgets/base",
          "model_name": "LayoutModel",
          "model_module_version": "1.2.0",
          "state": {
            "_model_module": "@jupyter-widgets/base",
            "_model_module_version": "1.2.0",
            "_model_name": "LayoutModel",
            "_view_count": null,
            "_view_module": "@jupyter-widgets/base",
            "_view_module_version": "1.2.0",
            "_view_name": "LayoutView",
            "align_content": null,
            "align_items": null,
            "align_self": null,
            "border": null,
            "bottom": null,
            "display": null,
            "flex": null,
            "flex_flow": null,
            "grid_area": null,
            "grid_auto_columns": null,
            "grid_auto_flow": null,
            "grid_auto_rows": null,
            "grid_column": null,
            "grid_gap": null,
            "grid_row": null,
            "grid_template_areas": null,
            "grid_template_columns": null,
            "grid_template_rows": null,
            "height": null,
            "justify_content": null,
            "justify_items": null,
            "left": null,
            "margin": null,
            "max_height": null,
            "max_width": null,
            "min_height": null,
            "min_width": null,
            "object_fit": null,
            "object_position": null,
            "order": null,
            "overflow": null,
            "overflow_x": null,
            "overflow_y": null,
            "padding": null,
            "right": null,
            "top": null,
            "visibility": null,
            "width": null
          }
        },
        "fe3db13f956b4f748bda24a1489d6276": {
          "model_module": "@jupyter-widgets/controls",
          "model_name": "DescriptionStyleModel",
          "model_module_version": "1.5.0",
          "state": {
            "_model_module": "@jupyter-widgets/controls",
            "_model_module_version": "1.5.0",
            "_model_name": "DescriptionStyleModel",
            "_view_count": null,
            "_view_module": "@jupyter-widgets/base",
            "_view_module_version": "1.2.0",
            "_view_name": "StyleView",
            "description_width": ""
          }
        },
        "9b8a66a99c9d4e0395929ee95a13b903": {
          "model_module": "@jupyter-widgets/controls",
          "model_name": "HBoxModel",
          "model_module_version": "1.5.0",
          "state": {
            "_dom_classes": [],
            "_model_module": "@jupyter-widgets/controls",
            "_model_module_version": "1.5.0",
            "_model_name": "HBoxModel",
            "_view_count": null,
            "_view_module": "@jupyter-widgets/controls",
            "_view_module_version": "1.5.0",
            "_view_name": "HBoxView",
            "box_style": "",
            "children": [
              "IPY_MODEL_b1f505a86c1142a89206d595365c7cd5",
              "IPY_MODEL_26965b0a7f51469d839257b0622c2db4",
              "IPY_MODEL_111722ff18e342b1b3b7487ff599e3e9"
            ],
            "layout": "IPY_MODEL_536da83f3b034108bde4dc1bd3283261"
          }
        },
        "b1f505a86c1142a89206d595365c7cd5": {
          "model_module": "@jupyter-widgets/controls",
          "model_name": "HTMLModel",
          "model_module_version": "1.5.0",
          "state": {
            "_dom_classes": [],
            "_model_module": "@jupyter-widgets/controls",
            "_model_module_version": "1.5.0",
            "_model_name": "HTMLModel",
            "_view_count": null,
            "_view_module": "@jupyter-widgets/controls",
            "_view_module_version": "1.5.0",
            "_view_name": "HTMLView",
            "description": "",
            "description_tooltip": null,
            "layout": "IPY_MODEL_edf8c0850a464a94bc49801b58530d16",
            "placeholder": "​",
            "style": "IPY_MODEL_85fdb446ab15421598554e7ddd94fad6",
            "value": "100%"
          }
        },
        "26965b0a7f51469d839257b0622c2db4": {
          "model_module": "@jupyter-widgets/controls",
          "model_name": "FloatProgressModel",
          "model_module_version": "1.5.0",
          "state": {
            "_dom_classes": [],
            "_model_module": "@jupyter-widgets/controls",
            "_model_module_version": "1.5.0",
            "_model_name": "FloatProgressModel",
            "_view_count": null,
            "_view_module": "@jupyter-widgets/controls",
            "_view_module_version": "1.5.0",
            "_view_name": "ProgressView",
            "bar_style": "success",
            "description": "",
            "description_tooltip": null,
            "layout": "IPY_MODEL_b50d29c0507842ca8d1b7afa4c05ea3e",
            "max": 313,
            "min": 0,
            "orientation": "horizontal",
            "style": "IPY_MODEL_bfc92fef46ab4827a18c9fba0983f89f",
            "value": 313
          }
        },
        "111722ff18e342b1b3b7487ff599e3e9": {
          "model_module": "@jupyter-widgets/controls",
          "model_name": "HTMLModel",
          "model_module_version": "1.5.0",
          "state": {
            "_dom_classes": [],
            "_model_module": "@jupyter-widgets/controls",
            "_model_module_version": "1.5.0",
            "_model_name": "HTMLModel",
            "_view_count": null,
            "_view_module": "@jupyter-widgets/controls",
            "_view_module_version": "1.5.0",
            "_view_name": "HTMLView",
            "description": "",
            "description_tooltip": null,
            "layout": "IPY_MODEL_67399ebca2354144a0e93f07ccf4b487",
            "placeholder": "​",
            "style": "IPY_MODEL_eb1edd8b937c438c9ee6f98b49bfa689",
            "value": " 313/313 [00:02&lt;00:00, 84.01it/s]"
          }
        },
        "536da83f3b034108bde4dc1bd3283261": {
          "model_module": "@jupyter-widgets/base",
          "model_name": "LayoutModel",
          "model_module_version": "1.2.0",
          "state": {
            "_model_module": "@jupyter-widgets/base",
            "_model_module_version": "1.2.0",
            "_model_name": "LayoutModel",
            "_view_count": null,
            "_view_module": "@jupyter-widgets/base",
            "_view_module_version": "1.2.0",
            "_view_name": "LayoutView",
            "align_content": null,
            "align_items": null,
            "align_self": null,
            "border": null,
            "bottom": null,
            "display": null,
            "flex": null,
            "flex_flow": null,
            "grid_area": null,
            "grid_auto_columns": null,
            "grid_auto_flow": null,
            "grid_auto_rows": null,
            "grid_column": null,
            "grid_gap": null,
            "grid_row": null,
            "grid_template_areas": null,
            "grid_template_columns": null,
            "grid_template_rows": null,
            "height": null,
            "justify_content": null,
            "justify_items": null,
            "left": null,
            "margin": null,
            "max_height": null,
            "max_width": null,
            "min_height": null,
            "min_width": null,
            "object_fit": null,
            "object_position": null,
            "order": null,
            "overflow": null,
            "overflow_x": null,
            "overflow_y": null,
            "padding": null,
            "right": null,
            "top": null,
            "visibility": null,
            "width": null
          }
        },
        "edf8c0850a464a94bc49801b58530d16": {
          "model_module": "@jupyter-widgets/base",
          "model_name": "LayoutModel",
          "model_module_version": "1.2.0",
          "state": {
            "_model_module": "@jupyter-widgets/base",
            "_model_module_version": "1.2.0",
            "_model_name": "LayoutModel",
            "_view_count": null,
            "_view_module": "@jupyter-widgets/base",
            "_view_module_version": "1.2.0",
            "_view_name": "LayoutView",
            "align_content": null,
            "align_items": null,
            "align_self": null,
            "border": null,
            "bottom": null,
            "display": null,
            "flex": null,
            "flex_flow": null,
            "grid_area": null,
            "grid_auto_columns": null,
            "grid_auto_flow": null,
            "grid_auto_rows": null,
            "grid_column": null,
            "grid_gap": null,
            "grid_row": null,
            "grid_template_areas": null,
            "grid_template_columns": null,
            "grid_template_rows": null,
            "height": null,
            "justify_content": null,
            "justify_items": null,
            "left": null,
            "margin": null,
            "max_height": null,
            "max_width": null,
            "min_height": null,
            "min_width": null,
            "object_fit": null,
            "object_position": null,
            "order": null,
            "overflow": null,
            "overflow_x": null,
            "overflow_y": null,
            "padding": null,
            "right": null,
            "top": null,
            "visibility": null,
            "width": null
          }
        },
        "85fdb446ab15421598554e7ddd94fad6": {
          "model_module": "@jupyter-widgets/controls",
          "model_name": "DescriptionStyleModel",
          "model_module_version": "1.5.0",
          "state": {
            "_model_module": "@jupyter-widgets/controls",
            "_model_module_version": "1.5.0",
            "_model_name": "DescriptionStyleModel",
            "_view_count": null,
            "_view_module": "@jupyter-widgets/base",
            "_view_module_version": "1.2.0",
            "_view_name": "StyleView",
            "description_width": ""
          }
        },
        "b50d29c0507842ca8d1b7afa4c05ea3e": {
          "model_module": "@jupyter-widgets/base",
          "model_name": "LayoutModel",
          "model_module_version": "1.2.0",
          "state": {
            "_model_module": "@jupyter-widgets/base",
            "_model_module_version": "1.2.0",
            "_model_name": "LayoutModel",
            "_view_count": null,
            "_view_module": "@jupyter-widgets/base",
            "_view_module_version": "1.2.0",
            "_view_name": "LayoutView",
            "align_content": null,
            "align_items": null,
            "align_self": null,
            "border": null,
            "bottom": null,
            "display": null,
            "flex": null,
            "flex_flow": null,
            "grid_area": null,
            "grid_auto_columns": null,
            "grid_auto_flow": null,
            "grid_auto_rows": null,
            "grid_column": null,
            "grid_gap": null,
            "grid_row": null,
            "grid_template_areas": null,
            "grid_template_columns": null,
            "grid_template_rows": null,
            "height": null,
            "justify_content": null,
            "justify_items": null,
            "left": null,
            "margin": null,
            "max_height": null,
            "max_width": null,
            "min_height": null,
            "min_width": null,
            "object_fit": null,
            "object_position": null,
            "order": null,
            "overflow": null,
            "overflow_x": null,
            "overflow_y": null,
            "padding": null,
            "right": null,
            "top": null,
            "visibility": null,
            "width": null
          }
        },
        "bfc92fef46ab4827a18c9fba0983f89f": {
          "model_module": "@jupyter-widgets/controls",
          "model_name": "ProgressStyleModel",
          "model_module_version": "1.5.0",
          "state": {
            "_model_module": "@jupyter-widgets/controls",
            "_model_module_version": "1.5.0",
            "_model_name": "ProgressStyleModel",
            "_view_count": null,
            "_view_module": "@jupyter-widgets/base",
            "_view_module_version": "1.2.0",
            "_view_name": "StyleView",
            "bar_color": null,
            "description_width": ""
          }
        },
        "67399ebca2354144a0e93f07ccf4b487": {
          "model_module": "@jupyter-widgets/base",
          "model_name": "LayoutModel",
          "model_module_version": "1.2.0",
          "state": {
            "_model_module": "@jupyter-widgets/base",
            "_model_module_version": "1.2.0",
            "_model_name": "LayoutModel",
            "_view_count": null,
            "_view_module": "@jupyter-widgets/base",
            "_view_module_version": "1.2.0",
            "_view_name": "LayoutView",
            "align_content": null,
            "align_items": null,
            "align_self": null,
            "border": null,
            "bottom": null,
            "display": null,
            "flex": null,
            "flex_flow": null,
            "grid_area": null,
            "grid_auto_columns": null,
            "grid_auto_flow": null,
            "grid_auto_rows": null,
            "grid_column": null,
            "grid_gap": null,
            "grid_row": null,
            "grid_template_areas": null,
            "grid_template_columns": null,
            "grid_template_rows": null,
            "height": null,
            "justify_content": null,
            "justify_items": null,
            "left": null,
            "margin": null,
            "max_height": null,
            "max_width": null,
            "min_height": null,
            "min_width": null,
            "object_fit": null,
            "object_position": null,
            "order": null,
            "overflow": null,
            "overflow_x": null,
            "overflow_y": null,
            "padding": null,
            "right": null,
            "top": null,
            "visibility": null,
            "width": null
          }
        },
        "eb1edd8b937c438c9ee6f98b49bfa689": {
          "model_module": "@jupyter-widgets/controls",
          "model_name": "DescriptionStyleModel",
          "model_module_version": "1.5.0",
          "state": {
            "_model_module": "@jupyter-widgets/controls",
            "_model_module_version": "1.5.0",
            "_model_name": "DescriptionStyleModel",
            "_view_count": null,
            "_view_module": "@jupyter-widgets/base",
            "_view_module_version": "1.2.0",
            "_view_name": "StyleView",
            "description_width": ""
          }
        }
      }
    }
  },
  "nbformat": 4,
  "nbformat_minor": 0
}